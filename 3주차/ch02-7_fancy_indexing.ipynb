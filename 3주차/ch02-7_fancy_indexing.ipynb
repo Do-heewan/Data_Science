{
 "cells": [
  {
   "cell_type": "code",
   "execution_count": 1,
   "metadata": {},
   "outputs": [],
   "source": [
    "import numpy as np\n",
    "import pandas as pd"
   ]
  },
  {
   "cell_type": "markdown",
   "metadata": {},
   "source": [
    "# Fancy Indexing"
   ]
  },
  {
   "cell_type": "code",
   "execution_count": 2,
   "metadata": {},
   "outputs": [
    {
     "name": "stdout",
     "output_type": "stream",
     "text": [
      "[51 92 14 71 60 20 82 86 74 74]\n"
     ]
    }
   ],
   "source": [
    "rand = np.random.RandomState(42)\n",
    "\n",
    "x = rand.randint(100, size = 10)\n",
    "print(x)"
   ]
  },
  {
   "cell_type": "code",
   "execution_count": null,
   "metadata": {},
   "outputs": [
    {
     "name": "stdout",
     "output_type": "stream",
     "text": [
      "일반적인 인덱싱 : [71, 86, 14]\n",
      "리스트 삽입 : [71 86 60]\n",
      "ind 객체 사용 : [71 86 60]\n"
     ]
    }
   ],
   "source": [
    "ind = [3, 7, 4]\n",
    "\n",
    "print(f\"일반적인 인덱싱 : {[x[3], x[7], x[2]]}\")\n",
    "print(f\"리스트 삽입 : {x[[3, 7, 4]]}\")\n",
    "print(f\"ind 리스트트 사용 : {x[ind]}\")"
   ]
  },
  {
   "cell_type": "code",
   "execution_count": 6,
   "metadata": {},
   "outputs": [
    {
     "name": "stdout",
     "output_type": "stream",
     "text": [
      "1차원 인덱싱 : [71 86 60 20]\n",
      "2차원 인덱싱 : \n",
      "[[71 86]\n",
      " [60 20]]\n"
     ]
    }
   ],
   "source": [
    "ind = np.array([[3, 7],\n",
    "                [4, 5]])\n",
    "\n",
    "print(f\"1차원 인덱싱 : {x[[3, 7, 4, 5]]}\")\n",
    "print(f\"2차원 인덱싱 : \\n{x[ind]}\")"
   ]
  },
  {
   "cell_type": "markdown",
   "metadata": {},
   "source": [
    "### 2차원에서의 Fancy Indexing"
   ]
  },
  {
   "cell_type": "code",
   "execution_count": 17,
   "metadata": {},
   "outputs": [
    {
     "data": {
      "text/plain": [
       "array([[ 0,  1,  2,  3],\n",
       "       [ 4,  5,  6,  7],\n",
       "       [ 8,  9, 10, 11]])"
      ]
     },
     "execution_count": 17,
     "metadata": {},
     "output_type": "execute_result"
    }
   ],
   "source": [
    "x = np.arange(12).reshape((3, 4))\n",
    "x"
   ]
  },
  {
   "cell_type": "code",
   "execution_count": 18,
   "metadata": {},
   "outputs": [
    {
     "name": "stdout",
     "output_type": "stream",
     "text": [
      "[0, 2] : 2, [1, 1] : 5, [2, 3] : 11\n",
      "[ 2  5 11]\n"
     ]
    }
   ],
   "source": [
    "row = np.array([0, 1, 2])\n",
    "col = np.array([2, 1, 3])\n",
    "\n",
    "print(f\"[0, 2] : {x[0][2]}, [1, 1] : {x[1][1]}, [2, 3] : {x[2][3]}\")\n",
    "print(f\"{x[row, col]}\")"
   ]
  },
  {
   "cell_type": "markdown",
   "metadata": {},
   "source": [
    "### Broadcasting에서의 Fancy Indexing"
   ]
  },
  {
   "cell_type": "code",
   "execution_count": 19,
   "metadata": {},
   "outputs": [
    {
     "name": "stdout",
     "output_type": "stream",
     "text": [
      "row[:, np.newaxis]의 결과는 \n",
      "[[0]\n",
      " [1]\n",
      " [2]]이고, 이는 \n",
      "[[0, 0, 0], \n",
      " [1, 1, 1], \n",
      " [2, 2, 2]]가 된다\n",
      "\n",
      "col은 [2 1 3]이고, \n",
      "[[2, 1, 3], \n",
      " [2, 1, 3], \n",
      " [2, 1, 3]]이다\n",
      "\n",
      "따라서 X[row[:, np.newaxis], col]는 (0, 0)에 x[0][2], (0, 1)에 x[0][1] 순으로 들어가게 된다.\n",
      "[[ 2  1  3]\n",
      " [ 6  5  7]\n",
      " [10  9 11]]\n"
     ]
    }
   ],
   "source": [
    "print(f\"row[:, np.newaxis]의 결과는 \\n{row[:, np.newaxis]}이고, 이는 \\n[[0, 0, 0], \\n [1, 1, 1], \\n [2, 2, 2]]가 된다\\n\")\n",
    "print(f\"col은 {col}이고, \\n[[2, 1, 3], \\n [2, 1, 3], \\n [2, 1, 3]]이다\\n\")\n",
    "\n",
    "print(f\"따라서 X[row[:, np.newaxis], col]는 (0, 0)에 x[0][2], (0, 1)에 x[0][1] 순으로 들어가게 된다.\\n{X[row[:, np.newaxis], col]}\")"
   ]
  },
  {
   "cell_type": "code",
   "execution_count": 31,
   "metadata": {},
   "outputs": [
    {
     "name": "stdout",
     "output_type": "stream",
     "text": [
      "[[0]\n",
      " [1]\n",
      " [2]] * [2 1 3]는 \n",
      "\n",
      "[[0, 0, 0], \t[[2, 1, 3],\n",
      " [1, 1, 1],  *   [2, 1, 3],\n",
      " [2, 2, 2]] \t [2, 1, 3]]\n",
      "\n",
      "[[0 0 0]\n",
      " [2 1 3]\n",
      " [4 2 6]]이다\n",
      "\n"
     ]
    }
   ],
   "source": [
    "print(f\"\"\"{row[:, np.newaxis]} * {col}는 \\n\\n[[0, 0, 0], \\t[[2, 1, 3],\\n [1, 1, 1],  *   [2, 1, 3],\\n [2, 2, 2]] \\t [2, 1, 3]]\\n\n",
    "{row[:, np.newaxis] * col}이다\\n\"\"\")"
   ]
  },
  {
   "cell_type": "markdown",
   "metadata": {},
   "source": [
    "# Combined Indexing"
   ]
  },
  {
   "cell_type": "code",
   "execution_count": 42,
   "metadata": {},
   "outputs": [
    {
     "data": {
      "text/plain": [
       "array([[ 0,  1,  2,  3],\n",
       "       [ 4,  5,  6,  7],\n",
       "       [ 8,  9, 10, 11]])"
      ]
     },
     "execution_count": 42,
     "metadata": {},
     "output_type": "execute_result"
    }
   ],
   "source": [
    "X = np.arange(12).reshape((3, 4))\n",
    "X"
   ]
  },
  {
   "cell_type": "code",
   "execution_count": 43,
   "metadata": {},
   "outputs": [
    {
     "name": "stdout",
     "output_type": "stream",
     "text": [
      "[[ 0  1  2  3]\n",
      " [ 4  5  6  7]\n",
      " [ 8  9 10 11]]\n"
     ]
    }
   ],
   "source": [
    "print(x)"
   ]
  },
  {
   "cell_type": "code",
   "execution_count": 48,
   "metadata": {},
   "outputs": [
    {
     "name": "stdout",
     "output_type": "stream",
     "text": [
      "x[2][2] : 10, x[2][0] : 8, x[2][1] : 9\n",
      "x[2, [2, 0, 1]] : [10  8  9]\n"
     ]
    },
    {
     "data": {
      "text/plain": [
       "array([10,  8,  9])"
      ]
     },
     "execution_count": 48,
     "metadata": {},
     "output_type": "execute_result"
    }
   ],
   "source": [
    "print(f\"x[2][2] : {x[2][2]}, x[2][0] : {x[2][0]}, x[2][1] : {x[2][1]}\")\n",
    "print(f\"x[2, [2, 0, 1]] : {x[2, [2, 0, 1]]}\")\n",
    "\n",
    "X[2, [2, 0, 1]] # [X[2][2], X[2][0], X[2][1]]"
   ]
  },
  {
   "cell_type": "code",
   "execution_count": null,
   "metadata": {},
   "outputs": [
    {
     "data": {
      "text/plain": [
       "array([[ 6,  4,  5],\n",
       "       [10,  8,  9]])"
      ]
     },
     "execution_count": 50,
     "metadata": {},
     "output_type": "execute_result"
    }
   ],
   "source": [
    "X[1:, [2, 0, 1]] # [X[1][2], X[1][0], X[1][1], X[2][2], X[2][0], X[2][1]]"
   ]
  },
  {
   "cell_type": "code",
   "execution_count": 52,
   "metadata": {},
   "outputs": [
    {
     "data": {
      "text/plain": [
       "array([[0],\n",
       "       [1],\n",
       "       [2]])"
      ]
     },
     "execution_count": 52,
     "metadata": {},
     "output_type": "execute_result"
    }
   ],
   "source": [
    "row[:, np.newaxis]"
   ]
  },
  {
   "cell_type": "code",
   "execution_count": 55,
   "metadata": {},
   "outputs": [
    {
     "data": {
      "text/plain": [
       "array([ True, False,  True, False])"
      ]
     },
     "execution_count": 55,
     "metadata": {},
     "output_type": "execute_result"
    }
   ],
   "source": [
    "mask"
   ]
  },
  {
   "cell_type": "code",
   "execution_count": 58,
   "metadata": {},
   "outputs": [
    {
     "data": {
      "text/plain": [
       "array([[ 0,  2],\n",
       "       [ 4,  6],\n",
       "       [ 8, 10]])"
      ]
     },
     "execution_count": 58,
     "metadata": {},
     "output_type": "execute_result"
    }
   ],
   "source": [
    "mask = np.array([1, 0, 1, 0], dtype = bool)\n",
    "X[row[:, np.newaxis], mask]"
   ]
  },
  {
   "cell_type": "code",
   "execution_count": 65,
   "metadata": {},
   "outputs": [
    {
     "name": "stdout",
     "output_type": "stream",
     "text": [
      "row[:, np.newaxis] : \n",
      "[[0]\n",
      " [1]\n",
      " [2]]와 \n",
      "mask : [ True False  True False]를 합치게 되면\n",
      "\n",
      "[[True, False, True, False],\n",
      " [True, False, True, False],\n",
      " [True, False, True, False]] 가 된다.\n",
      "\n",
      "따라서 X[row[:, np.newaxis], mask]는\n",
      "[[ 0  2]\n",
      " [ 4  6]\n",
      " [ 8 10]]이다\n"
     ]
    }
   ],
   "source": [
    "print(f\"\"\"row[:, np.newaxis] : \\n{row[:, np.newaxis]}와 \\nmask : {mask}를 합치게 되면\\n\n",
    "[[True, False, True, False],\n",
    " [True, False, True, False],\n",
    " [True, False, True, False]] 가 된다.\n",
    "\n",
    "따라서 X[row[:, np.newaxis], mask]는\n",
    "{X[row[:, np.newaxis], mask]}이다\"\"\")"
   ]
  },
  {
   "cell_type": "markdown",
   "metadata": {},
   "source": [
    "# Example : Selecting Random Points"
   ]
  },
  {
   "cell_type": "code",
   "execution_count": null,
   "metadata": {},
   "outputs": [],
   "source": [
    "# 나중에"
   ]
  },
  {
   "cell_type": "markdown",
   "metadata": {},
   "source": [
    "# Fancy Indexing을 이용한 값 변경"
   ]
  },
  {
   "cell_type": "code",
   "execution_count": 73,
   "metadata": {},
   "outputs": [
    {
     "name": "stdout",
     "output_type": "stream",
     "text": [
      "변환 전 x : [0 1 2 3 4 5 6 7 8 9]\n",
      "x[i] = 99는 [x[2], x[1], x[8], x[4]] = 99를 의미한다.\n",
      "변환 후 x : [ 0 99 99  3 99  5  6  7 99  9]이다\n"
     ]
    }
   ],
   "source": [
    "x = np.arange(10)\n",
    "print(f\"변환 전 x : {x}\")\n",
    "i = np.array([2, 1, 8, 4])\n",
    "x[i] = 99\n",
    "\n",
    "print(f\"\"\"x[i] = 99는 [x[2], x[1], x[8], x[4]] = 99를 의미한다.\n",
    "변환 후 x : {x}이다\"\"\")"
   ]
  },
  {
   "cell_type": "code",
   "execution_count": null,
   "metadata": {},
   "outputs": [
    {
     "name": "stdout",
     "output_type": "stream",
     "text": [
      "x[i] -= 10는 [x[2], x[1], x[8], x[4]] 를 10씩 빼는 것을 의미한다.\n",
      "\n",
      "[ 0 89 89  3 89  5  6  7 89  9]\n"
     ]
    }
   ],
   "source": [
    "print(f\"x[i] -= 10는 [x[2], x[1], x[8], x[4]] 를 10씩 빼는 것을 의미한다.\")\n",
    "print(x)"
   ]
  },
  {
   "cell_type": "code",
   "execution_count": 104,
   "metadata": {},
   "outputs": [
    {
     "name": "stdout",
     "output_type": "stream",
     "text": [
      "[6. 0. 0. 0. 0. 0. 0. 0. 0. 0.]\n"
     ]
    }
   ],
   "source": [
    "x = np.zeros(10)\n",
    "x[[0, 0]] = [4, 6]\n",
    "print(x)"
   ]
  },
  {
   "cell_type": "code",
   "execution_count": null,
   "metadata": {},
   "outputs": [
    {
     "ename": "SyntaxError",
     "evalue": "f-string: expecting '!', or ':', or '}' (3245715125.py, line 2)",
     "output_type": "error",
     "traceback": [
      "\u001b[1;36m  Cell \u001b[1;32mIn[105], line 2\u001b[1;36m\u001b[0m\n\u001b[1;33m    print(f\"0에 4 넣고, 0에 6을 넣어라 : {x[[0, 0]] = [4, 6]}\")\u001b[0m\n\u001b[1;37m                                              ^\u001b[0m\n\u001b[1;31mSyntaxError\u001b[0m\u001b[1;31m:\u001b[0m f-string: expecting '!', or ':', or '}'\n"
     ]
    }
   ],
   "source": [
    "x = np.zeros(10)\n",
    "print(f\"0에 4 넣고, 0에 6을 넣어라 : {x[[0, 0]] = [4, 6]}\") # Error"
   ]
  },
  {
   "cell_type": "code",
   "execution_count": null,
   "metadata": {},
   "outputs": [
    {
     "data": {
      "text/plain": [
       "array([6., 0., 1., 1., 1., 0., 0., 0., 0., 0.])"
      ]
     },
     "execution_count": 106,
     "metadata": {},
     "output_type": "execute_result"
    }
   ],
   "source": [
    "i = [2, 3, 3, 4, 4, 4]\n",
    "x[i] += 1 # 실제로 연산을 진행하면 한 번 실행된다.\n",
    "x"
   ]
  },
  {
   "cell_type": "code",
   "execution_count": null,
   "metadata": {},
   "outputs": [
    {
     "name": "stdout",
     "output_type": "stream",
     "text": [
      "[0. 0. 1. 2. 3. 0. 0. 0. 0. 0.]\n"
     ]
    }
   ],
   "source": [
    "x = np.zeros(10)\n",
    "np.add.at(x, i, 1) # add연산은 + 연산과는 다르게 여러 번 실행된다.\n",
    "print(x)"
   ]
  },
  {
   "cell_type": "markdown",
   "metadata": {},
   "source": [
    "# Example: Binning Data"
   ]
  },
  {
   "cell_type": "code",
   "execution_count": 108,
   "metadata": {},
   "outputs": [],
   "source": [
    "# 나중에"
   ]
  }
 ],
 "metadata": {
  "kernelspec": {
   "display_name": "base",
   "language": "python",
   "name": "python3"
  },
  "language_info": {
   "codemirror_mode": {
    "name": "ipython",
    "version": 3
   },
   "file_extension": ".py",
   "mimetype": "text/x-python",
   "name": "python",
   "nbconvert_exporter": "python",
   "pygments_lexer": "ipython3",
   "version": "3.12.7"
  }
 },
 "nbformat": 4,
 "nbformat_minor": 2
}
