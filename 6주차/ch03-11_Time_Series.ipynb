{
 "cells": [
  {
   "cell_type": "markdown",
   "id": "80aa97c7",
   "metadata": {},
   "source": [
    "# Dates and Times in Python"
   ]
  },
  {
   "cell_type": "code",
   "execution_count": 10,
   "id": "a301fc1e",
   "metadata": {},
   "outputs": [
    {
     "data": {
      "text/plain": [
       "datetime.datetime(2025, 4, 17, 0, 0)"
      ]
     },
     "execution_count": 10,
     "metadata": {},
     "output_type": "execute_result"
    }
   ],
   "source": [
    "from datetime import datetime\n",
    "datetime(year = 2025, month = 4, day = 17)"
   ]
  },
  {
   "cell_type": "code",
   "execution_count": 11,
   "id": "ff6c01f2",
   "metadata": {},
   "outputs": [
    {
     "name": "stdout",
     "output_type": "stream",
     "text": [
      "2025-04-17 00:00:00\n"
     ]
    }
   ],
   "source": [
    "from dateutil import parser\n",
    "date = parser.parse(\"2025-04-17\")\n",
    "print(date)"
   ]
  },
  {
   "cell_type": "code",
   "execution_count": 12,
   "id": "3e216392",
   "metadata": {},
   "outputs": [
    {
     "data": {
      "text/plain": [
       "'Thursday'"
      ]
     },
     "execution_count": 12,
     "metadata": {},
     "output_type": "execute_result"
    }
   ],
   "source": [
    "date.strftime('%A')"
   ]
  },
  {
   "cell_type": "code",
   "execution_count": 15,
   "id": "28fa5a4d",
   "metadata": {},
   "outputs": [
    {
     "data": {
      "text/plain": [
       "datetime.datetime(2025, 4, 17, 0, 0)"
      ]
     },
     "execution_count": 15,
     "metadata": {},
     "output_type": "execute_result"
    }
   ],
   "source": [
    "date.strptime(\"2025-04-17\", \"%Y-%m-%d\")"
   ]
  },
  {
   "attachments": {
    "image.png": {
     "image/png": "[encoded data removed]"
    }
   },
   "cell_type": "markdown",
   "id": "9810a14d",
   "metadata": {},
   "source": [
    "![image.png](attachment:image.png)"
   ]
  },
  {
   "cell_type": "markdown",
   "id": "19d4d904",
   "metadata": {},
   "source": [
    "## In Numpy"
   ]
  },
  {
   "cell_type": "code",
   "execution_count": null,
   "id": "c0c900f6",
   "metadata": {},
   "outputs": [
    {
     "data": {
      "text/plain": [
       "array('2001-04-17', dtype='datetime64[D]')"
      ]
     },
     "execution_count": 6,
     "metadata": {},
     "output_type": "execute_result"
    }
   ],
   "source": [
    "import numpy as np\n",
    "\n",
    "date = np.array('2001-04-17', dtype = np.datetime64) # 64비트 정수형 변환\n",
    "date"
   ]
  },
  {
   "cell_type": "code",
   "execution_count": null,
   "id": "f9cbe6f4",
   "metadata": {},
   "outputs": [
    {
     "data": {
      "text/plain": [
       "array(['2001-04-17', '2001-04-18', '2001-04-19', '2001-04-20',\n",
       "       '2001-04-21', '2001-04-22', '2001-04-23', '2001-04-24',\n",
       "       '2001-04-25', '2001-04-26', '2001-04-27', '2001-04-28'],\n",
       "      dtype='datetime64[D]')"
      ]
     },
     "execution_count": 7,
     "metadata": {},
     "output_type": "execute_result"
    }
   ],
   "source": [
    "date + np.arange(12) # 정수 연산"
   ]
  },
  {
   "cell_type": "code",
   "execution_count": null,
   "id": "aa118a53",
   "metadata": {},
   "outputs": [
    {
     "name": "stdout",
     "output_type": "stream",
     "text": [
      "2025-04-17\n",
      "2025-04-17T12:00:00\n",
      "2025-04-17T12:00:00.000000000\n"
     ]
    }
   ],
   "source": [
    "print(np.datetime64('2025-04-17'))\n",
    "print(np.datetime64('2025-04-17T12:00:00'))# 날짜와 시간\n",
    "print(np.datetime64('2025-04-17T12:00:00', 'ns')) # ns 단위로 자르기"
   ]
  },
  {
   "cell_type": "markdown",
   "id": "fc993746",
   "metadata": {},
   "source": [
    "## In Pandas"
   ]
  },
  {
   "cell_type": "code",
   "execution_count": 18,
   "id": "05a0cf4a",
   "metadata": {},
   "outputs": [
    {
     "data": {
      "text/plain": [
       "Timestamp('2025-04-17 00:00:00')"
      ]
     },
     "execution_count": 18,
     "metadata": {},
     "output_type": "execute_result"
    }
   ],
   "source": [
    "import pandas as pd\n",
    "date = pd.to_datetime(\"2025-04-17\")\n",
    "date"
   ]
  },
  {
   "cell_type": "code",
   "execution_count": 19,
   "id": "29f8eb3b",
   "metadata": {},
   "outputs": [
    {
     "data": {
      "text/plain": [
       "'Thursday'"
      ]
     },
     "execution_count": 19,
     "metadata": {},
     "output_type": "execute_result"
    }
   ],
   "source": [
    "date.strftime('%A')"
   ]
  },
  {
   "cell_type": "code",
   "execution_count": 23,
   "id": "c1d0aefa",
   "metadata": {},
   "outputs": [
    {
     "data": {
      "text/plain": [
       "DatetimeIndex(['2025-04-17', '2025-04-18', '2025-04-19', '2025-04-20',\n",
       "               '2025-04-21', '2025-04-22', '2025-04-23', '2025-04-24',\n",
       "               '2025-04-25', '2025-04-26', '2025-04-27', '2025-04-28'],\n",
       "              dtype='datetime64[ns]', freq=None)"
      ]
     },
     "execution_count": 23,
     "metadata": {},
     "output_type": "execute_result"
    }
   ],
   "source": [
    "date + pd.to_timedelta(np.arange(12), 'D') # Day로 12일 더하기"
   ]
  },
  {
   "cell_type": "markdown",
   "id": "c7de5012",
   "metadata": {},
   "source": [
    "# Pandas Time Series"
   ]
  },
  {
   "cell_type": "code",
   "execution_count": 24,
   "id": "85b7157b",
   "metadata": {},
   "outputs": [
    {
     "data": {
      "text/plain": [
       "2014-07-14    0\n",
       "2014-08-14    1\n",
       "2015-07-14    2\n",
       "2015-08-14    3\n",
       "dtype: int64"
      ]
     },
     "execution_count": 24,
     "metadata": {},
     "output_type": "execute_result"
    }
   ],
   "source": [
    "index = pd.DatetimeIndex(['2014-07-14', '2014-08-14', '2015-07-14', '2015-08-14'])\n",
    "data = pd.Series([0, 1, 2, 3], index = index)\n",
    "data"
   ]
  },
  {
   "cell_type": "code",
   "execution_count": 26,
   "id": "bcc40a65",
   "metadata": {},
   "outputs": [
    {
     "data": {
      "text/plain": [
       "2015-07-14    2\n",
       "2015-08-14    3\n",
       "dtype: int64"
      ]
     },
     "execution_count": 26,
     "metadata": {},
     "output_type": "execute_result"
    }
   ],
   "source": [
    "data['2015'] # 연도를 인덱스로 바로 활용"
   ]
  },
  {
   "cell_type": "markdown",
   "id": "be2ae287",
   "metadata": {},
   "source": [
    "## Pandas Time Series 자료 구조\n",
    "\n",
    "`Timestamp` `DatetimeIndex` `PeriodIndex` `TimedeltaIndex`"
   ]
  },
  {
   "cell_type": "code",
   "execution_count": 33,
   "id": "0f337220",
   "metadata": {},
   "outputs": [
    {
     "data": {
      "text/plain": [
       "DatetimeIndex(['2025-04-17', '2001-04-17', '2020-03-02', '2020-12-05'], dtype='datetime64[ns]', freq=None)"
      ]
     },
     "execution_count": 33,
     "metadata": {},
     "output_type": "execute_result"
    }
   ],
   "source": [
    "dates = pd.to_datetime([datetime(2025, 4, 17), '17th of April, 2001', '2020-03-02', '20201205'])\n",
    "dates"
   ]
  },
  {
   "cell_type": "code",
   "execution_count": 34,
   "id": "9a93ecb2",
   "metadata": {},
   "outputs": [
    {
     "data": {
      "text/plain": [
       "PeriodIndex(['2025-04-17', '2001-04-17', '2020-03-02', '2020-12-05'], dtype='period[D]')"
      ]
     },
     "execution_count": 34,
     "metadata": {},
     "output_type": "execute_result"
    }
   ],
   "source": [
    "dates.to_period('D')"
   ]
  },
  {
   "cell_type": "code",
   "execution_count": 37,
   "id": "376046be",
   "metadata": {},
   "outputs": [
    {
     "data": {
      "text/plain": [
       "Timestamp('2025-04-17 00:00:00')"
      ]
     },
     "execution_count": 37,
     "metadata": {},
     "output_type": "execute_result"
    }
   ],
   "source": [
    "dates[0]"
   ]
  },
  {
   "cell_type": "code",
   "execution_count": 40,
   "id": "be7f9cff",
   "metadata": {},
   "outputs": [
    {
     "name": "stdout",
     "output_type": "stream",
     "text": [
      "날짜 인덱스 : DatetimeIndex(['2025-04-17', '2001-04-17', '2020-03-02', '2020-12-05'], dtype='datetime64[ns]', freq=None)\n",
      "첫번째 날짜 : 2025-04-17 00:00:00\n",
      "dates - dates[0] : TimedeltaIndex(['0 days', '-8766 days', '-1872 days', '-1594 days'], dtype='timedelta64[ns]', freq=None)\n"
     ]
    }
   ],
   "source": [
    "print(f\"날짜 인덱스 : {dates}\")\n",
    "print(f\"첫번째 날짜 : {dates[0]}\")\n",
    "print(f\"dates - dates[0] : {dates - dates[0]}\") # dates[0]을 기준으로 날짜 차이 계산"
   ]
  },
  {
   "cell_type": "markdown",
   "id": "34d267a5",
   "metadata": {},
   "source": [
    "## Regular Sequences"
   ]
  },
  {
   "cell_type": "code",
   "execution_count": null,
   "id": "a1b807fb",
   "metadata": {},
   "outputs": [
    {
     "data": {
      "text/plain": [
       "DatetimeIndex(['2025-04-17', '2025-04-18', '2025-04-19', '2025-04-20',\n",
       "               '2025-04-21', '2025-04-22', '2025-04-23', '2025-04-24',\n",
       "               '2025-04-25', '2025-04-26', '2025-04-27', '2025-04-28',\n",
       "               '2025-04-29', '2025-04-30'],\n",
       "              dtype='datetime64[ns]', freq='D')"
      ]
     },
     "execution_count": 42,
     "metadata": {},
     "output_type": "execute_result"
    }
   ],
   "source": [
    "pd.date_range('2025-04-17', '2025-04-30') # default : [D], 날짜 범위 생성"
   ]
  },
  {
   "cell_type": "code",
   "execution_count": 43,
   "id": "5f700c1d",
   "metadata": {},
   "outputs": [
    {
     "data": {
      "text/plain": [
       "DatetimeIndex(['2025-04-17', '2025-04-18', '2025-04-19', '2025-04-20',\n",
       "               '2025-04-21', '2025-04-22', '2025-04-23', '2025-04-24',\n",
       "               '2025-04-25', '2025-04-26', '2025-04-27', '2025-04-28'],\n",
       "              dtype='datetime64[ns]', freq='D')"
      ]
     },
     "execution_count": 43,
     "metadata": {},
     "output_type": "execute_result"
    }
   ],
   "source": [
    "pd.date_range('2025-04-17', periods = 12) # 12일 생성"
   ]
  },
  {
   "cell_type": "code",
   "execution_count": 45,
   "id": "f593f216",
   "metadata": {},
   "outputs": [
    {
     "name": "stderr",
     "output_type": "stream",
     "text": [
      "C:\\Users\\Noh\\AppData\\Local\\Temp\\ipykernel_6708\\2203586597.py:1: FutureWarning: 'H' is deprecated and will be removed in a future version, please use 'h' instead.\n",
      "  pd.date_range('2025-04-17', freq = 'H', periods = 12) # H : hour 기준으로 12개 생성\n"
     ]
    },
    {
     "data": {
      "text/plain": [
       "DatetimeIndex(['2025-04-17 00:00:00', '2025-04-17 01:00:00',\n",
       "               '2025-04-17 02:00:00', '2025-04-17 03:00:00',\n",
       "               '2025-04-17 04:00:00', '2025-04-17 05:00:00',\n",
       "               '2025-04-17 06:00:00', '2025-04-17 07:00:00',\n",
       "               '2025-04-17 08:00:00', '2025-04-17 09:00:00',\n",
       "               '2025-04-17 10:00:00', '2025-04-17 11:00:00'],\n",
       "              dtype='datetime64[ns]', freq='h')"
      ]
     },
     "execution_count": 45,
     "metadata": {},
     "output_type": "execute_result"
    }
   ],
   "source": [
    "pd.date_range('2025-04-17', freq = 'H', periods = 12) # H : hour 기준으로 12개 생성"
   ]
  },
  {
   "cell_type": "markdown",
   "id": "1aba9547",
   "metadata": {},
   "source": [
    "# Frequencies and Offsets\n",
    "\n",
    "`D` : Calendar Day\n",
    "`B` : Business Day\n",
    "\n",
    "`W` : Weekly\n",
    "\n",
    "`M` : Month end\n",
    "\n",
    "..."
   ]
  },
  {
   "cell_type": "markdown",
   "id": "99eb1975",
   "metadata": {},
   "source": [
    "# Resampling, Shifting, Windowing"
   ]
  },
  {
   "cell_type": "code",
   "execution_count": 1,
   "id": "983ccc5e",
   "metadata": {},
   "outputs": [
    {
     "ename": "AttributeError",
     "evalue": "'NoneType' object has no attribute 'group'",
     "output_type": "error",
     "traceback": [
      "\u001b[1;31m---------------------------------------------------------------------------\u001b[0m",
      "\u001b[1;31mAttributeError\u001b[0m                            Traceback (most recent call last)",
      "Cell \u001b[1;32mIn[1], line 3\u001b[0m\n\u001b[0;32m      1\u001b[0m \u001b[38;5;28;01mfrom\u001b[39;00m \u001b[38;5;21;01mpandas_datareader\u001b[39;00m \u001b[38;5;28;01mimport\u001b[39;00m data\n\u001b[1;32m----> 3\u001b[0m goog \u001b[38;5;241m=\u001b[39m data\u001b[38;5;241m.\u001b[39mDataReader(\u001b[38;5;124m'\u001b[39m\u001b[38;5;124m^GSPC\u001b[39m\u001b[38;5;124m'\u001b[39m, start \u001b[38;5;241m=\u001b[39m \u001b[38;5;124m'\u001b[39m\u001b[38;5;124m2018\u001b[39m\u001b[38;5;124m'\u001b[39m, end \u001b[38;5;241m=\u001b[39m \u001b[38;5;124m'\u001b[39m\u001b[38;5;124m2022\u001b[39m\u001b[38;5;124m'\u001b[39m, data_source \u001b[38;5;241m=\u001b[39m \u001b[38;5;124m'\u001b[39m\u001b[38;5;124myahoo\u001b[39m\u001b[38;5;124m'\u001b[39m)\n\u001b[0;32m      4\u001b[0m goog\u001b[38;5;241m.\u001b[39mhead\n",
      "File \u001b[1;32mc:\\Users\\Noh\\anaconda3\\Lib\\site-packages\\pandas\\util\\_decorators.py:213\u001b[0m, in \u001b[0;36mdeprecate_kwarg.<locals>._deprecate_kwarg.<locals>.wrapper\u001b[1;34m(*args, **kwargs)\u001b[0m\n\u001b[0;32m    211\u001b[0m         \u001b[38;5;28;01mraise\u001b[39;00m \u001b[38;5;167;01mTypeError\u001b[39;00m(msg)\n\u001b[0;32m    212\u001b[0m     kwargs[new_arg_name] \u001b[38;5;241m=\u001b[39m new_arg_value\n\u001b[1;32m--> 213\u001b[0m \u001b[38;5;28;01mreturn\u001b[39;00m func(\u001b[38;5;241m*\u001b[39margs, \u001b[38;5;241m*\u001b[39m\u001b[38;5;241m*\u001b[39mkwargs)\n",
      "File \u001b[1;32mc:\\Users\\Noh\\anaconda3\\Lib\\site-packages\\pandas_datareader\\data.py:379\u001b[0m, in \u001b[0;36mDataReader\u001b[1;34m(name, data_source, start, end, retry_count, pause, session, api_key)\u001b[0m\n\u001b[0;32m    367\u001b[0m     \u001b[38;5;28;01mraise\u001b[39;00m \u001b[38;5;167;01mNotImplementedError\u001b[39;00m(msg)\n\u001b[0;32m    369\u001b[0m \u001b[38;5;28;01mif\u001b[39;00m data_source \u001b[38;5;241m==\u001b[39m \u001b[38;5;124m\"\u001b[39m\u001b[38;5;124myahoo\u001b[39m\u001b[38;5;124m\"\u001b[39m:\n\u001b[0;32m    370\u001b[0m     \u001b[38;5;28;01mreturn\u001b[39;00m YahooDailyReader(\n\u001b[0;32m    371\u001b[0m         symbols\u001b[38;5;241m=\u001b[39mname,\n\u001b[0;32m    372\u001b[0m         start\u001b[38;5;241m=\u001b[39mstart,\n\u001b[0;32m    373\u001b[0m         end\u001b[38;5;241m=\u001b[39mend,\n\u001b[0;32m    374\u001b[0m         adjust_price\u001b[38;5;241m=\u001b[39m\u001b[38;5;28;01mFalse\u001b[39;00m,\n\u001b[0;32m    375\u001b[0m         chunksize\u001b[38;5;241m=\u001b[39m\u001b[38;5;241m25\u001b[39m,\n\u001b[0;32m    376\u001b[0m         retry_count\u001b[38;5;241m=\u001b[39mretry_count,\n\u001b[0;32m    377\u001b[0m         pause\u001b[38;5;241m=\u001b[39mpause,\n\u001b[0;32m    378\u001b[0m         session\u001b[38;5;241m=\u001b[39msession,\n\u001b[1;32m--> 379\u001b[0m     )\u001b[38;5;241m.\u001b[39mread()\n\u001b[0;32m    381\u001b[0m \u001b[38;5;28;01melif\u001b[39;00m data_source \u001b[38;5;241m==\u001b[39m \u001b[38;5;124m\"\u001b[39m\u001b[38;5;124miex\u001b[39m\u001b[38;5;124m\"\u001b[39m:\n\u001b[0;32m    382\u001b[0m     \u001b[38;5;28;01mreturn\u001b[39;00m IEXDailyReader(\n\u001b[0;32m    383\u001b[0m         symbols\u001b[38;5;241m=\u001b[39mname,\n\u001b[0;32m    384\u001b[0m         start\u001b[38;5;241m=\u001b[39mstart,\n\u001b[1;32m   (...)\u001b[0m\n\u001b[0;32m    390\u001b[0m         session\u001b[38;5;241m=\u001b[39msession,\n\u001b[0;32m    391\u001b[0m     )\u001b[38;5;241m.\u001b[39mread()\n",
      "File \u001b[1;32mc:\\Users\\Noh\\anaconda3\\Lib\\site-packages\\pandas_datareader\\base.py:253\u001b[0m, in \u001b[0;36m_DailyBaseReader.read\u001b[1;34m(self)\u001b[0m\n\u001b[0;32m    251\u001b[0m \u001b[38;5;66;03m# If a single symbol, (e.g., 'GOOG')\u001b[39;00m\n\u001b[0;32m    252\u001b[0m \u001b[38;5;28;01mif\u001b[39;00m \u001b[38;5;28misinstance\u001b[39m(\u001b[38;5;28mself\u001b[39m\u001b[38;5;241m.\u001b[39msymbols, (string_types, \u001b[38;5;28mint\u001b[39m)):\n\u001b[1;32m--> 253\u001b[0m     df \u001b[38;5;241m=\u001b[39m \u001b[38;5;28mself\u001b[39m\u001b[38;5;241m.\u001b[39m_read_one_data(\u001b[38;5;28mself\u001b[39m\u001b[38;5;241m.\u001b[39murl, params\u001b[38;5;241m=\u001b[39m\u001b[38;5;28mself\u001b[39m\u001b[38;5;241m.\u001b[39m_get_params(\u001b[38;5;28mself\u001b[39m\u001b[38;5;241m.\u001b[39msymbols))\n\u001b[0;32m    254\u001b[0m \u001b[38;5;66;03m# Or multiple symbols, (e.g., ['GOOG', 'AAPL', 'MSFT'])\u001b[39;00m\n\u001b[0;32m    255\u001b[0m \u001b[38;5;28;01melif\u001b[39;00m \u001b[38;5;28misinstance\u001b[39m(\u001b[38;5;28mself\u001b[39m\u001b[38;5;241m.\u001b[39msymbols, DataFrame):\n",
      "File \u001b[1;32mc:\\Users\\Noh\\anaconda3\\Lib\\site-packages\\pandas_datareader\\yahoo\\daily.py:152\u001b[0m, in \u001b[0;36mYahooDailyReader._read_one_data\u001b[1;34m(self, url, params)\u001b[0m\n\u001b[0;32m    150\u001b[0m ptrn \u001b[38;5;241m=\u001b[39m \u001b[38;5;124mr\u001b[39m\u001b[38;5;124m\"\u001b[39m\u001b[38;5;124mroot\u001b[39m\u001b[38;5;124m\\\u001b[39m\u001b[38;5;124m.App\u001b[39m\u001b[38;5;124m\\\u001b[39m\u001b[38;5;124m.main = (.*?);\u001b[39m\u001b[38;5;124m\\\u001b[39m\u001b[38;5;124mn}\u001b[39m\u001b[38;5;124m\\\u001b[39m\u001b[38;5;124m(this\u001b[39m\u001b[38;5;124m\\\u001b[39m\u001b[38;5;124m)\u001b[39m\u001b[38;5;124m\\\u001b[39m\u001b[38;5;124m);\u001b[39m\u001b[38;5;124m\"\u001b[39m\n\u001b[0;32m    151\u001b[0m \u001b[38;5;28;01mtry\u001b[39;00m:\n\u001b[1;32m--> 152\u001b[0m     j \u001b[38;5;241m=\u001b[39m json\u001b[38;5;241m.\u001b[39mloads(re\u001b[38;5;241m.\u001b[39msearch(ptrn, resp\u001b[38;5;241m.\u001b[39mtext, re\u001b[38;5;241m.\u001b[39mDOTALL)\u001b[38;5;241m.\u001b[39mgroup(\u001b[38;5;241m1\u001b[39m))\n\u001b[0;32m    153\u001b[0m     data \u001b[38;5;241m=\u001b[39m j[\u001b[38;5;124m\"\u001b[39m\u001b[38;5;124mcontext\u001b[39m\u001b[38;5;124m\"\u001b[39m][\u001b[38;5;124m\"\u001b[39m\u001b[38;5;124mdispatcher\u001b[39m\u001b[38;5;124m\"\u001b[39m][\u001b[38;5;124m\"\u001b[39m\u001b[38;5;124mstores\u001b[39m\u001b[38;5;124m\"\u001b[39m][\u001b[38;5;124m\"\u001b[39m\u001b[38;5;124mHistoricalPriceStore\u001b[39m\u001b[38;5;124m\"\u001b[39m]\n\u001b[0;32m    154\u001b[0m \u001b[38;5;28;01mexcept\u001b[39;00m \u001b[38;5;167;01mKeyError\u001b[39;00m:\n",
      "\u001b[1;31mAttributeError\u001b[0m: 'NoneType' object has no attribute 'group'"
     ]
    }
   ],
   "source": [
    "from pandas_datareader import data\n",
    "\n",
    "goog = data.DataReader('^GSPC', start = '2018', end = '2022', data_source = 'yahoo')\n",
    "goog.head"
   ]
  },
  {
   "cell_type": "markdown",
   "id": "24f99639",
   "metadata": {},
   "source": [
    "resample : group by랑 비슷하게 (aggregation)\n",
    "\n",
    "asfreq : 지정한 한 날 가져옴 (data selection)"
   ]
  },
  {
   "cell_type": "markdown",
   "id": "f5c8ee03",
   "metadata": {},
   "source": [
    "## Time Shift\n",
    "\n",
    "날짜 이동"
   ]
  },
  {
   "cell_type": "markdown",
   "id": "6d8ec819",
   "metadata": {},
   "source": [
    "## Rolling Windows (Windowing)\n",
    "\n",
    "moving average (이동 평균)"
   ]
  }
 ],
 "metadata": {
  "kernelspec": {
   "display_name": "base",
   "language": "python",
   "name": "python3"
  },
  "language_info": {
   "codemirror_mode": {
    "name": "ipython",
    "version": 3
   },
   "file_extension": ".py",
   "mimetype": "text/x-python",
   "name": "python",
   "nbconvert_exporter": "python",
   "pygments_lexer": "ipython3",
   "version": "3.12.7"
  }
 },
 "nbformat": 4,
 "nbformat_minor": 5
}
