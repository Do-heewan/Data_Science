{
 "cells": [
  {
   "cell_type": "markdown",
   "metadata": {
    "id": "Xo8nahDkHKEG"
   },
   "source": [
    "# Reshaping of Arrays"
   ]
  },
  {
   "cell_type": "code",
   "execution_count": 2,
   "metadata": {
    "executionInfo": {
     "elapsed": 8,
     "status": "ok",
     "timestamp": 1741745183135,
     "user": {
      "displayName": "희완",
      "userId": "08169894782276826481"
     },
     "user_tz": -540
    },
    "id": "2oGU-ViwGkGW"
   },
   "outputs": [],
   "source": [
    "import numpy as np"
   ]
  },
  {
   "cell_type": "markdown",
   "metadata": {
    "id": "V43KPfK3HtgV"
   },
   "source": [
    "### 1x9 를 3x3으로 변환"
   ]
  },
  {
   "cell_type": "code",
   "execution_count": 4,
   "metadata": {
    "colab": {
     "base_uri": "https://localhost:8080/"
    },
    "executionInfo": {
     "elapsed": 24,
     "status": "ok",
     "timestamp": 1741745188090,
     "user": {
      "displayName": "희완",
      "userId": "08169894782276826481"
     },
     "user_tz": -540
    },
    "id": "yI5Le8yqEqpn",
    "outputId": "9ca17494-a347-4144-8e44-70e078846d1c"
   },
   "outputs": [
    {
     "data": {
      "text/plain": [
       "array([[1, 2, 3],\n",
       "       [4, 5, 6],\n",
       "       [7, 8, 9]])"
      ]
     },
     "execution_count": 4,
     "metadata": {},
     "output_type": "execute_result"
    }
   ],
   "source": [
    "grid = np.arange(1, 10).reshape(3, 3)\n",
    "grid"
   ]
  },
  {
   "cell_type": "code",
   "execution_count": 20,
   "metadata": {
    "colab": {
     "base_uri": "https://localhost:8080/"
    },
    "executionInfo": {
     "elapsed": 3,
     "status": "ok",
     "timestamp": 1741745626207,
     "user": {
      "displayName": "희완",
      "userId": "08169894782276826481"
     },
     "user_tz": -540
    },
    "id": "WZNHUgPfHV4u",
    "outputId": "5ddb9711-983f-470d-f3dc-956b7dda42e7"
   },
   "outputs": [
    {
     "data": {
      "text/plain": [
       "array([1, 2, 3])"
      ]
     },
     "execution_count": 20,
     "metadata": {},
     "output_type": "execute_result"
    }
   ],
   "source": [
    "x = np.array([1, 2, 3])\n",
    "x"
   ]
  },
  {
   "cell_type": "markdown",
   "metadata": {
    "id": "1_kca4nMHfBV"
   },
   "source": [
    "### 행, 열을 늘려주는 메소드"
   ]
  },
  {
   "cell_type": "code",
   "execution_count": 22,
   "metadata": {
    "colab": {
     "base_uri": "https://localhost:8080/"
    },
    "executionInfo": {
     "elapsed": 11,
     "status": "ok",
     "timestamp": 1741745633986,
     "user": {
      "displayName": "희완",
      "userId": "08169894782276826481"
     },
     "user_tz": -540
    },
    "id": "sdPpir51HQ5N",
    "outputId": "3b5c5ce0-745a-4856-9f36-3c2ab368577e"
   },
   "outputs": [
    {
     "data": {
      "text/plain": [
       "array([[1, 2, 3]])"
      ]
     },
     "execution_count": 22,
     "metadata": {},
     "output_type": "execute_result"
    }
   ],
   "source": [
    "# 행 증가\n",
    "x[np.newaxis, :]"
   ]
  },
  {
   "cell_type": "code",
   "execution_count": 23,
   "metadata": {
    "colab": {
     "base_uri": "https://localhost:8080/"
    },
    "executionInfo": {
     "elapsed": 10,
     "status": "ok",
     "timestamp": 1741745635231,
     "user": {
      "displayName": "희완",
      "userId": "08169894782276826481"
     },
     "user_tz": -540
    },
    "id": "9D0GcaMhHcEF",
    "outputId": "e7f58412-969c-483d-82be-ed20e785e71c"
   },
   "outputs": [
    {
     "data": {
      "text/plain": [
       "array([[1],\n",
       "       [2],\n",
       "       [3]])"
      ]
     },
     "execution_count": 23,
     "metadata": {},
     "output_type": "execute_result"
    }
   ],
   "source": [
    "# 열 증가\n",
    "x[:, np.newaxis]"
   ]
  },
  {
   "cell_type": "code",
   "execution_count": 31,
   "metadata": {
    "colab": {
     "base_uri": "https://localhost:8080/"
    },
    "executionInfo": {
     "elapsed": 13,
     "status": "ok",
     "timestamp": 1741745684351,
     "user": {
      "displayName": "희완",
      "userId": "08169894782276826481"
     },
     "user_tz": -540
    },
    "id": "xiJUG7wsIYau",
    "outputId": "63050ff8-a831-4d6c-a1fa-3bca76c8ef10"
   },
   "outputs": [
    {
     "data": {
      "text/plain": [
       "array([1, 2, 3])"
      ]
     },
     "execution_count": 31,
     "metadata": {},
     "output_type": "execute_result"
    }
   ],
   "source": [
    "x[np.newaxis, :][0]"
   ]
  },
  {
   "cell_type": "code",
   "execution_count": 36,
   "metadata": {
    "colab": {
     "base_uri": "https://localhost:8080/"
    },
    "executionInfo": {
     "elapsed": 9,
     "status": "ok",
     "timestamp": 1741745712673,
     "user": {
      "displayName": "희완",
      "userId": "08169894782276826481"
     },
     "user_tz": -540
    },
    "id": "S_Z6RgWCIf6F",
    "outputId": "96646660-a654-4edf-ec0a-6d91cfe8561b"
   },
   "outputs": [
    {
     "data": {
      "text/plain": [
       "array([2])"
      ]
     },
     "execution_count": 36,
     "metadata": {},
     "output_type": "execute_result"
    }
   ],
   "source": [
    "x[:, np.newaxis][1]"
   ]
  },
  {
   "cell_type": "markdown",
   "metadata": {
    "id": "xdHuoUgtI8KP"
   },
   "source": [
    "# Array Concatenaion and Splitting"
   ]
  },
  {
   "cell_type": "code",
   "execution_count": 37,
   "metadata": {
    "colab": {
     "base_uri": "https://localhost:8080/"
    },
    "executionInfo": {
     "elapsed": 11,
     "status": "ok",
     "timestamp": 1741745900227,
     "user": {
      "displayName": "희완",
      "userId": "08169894782276826481"
     },
     "user_tz": -540
    },
    "id": "sh9YDivII_wd",
    "outputId": "effc0c6e-54ca-4818-a06f-532aa3b750fa"
   },
   "outputs": [
    {
     "data": {
      "text/plain": [
       "array([1, 2, 3, 3, 2, 1])"
      ]
     },
     "execution_count": 37,
     "metadata": {},
     "output_type": "execute_result"
    }
   ],
   "source": [
    "# Concatenate\n",
    "x = np.array([1, 2, 3])\n",
    "y = np.array([3, 2, 1])\n",
    "\n",
    "np.concatenate([x, y])"
   ]
  },
  {
   "cell_type": "code",
   "execution_count": 43,
   "metadata": {
    "colab": {
     "base_uri": "https://localhost:8080/"
    },
    "executionInfo": {
     "elapsed": 9,
     "status": "ok",
     "timestamp": 1741746018529,
     "user": {
      "displayName": "희완",
      "userId": "08169894782276826481"
     },
     "user_tz": -540
    },
    "id": "lEMkvPfQJkZ-",
    "outputId": "93a873ad-cdd0-4803-99ba-6a60833b6981"
   },
   "outputs": [
    {
     "name": "stdout",
     "output_type": "stream",
     "text": [
      "[ 1  2  3  3  2  1 99 99 99]\n"
     ]
    }
   ],
   "source": [
    "z = np.array([99, 99, 99])\n",
    "print(np.concatenate([x, y, z]))"
   ]
  },
  {
   "cell_type": "code",
   "execution_count": 45,
   "metadata": {
    "colab": {
     "base_uri": "https://localhost:8080/"
    },
    "executionInfo": {
     "elapsed": 19,
     "status": "ok",
     "timestamp": 1741746141109,
     "user": {
      "displayName": "희완",
      "userId": "08169894782276826481"
     },
     "user_tz": -540
    },
    "id": "-OSIIPNiJxfu",
    "outputId": "9f545fd9-099e-434e-a7c8-cd0c5028c578"
   },
   "outputs": [
    {
     "data": {
      "text/plain": [
       "array([[ 1,  2,  3],\n",
       "       [ 3,  2,  1],\n",
       "       [99, 99, 99]])"
      ]
     },
     "execution_count": 45,
     "metadata": {},
     "output_type": "execute_result"
    }
   ],
   "source": [
    "# vertical stack\n",
    "np.vstack([x, y, z])"
   ]
  },
  {
   "cell_type": "code",
   "execution_count": 47,
   "metadata": {
    "colab": {
     "base_uri": "https://localhost:8080/"
    },
    "executionInfo": {
     "elapsed": 3,
     "status": "ok",
     "timestamp": 1741746550963,
     "user": {
      "displayName": "희완",
      "userId": "08169894782276826481"
     },
     "user_tz": -540
    },
    "id": "4XKRQOHxKS-O",
    "outputId": "54708ba9-2bd6-4ae6-b725-9d43ae79d45d"
   },
   "outputs": [
    {
     "data": {
      "text/plain": [
       "array([ 1,  2,  3,  3,  2,  1, 99, 99, 99])"
      ]
     },
     "execution_count": 47,
     "metadata": {},
     "output_type": "execute_result"
    }
   ],
   "source": [
    "# horizontal stack\n",
    "np.hstack([x, y, z])"
   ]
  },
  {
   "cell_type": "markdown",
   "metadata": {
    "id": "f5BpKeYSL7Sm"
   },
   "source": [
    "np.dstack도 있지만 잘 쓰지 않는다."
   ]
  },
  {
   "cell_type": "code",
   "execution_count": 50,
   "metadata": {
    "colab": {
     "base_uri": "https://localhost:8080/"
    },
    "executionInfo": {
     "elapsed": 22,
     "status": "ok",
     "timestamp": 1741746624264,
     "user": {
      "displayName": "희완",
      "userId": "08169894782276826481"
     },
     "user_tz": -540
    },
    "id": "2dJwaLtmKcZX",
    "outputId": "8d64f4ad-5218-481b-f366-136db1c673fa"
   },
   "outputs": [
    {
     "name": "stdout",
     "output_type": "stream",
     "text": [
      "[1 2 3] [99 99] [3 2 1]\n"
     ]
    }
   ],
   "source": [
    "# Split\n",
    "x = [1, 2, 3, 99, 99, 3, 2, 1]\n",
    "x1, x2, x3 = np.split(x, [3, 5])\n",
    "print(x1, x2, x3)"
   ]
  },
  {
   "cell_type": "code",
   "execution_count": 52,
   "metadata": {
    "colab": {
     "base_uri": "https://localhost:8080/"
    },
    "executionInfo": {
     "elapsed": 2,
     "status": "ok",
     "timestamp": 1741746648854,
     "user": {
      "displayName": "희완",
      "userId": "08169894782276826481"
     },
     "user_tz": -540
    },
    "id": "LUhV2Hh3MEB2",
    "outputId": "8aeb53ed-8de2-489b-b3bf-1f84d2b732b3"
   },
   "outputs": [
    {
     "data": {
      "text/plain": [
       "array([[ 0,  1,  2,  3],\n",
       "       [ 4,  5,  6,  7],\n",
       "       [ 8,  9, 10, 11],\n",
       "       [12, 13, 14, 15]])"
      ]
     },
     "execution_count": 52,
     "metadata": {},
     "output_type": "execute_result"
    }
   ],
   "source": [
    "grid = np.arange(16).reshape(4, 4)\n",
    "grid"
   ]
  },
  {
   "cell_type": "code",
   "execution_count": 55,
   "metadata": {
    "colab": {
     "base_uri": "https://localhost:8080/"
    },
    "executionInfo": {
     "elapsed": 45,
     "status": "ok",
     "timestamp": 1741746679621,
     "user": {
      "displayName": "희완",
      "userId": "08169894782276826481"
     },
     "user_tz": -540
    },
    "id": "dMEnwHo1MLYe",
    "outputId": "ff816332-375c-4bd8-d11d-b7721cf629f5"
   },
   "outputs": [
    {
     "name": "stdout",
     "output_type": "stream",
     "text": [
      "[[0 1 2 3]\n",
      " [4 5 6 7]]\n",
      "[[ 8  9 10 11]\n",
      " [12 13 14 15]]\n"
     ]
    }
   ],
   "source": [
    "# vertical split\n",
    "upper, lower = np.vsplit(grid, [2])\n",
    "print(upper)\n",
    "print(lower)"
   ]
  },
  {
   "cell_type": "code",
   "execution_count": 56,
   "metadata": {
    "colab": {
     "base_uri": "https://localhost:8080/"
    },
    "executionInfo": {
     "elapsed": 14,
     "status": "ok",
     "timestamp": 1741746699353,
     "user": {
      "displayName": "희완",
      "userId": "08169894782276826481"
     },
     "user_tz": -540
    },
    "id": "LZKjj7L1MS4u",
    "outputId": "7ee7ff49-cad7-4be7-a61f-3cc01549a51d"
   },
   "outputs": [
    {
     "name": "stdout",
     "output_type": "stream",
     "text": [
      "[[ 0  1]\n",
      " [ 4  5]\n",
      " [ 8  9]\n",
      " [12 13]]\n",
      "[[ 2  3]\n",
      " [ 6  7]\n",
      " [10 11]\n",
      " [14 15]]\n"
     ]
    }
   ],
   "source": [
    "# horizontal split\n",
    "left, right = np.hsplit(grid, [2])\n",
    "print(left)\n",
    "print(right)"
   ]
  },
  {
   "cell_type": "markdown",
   "metadata": {
    "id": "NA5wBjGpMj-G"
   },
   "source": [
    "np.dsplit도 있지만 잘 쓰지 않는다."
   ]
  }
 ],
 "metadata": {
  "colab": {
   "authorship_tag": "ABX9TyNLyqCKs5bg0G0vVIz4+FZb",
   "provenance": [],
   "toc_visible": true
  },
  "kernelspec": {
   "display_name": "Python 3",
   "name": "python3"
  },
  "language_info": {
   "name": "python"
  }
 },
 "nbformat": 4,
 "nbformat_minor": 0
}
