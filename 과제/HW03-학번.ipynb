{
 "cells": [
  {
   "cell_type": "markdown",
   "metadata": {
    "id": "xvy1kHBQLWeC"
   },
   "source": [
    "# HW03 <font color=red>(제출기한-6월1일 일요일 자정)</font>\n",
    "---\n",
    "Datascience 이해도 평가를 위한 문제입니다.\n",
    "다음 사항을 주의해서 제출하기 바랍니다.\n",
    "\n",
    "- 각 문제에 대한 답안을 <font color=red>'답안 작성 셀'</font>라고 적힌 <font color=red>한 코드셀 내</font>에 작성하며 셀 내에서 여러줄로 작성해도 무방합니다.\n",
    "- 셀을 추가하거나 셀을 삭제하지 않습니다. 예: (<font color=red>'지우지 마시오', '지우지 마시오'</font> 셀 등)\n",
    "- 출력결과가 미리 제시된 셀(<font color=red>'다음과 같이 출력되어야 한다.'</font>라고 표시된 셀)을 참고합니다.\n",
    "- 수업시간 배운 내용을 응용하여 코드를 작성합니다.\n",
    "- 문제나 제출방법에 대한 질문이 있을 경우 제출전 UCLASS 등을 통해 반드시 미리 확인합니다.\n",
    "\n",
    "> 제출방법\n",
    "\n",
    "- ULMS HW3 제출란에 <font color=red>'HW03-학번.ipynb'</font>(본인학번을 기입)을 기한내 업로드합니다.\n"
   ]
  },
  {
   "cell_type": "markdown",
   "metadata": {
    "id": "jd2psIJa3dzg"
   },
   "source": [
    "## 가정\n",
    "- 수업시간에 사용하였던 다음 NBA 연봉 데이터를 이용합니다."
   ]
  },
  {
   "cell_type": "code",
   "execution_count": 1,
   "metadata": {
    "colab": {
     "base_uri": "https://localhost:8080/",
     "height": 392
    },
    "executionInfo": {
     "elapsed": 163,
     "status": "ok",
     "timestamp": 1747578215047,
     "user": {
      "displayName": "Yungkeun Kwon",
      "userId": "01566397534488960030"
     },
     "user_tz": -540
    },
    "id": "F4h3bxld-l4E",
    "outputId": "2977e011-f384-4819-9c10-2ee1a50ded04"
   },
   "outputs": [
    {
     "data": {
      "text/html": [
       "<table border=\"1\" class=\"dataframe\">\n",
       "    <thead>\n",
       "        <tr>\n",
       "            <th>PLAYER</th> <th>POSITION</th> <th>TEAM</th> <th>SALARY</th>\n",
       "        </tr>\n",
       "    </thead>\n",
       "    <tbody>\n",
       "        <tr>\n",
       "            <td>Aaron Brooks   </td> <td>PG      </td> <td>Chicago Bulls         </td> <td>2.25    </td>\n",
       "        </tr>\n",
       "        <tr>\n",
       "            <td>Aaron Gordon   </td> <td>PF      </td> <td>Orlando Magic         </td> <td>4.17168 </td>\n",
       "        </tr>\n",
       "        <tr>\n",
       "            <td>Aaron Harrison </td> <td>SG      </td> <td>Charlotte Hornets     </td> <td>0.525093</td>\n",
       "        </tr>\n",
       "        <tr>\n",
       "            <td>Adreian Payne  </td> <td>PF      </td> <td>Minnesota Timberwolves</td> <td>1.93884 </td>\n",
       "        </tr>\n",
       "        <tr>\n",
       "            <td>Al Horford     </td> <td>C       </td> <td>Atlanta Hawks         </td> <td>12      </td>\n",
       "        </tr>\n",
       "        <tr>\n",
       "            <td>Al Jefferson   </td> <td>C       </td> <td>Charlotte Hornets     </td> <td>13.5    </td>\n",
       "        </tr>\n",
       "        <tr>\n",
       "            <td>Al-Farouq Aminu</td> <td>SF      </td> <td>Portland Trail Blazers</td> <td>8.04289 </td>\n",
       "        </tr>\n",
       "        <tr>\n",
       "            <td>Alan Anderson  </td> <td>SG      </td> <td>Washington Wizards    </td> <td>4       </td>\n",
       "        </tr>\n",
       "        <tr>\n",
       "            <td>Alec Burks     </td> <td>SG      </td> <td>Utah Jazz             </td> <td>9.46348 </td>\n",
       "        </tr>\n",
       "        <tr>\n",
       "            <td>Alex Len       </td> <td>C       </td> <td>Phoenix Suns          </td> <td>3.80712 </td>\n",
       "        </tr>\n",
       "    </tbody>\n",
       "</table>\n",
       "<p>... (407 rows omitted)</p>"
      ],
      "text/plain": [
       "PLAYER          | POSITION | TEAM                   | SALARY\n",
       "Aaron Brooks    | PG       | Chicago Bulls          | 2.25\n",
       "Aaron Gordon    | PF       | Orlando Magic          | 4.17168\n",
       "Aaron Harrison  | SG       | Charlotte Hornets      | 0.525093\n",
       "Adreian Payne   | PF       | Minnesota Timberwolves | 1.93884\n",
       "Al Horford      | C        | Atlanta Hawks          | 12\n",
       "Al Jefferson    | C        | Charlotte Hornets      | 13.5\n",
       "Al-Farouq Aminu | SF       | Portland Trail Blazers | 8.04289\n",
       "Alan Anderson   | SG       | Washington Wizards     | 4\n",
       "Alec Burks      | SG       | Utah Jazz              | 9.46348\n",
       "Alex Len        | C        | Phoenix Suns           | 3.80712\n",
       "... (407 rows omitted)"
      ]
     },
     "execution_count": 1,
     "metadata": {},
     "output_type": "execute_result"
    }
   ],
   "source": [
    "### 지우지 마시오.\n",
    "from datascience import *\n",
    "import matplotlib\n",
    "%matplotlib inline\n",
    "import matplotlib.pyplot as plots\n",
    "plots.style.use('fivethirtyeight')\n",
    "import numpy as np\n",
    "path_data = 'https://raw.githubusercontent.com/data-8/textbook/refs/heads/main/assets/data/'\n",
    "nba = Table.read_table(path_data+'nba_salaries.csv').relabeled(\"'15-'16 SALARY\", 'SALARY').sort(0)\n",
    "nba"
   ]
  },
  {
   "cell_type": "markdown",
   "metadata": {
    "id": "JBaBDwJdVCnK"
   },
   "source": [
    "### 문제1\n",
    "POSITION 이름 *pos*와 선수 숫자 *N*을 입력받아 해당 포지션에서 연봉이 가장 높은 순서대로 선수 *N*명을 찾아 Table 변수로 리턴하는 함수 ``get_position_top`` 함수를 작성하시오.\n",
    "- 리턴되는 Table의 column 순서는 원래 Table인 *nba*와 동일하다.\n",
    "- 리턴되는 Table의 행 순서는 *SALARY*이 감소하는 순으로 정렬한다."
   ]
  },
  {
   "cell_type": "markdown",
   "metadata": {
    "id": "1nQet76RERqI"
   },
   "source": [
    "### 답안을 작성하시오.\n",
    "- 아래 한 개의 셀에 답을 작성하되 셀을 추가하지 말 것"
   ]
  },
  {
   "cell_type": "code",
   "execution_count": null,
   "metadata": {
    "id": "dVhLBvXP7UC3"
   },
   "outputs": [],
   "source": [
    "### 답안 작성 셀\n",
    "def get_position_top(pos, N):\n",
    "\n",
    "\n",
    "\n"
   ]
  },
  {
   "cell_type": "code",
   "execution_count": null,
   "metadata": {
    "colab": {
     "base_uri": "https://localhost:8080/",
     "height": 175
    },
    "executionInfo": {
     "elapsed": 3,
     "status": "ok",
     "timestamp": 1747578227285,
     "user": {
      "displayName": "Yungkeun Kwon",
      "userId": "01566397534488960030"
     },
     "user_tz": -540
    },
    "id": "isXkM7B4ES_Q",
    "outputId": "ea57c665-9cb0-4830-def4-76c5a2d1a5ee"
   },
   "outputs": [
    {
     "data": {
      "text/html": [
       "<table border=\"1\" class=\"dataframe\">\n",
       "    <thead>\n",
       "        <tr>\n",
       "            <th>PLAYER</th> <th>POSITION</th> <th>TEAM</th> <th>SALARY</th>\n",
       "        </tr>\n",
       "    </thead>\n",
       "    <tbody>\n",
       "        <tr>\n",
       "            <td>Dwight Howard   </td> <td>C       </td> <td>Houston Rockets      </td> <td>22.3594</td>\n",
       "        </tr>\n",
       "        <tr>\n",
       "            <td>Marc Gasol      </td> <td>C       </td> <td>Memphis Grizzlies    </td> <td>19.688 </td>\n",
       "        </tr>\n",
       "        <tr>\n",
       "            <td>Enes Kanter     </td> <td>C       </td> <td>Oklahoma City Thunder</td> <td>16.4075</td>\n",
       "        </tr>\n",
       "        <tr>\n",
       "            <td>DeMarcus Cousins</td> <td>C       </td> <td>Sacramento Kings     </td> <td>15.852 </td>\n",
       "        </tr>\n",
       "    </tbody>\n",
       "</table>"
      ],
      "text/plain": [
       "PLAYER           | POSITION | TEAM                  | SALARY\n",
       "Dwight Howard    | C        | Houston Rockets       | 22.3594\n",
       "Marc Gasol       | C        | Memphis Grizzlies     | 19.688\n",
       "Enes Kanter      | C        | Oklahoma City Thunder | 16.4075\n",
       "DeMarcus Cousins | C        | Sacramento Kings      | 15.852"
      ]
     },
     "execution_count": 4,
     "metadata": {},
     "output_type": "execute_result"
    }
   ],
   "source": [
    "### 다음과 같이 출력되어야 한다. (수정하지 마시오.)\n",
    "get_position_top('C', 4)"
   ]
  },
  {
   "cell_type": "markdown",
   "metadata": {
    "id": "LYDw1ZuLwJqP"
   },
   "source": [
    "### 문제2\n",
    "각 POSITION별로 SALARY의 최대값과 최소값을 구해 Difference column으로 저장된 *position_diff* Table 변수에 저장하시오.\n",
    "\n",
    "- 리턴되는 Table의 column 이름은 'POSITION', 'Difference'로 한다.\n",
    "- 리턴되는 Table은 POSITION 이름 알파벳순으로 정렬한다.\n"
   ]
  },
  {
   "cell_type": "markdown",
   "metadata": {
    "id": "VEWbN06TEJVZ"
   },
   "source": [
    "### 답안을 작성하시오.\n",
    "- 아래 한 개의 셀에 답을 작성하되 셀을 추가하지 말 것"
   ]
  },
  {
   "cell_type": "code",
   "execution_count": null,
   "metadata": {
    "id": "RbZx1DVKbLFh"
   },
   "outputs": [],
   "source": [
    "### 답안 작성 셀\n",
    "\n",
    "\n",
    "\n"
   ]
  },
  {
   "cell_type": "code",
   "execution_count": null,
   "metadata": {
    "colab": {
     "base_uri": "https://localhost:8080/",
     "height": 206
    },
    "executionInfo": {
     "elapsed": 8,
     "status": "ok",
     "timestamp": 1747549610525,
     "user": {
      "displayName": "Yungkeun Kwon",
      "userId": "01566397534488960030"
     },
     "user_tz": -540
    },
    "id": "kUQ8hPUHceKQ",
    "outputId": "7745e2d6-dc38-4e5c-8ac4-079506093408"
   },
   "outputs": [
    {
     "data": {
      "text/html": [
       "<table border=\"1\" class=\"dataframe\">\n",
       "    <thead>\n",
       "        <tr>\n",
       "            <th>POSITION</th> <th>Difference</th>\n",
       "        </tr>\n",
       "    </thead>\n",
       "    <tbody>\n",
       "        <tr>\n",
       "            <td>C       </td> <td>22.2479   </td>\n",
       "        </tr>\n",
       "        <tr>\n",
       "            <td>PF      </td> <td>22.143    </td>\n",
       "        </tr>\n",
       "        <tr>\n",
       "            <td>PG      </td> <td>21.413    </td>\n",
       "        </tr>\n",
       "        <tr>\n",
       "            <td>SF      </td> <td>24.9691   </td>\n",
       "        </tr>\n",
       "        <tr>\n",
       "            <td>SG      </td> <td>19.9503   </td>\n",
       "        </tr>\n",
       "    </tbody>\n",
       "</table>"
      ],
      "text/plain": [
       "POSITION | Difference\n",
       "C        | 22.2479\n",
       "PF       | 22.143\n",
       "PG       | 21.413\n",
       "SF       | 24.9691\n",
       "SG       | 19.9503"
      ]
     },
     "execution_count": 11,
     "metadata": {},
     "output_type": "execute_result"
    }
   ],
   "source": [
    "### 다음과 같이 출력되어야 한다. (수정하지 마시오.)\n",
    "position_diff"
   ]
  },
  {
   "cell_type": "markdown",
   "metadata": {
    "id": "RTpV69AnxYcS"
   },
   "source": [
    "### 문제3\n",
    "전체 선수들 중 파라미터 *S*값에 따라 아래 조건을 만족하는 POSITION별 선수 숫자에 대한 Table을 리턴하는 ``position_salary``함수를 완성하시오.\n",
    "- 전달되는 *S* 값이 양수인 경우 전체 선수들 중 연봉이 *S*보다 큰 선수들에 대해 POSITION별 선수 숫자를 구해 처리한다.\n",
    "- 전달되는 *S* 값이 음수인 경우 전체 선수들 중 연봉이 *-S*보다 작은 선수들에 대해 POSITION별 선수 숫자를 구해 처리한다.\n",
    "- *S*=0인 경우는 처리하지 않는다.\n",
    "- 리턴되는 Table은 POSITION 이름 알파벳순으로 정렬한다.\n",
    "- 리턴되는 Table의 column 이름은 'POSITION', 'count' 이다."
   ]
  },
  {
   "cell_type": "markdown",
   "metadata": {
    "id": "kWKdCMvoLTVK"
   },
   "source": [
    "### 답안을 작성하시오.\n",
    "- 아래 한 개의 셀에 답을 작성하되 셀을 추가하지 말 것"
   ]
  },
  {
   "cell_type": "code",
   "execution_count": null,
   "metadata": {
    "id": "NW85LtRnb7uE"
   },
   "outputs": [],
   "source": [
    "### 답안 작성 셀\n",
    "def position_salary(S):\n",
    "\n",
    "\n"
   ]
  },
  {
   "cell_type": "code",
   "execution_count": null,
   "metadata": {
    "colab": {
     "base_uri": "https://localhost:8080/",
     "height": 206
    },
    "executionInfo": {
     "elapsed": 12,
     "status": "ok",
     "timestamp": 1747578518644,
     "user": {
      "displayName": "Yungkeun Kwon",
      "userId": "01566397534488960030"
     },
     "user_tz": -540
    },
    "id": "PRqv4vuFeBJv",
    "outputId": "e7216f7d-01ad-4040-9526-8d9605065b39"
   },
   "outputs": [
    {
     "data": {
      "text/html": [
       "<table border=\"1\" class=\"dataframe\">\n",
       "    <thead>\n",
       "        <tr>\n",
       "            <th>POSITION</th> <th>count</th>\n",
       "        </tr>\n",
       "    </thead>\n",
       "    <tbody>\n",
       "        <tr>\n",
       "            <td>C       </td> <td>14   </td>\n",
       "        </tr>\n",
       "        <tr>\n",
       "            <td>PF      </td> <td>23   </td>\n",
       "        </tr>\n",
       "        <tr>\n",
       "            <td>PG      </td> <td>19   </td>\n",
       "        </tr>\n",
       "        <tr>\n",
       "            <td>SF      </td> <td>27   </td>\n",
       "        </tr>\n",
       "        <tr>\n",
       "            <td>SG      </td> <td>40   </td>\n",
       "        </tr>\n",
       "    </tbody>\n",
       "</table>"
      ],
      "text/plain": [
       "POSITION | count\n",
       "C        | 14\n",
       "PF       | 23\n",
       "PG       | 19\n",
       "SF       | 27\n",
       "SG       | 40"
      ]
     },
     "execution_count": 19,
     "metadata": {},
     "output_type": "execute_result"
    }
   ],
   "source": [
    "### 다음과 같이 출력되어야 한다. (수정하지 마시오.)\n",
    "position_salary(-1.5)"
   ]
  },
  {
   "cell_type": "markdown",
   "metadata": {
    "id": "Bc2joKq3xnVC"
   },
   "source": [
    "### 문제4\n",
    "전체 선수들 중 파라미터 양수 *S*값에 따라 *S* 초과 및 미만에 해당하는 POSITION별 선수 숫자에 대한 Table을 리턴하는 ``count_salary_cut``함수를 완성하시오.\n",
    "- *S*는 양수값이다.\n",
    "- 리턴되는 Table은 POSITION 이름 알파벳순으로 정렬한다.\n",
    "- 리턴되는 Table의 column 이름은 'POSITION', '>S', '<S' 형태이다 (단, 실제 S값으로 대체)."
   ]
  },
  {
   "cell_type": "markdown",
   "metadata": {
    "id": "1g7rxy81Mrs6"
   },
   "source": [
    "### 답안을 작성하시오.\n",
    "- 아래 한 개의 셀에 답을 작성하되 셀을 추가하지 말 것"
   ]
  },
  {
   "cell_type": "code",
   "execution_count": null,
   "metadata": {
    "id": "DfKiKa-VJxlz"
   },
   "outputs": [],
   "source": [
    "### 답안 작성 셀\n",
    "def count_salary_cut(S):\n",
    "\n",
    "\n",
    "\n"
   ]
  },
  {
   "cell_type": "code",
   "execution_count": null,
   "metadata": {
    "colab": {
     "base_uri": "https://localhost:8080/",
     "height": 206
    },
    "executionInfo": {
     "elapsed": 5,
     "status": "ok",
     "timestamp": 1747578530195,
     "user": {
      "displayName": "Yungkeun Kwon",
      "userId": "01566397534488960030"
     },
     "user_tz": -540
    },
    "id": "callVSJvKrb8",
    "outputId": "a443e5f2-04a3-4b4c-a524-82b020e55077"
   },
   "outputs": [
    {
     "data": {
      "text/html": [
       "<table border=\"1\" class=\"dataframe\">\n",
       "    <thead>\n",
       "        <tr>\n",
       "            <th>POSITION</th> <th>>5.2</th> <th><5.2</th>\n",
       "        </tr>\n",
       "    </thead>\n",
       "    <tbody>\n",
       "        <tr>\n",
       "            <td>C       </td> <td>27  </td> <td>41  </td>\n",
       "        </tr>\n",
       "        <tr>\n",
       "            <td>PF      </td> <td>27  </td> <td>58  </td>\n",
       "        </tr>\n",
       "        <tr>\n",
       "            <td>PG      </td> <td>29  </td> <td>56  </td>\n",
       "        </tr>\n",
       "        <tr>\n",
       "            <td>SF      </td> <td>26  </td> <td>56  </td>\n",
       "        </tr>\n",
       "        <tr>\n",
       "            <td>SG      </td> <td>27  </td> <td>69  </td>\n",
       "        </tr>\n",
       "    </tbody>\n",
       "</table>"
      ],
      "text/plain": [
       "POSITION | >5.2 | <5.2\n",
       "C        | 27   | 41\n",
       "PF       | 27   | 58\n",
       "PG       | 29   | 56\n",
       "SF       | 26   | 56\n",
       "SG       | 27   | 69"
      ]
     },
     "execution_count": 22,
     "metadata": {},
     "output_type": "execute_result"
    }
   ],
   "source": [
    "### 다음과 같이 출력되어야 한다. (수정하지 마시오.)\n",
    "count_salary_cut(5.2)"
   ]
  },
  {
   "cell_type": "markdown",
   "metadata": {
    "id": "525N0TmqM2iY"
   },
   "source": [
    "### 문제5\n",
    "*nba* 전체 선수들 중 TEAM 이름이 두 파라미터 *t1*, *t2*중의 하나와 일치하는 선수들을 골라내어 Table로 리턴하는 ``search_two_team``함수를 완성하시오.\n",
    "- 리턴되는 Table은 PLAYER 이름 알파벳순으로 정렬한다."
   ]
  },
  {
   "cell_type": "markdown",
   "metadata": {
    "id": "DhQJqCcWM2iZ"
   },
   "source": [
    "### 답안을 작성하시오.\n",
    "- 아래 한 개의 셀에 답을 작성하되 셀을 추가하지 말 것"
   ]
  },
  {
   "cell_type": "code",
   "execution_count": null,
   "metadata": {
    "id": "A3fqkpy2M2iZ"
   },
   "outputs": [],
   "source": [
    "### 답안 작성 셀\n",
    "def search_two_team(t1,t2):\n",
    "\n",
    "\n"
   ]
  },
  {
   "cell_type": "code",
   "execution_count": null,
   "metadata": {
    "colab": {
     "base_uri": "https://localhost:8080/",
     "height": 392
    },
    "executionInfo": {
     "elapsed": 21,
     "status": "ok",
     "timestamp": 1747553201645,
     "user": {
      "displayName": "Yungkeun Kwon",
      "userId": "01566397534488960030"
     },
     "user_tz": -540
    },
    "id": "hAHqi6FmM2iZ",
    "outputId": "6f3bb46e-1749-4a72-d788-8a0f8ebab391"
   },
   "outputs": [
    {
     "data": {
      "text/html": [
       "<table border=\"1\" class=\"dataframe\">\n",
       "    <thead>\n",
       "        <tr>\n",
       "            <th>PLAYER</th> <th>POSITION</th> <th>TEAM</th> <th>SALARY</th>\n",
       "        </tr>\n",
       "    </thead>\n",
       "    <tbody>\n",
       "        <tr>\n",
       "            <td>Aaron Brooks    </td> <td>PG      </td> <td>Chicago Bulls</td> <td>2.25    </td>\n",
       "        </tr>\n",
       "        <tr>\n",
       "            <td>Bobby Portis    </td> <td>PF      </td> <td>Chicago Bulls</td> <td>1.39116 </td>\n",
       "        </tr>\n",
       "        <tr>\n",
       "            <td>Chris Bosh      </td> <td>PF      </td> <td>Miami Heat   </td> <td>22.1927 </td>\n",
       "        </tr>\n",
       "        <tr>\n",
       "            <td>Corey Hawkins   </td> <td>PG      </td> <td>Miami Heat   </td> <td>0.525093</td>\n",
       "        </tr>\n",
       "        <tr>\n",
       "            <td>Derrick Rose    </td> <td>PG      </td> <td>Chicago Bulls</td> <td>20.0931 </td>\n",
       "        </tr>\n",
       "        <tr>\n",
       "            <td>Doug McDermott  </td> <td>SF      </td> <td>Chicago Bulls</td> <td>2.38044 </td>\n",
       "        </tr>\n",
       "        <tr>\n",
       "            <td>Dwyane Wade     </td> <td>SG      </td> <td>Miami Heat   </td> <td>20      </td>\n",
       "        </tr>\n",
       "        <tr>\n",
       "            <td>E'Twaun Moore   </td> <td>SG      </td> <td>Chicago Bulls</td> <td>1.01542 </td>\n",
       "        </tr>\n",
       "        <tr>\n",
       "            <td>Goran Dragic    </td> <td>PG      </td> <td>Miami Heat   </td> <td>14.783  </td>\n",
       "        </tr>\n",
       "        <tr>\n",
       "            <td>Greg Whittington</td> <td>SF      </td> <td>Miami Heat   </td> <td>0.525093</td>\n",
       "        </tr>\n",
       "    </tbody>\n",
       "</table>\n",
       "<p>... (14 rows omitted)</p>"
      ],
      "text/plain": [
       "PLAYER           | POSITION | TEAM          | SALARY\n",
       "Aaron Brooks     | PG       | Chicago Bulls | 2.25\n",
       "Bobby Portis     | PF       | Chicago Bulls | 1.39116\n",
       "Chris Bosh       | PF       | Miami Heat    | 22.1927\n",
       "Corey Hawkins    | PG       | Miami Heat    | 0.525093\n",
       "Derrick Rose     | PG       | Chicago Bulls | 20.0931\n",
       "Doug McDermott   | SF       | Chicago Bulls | 2.38044\n",
       "Dwyane Wade      | SG       | Miami Heat    | 20\n",
       "E'Twaun Moore    | SG       | Chicago Bulls | 1.01542\n",
       "Goran Dragic     | PG       | Miami Heat    | 14.783\n",
       "Greg Whittington | SF       | Miami Heat    | 0.525093\n",
       "... (14 rows omitted)"
      ]
     },
     "execution_count": 41,
     "metadata": {},
     "output_type": "execute_result"
    }
   ],
   "source": [
    "### 다음과 같이 출력되어야 한다. (수정하지 마시오.)\n",
    "search_two_team('Chicago Bulls','Miami Heat')"
   ]
  },
  {
   "cell_type": "markdown",
   "metadata": {
    "id": "4FS6ykCLXyMK"
   },
   "source": [
    "## 가정\n",
    "- 다음과 같이 가위바위보를 표현하기 위한 배열 *rps*을 다음과 같이 정의합니다."
   ]
  },
  {
   "cell_type": "code",
   "execution_count": null,
   "metadata": {
    "id": "1R09TLHIX54R"
   },
   "outputs": [],
   "source": [
    "### 지우지 마시오.\n",
    "rps=make_array('rock', 'paper', 'scissors')"
   ]
  },
  {
   "cell_type": "markdown",
   "metadata": {
    "id": "oo2BXW7oM3YA"
   },
   "source": [
    "### 문제6\n",
    "2명의 사람이 가위바위보를 *N*번 시행하여 비긴 횟수를 리턴하는 함수 count_tie()를 작성하시오.\n",
    "\n",
    "- *N*은 입력 파라미터이며 default는 100으로 설정한다.\n",
    "- 위에서 정의한 *rps* 배열을 이용하여 작성한다.\n",
    "- numpy의 choice 함수를 이용하여 작성한다.\n",
    "- seed를 설정하는 코드를 넣지 않는다."
   ]
  },
  {
   "cell_type": "markdown",
   "metadata": {
    "id": "baejddgzM3YB"
   },
   "source": [
    "### 답안을 작성하시오.\n",
    "- 아래 한 개의 셀에 답을 작성하되 셀을 추가하지 말 것"
   ]
  },
  {
   "cell_type": "code",
   "execution_count": null,
   "metadata": {
    "id": "FLUTdLihM3YB"
   },
   "outputs": [],
   "source": [
    "### 답안 작성 셀\n",
    "def count_tie(N=100):\n",
    "\n",
    "\n",
    "\n",
    "\n"
   ]
  },
  {
   "cell_type": "code",
   "execution_count": null,
   "metadata": {
    "colab": {
     "base_uri": "https://localhost:8080/"
    },
    "executionInfo": {
     "elapsed": 4,
     "status": "ok",
     "timestamp": 1747579046939,
     "user": {
      "displayName": "Yungkeun Kwon",
      "userId": "01566397534488960030"
     },
     "user_tz": -540
    },
    "id": "RbA7Kk-qM3YB",
    "outputId": "ee6af9c7-6058-4499-d972-cb1093db4ca3"
   },
   "outputs": [
    {
     "data": {
      "text/plain": [
       "67"
      ]
     },
     "execution_count": 28,
     "metadata": {},
     "output_type": "execute_result"
    }
   ],
   "source": [
    "### 다음과 같이 출력되어야 한다. (수정하지 마시오.)\n",
    "count_tie(200)"
   ]
  },
  {
   "cell_type": "markdown",
   "metadata": {
    "id": "AfwbIOoYM5w7"
   },
   "source": [
    "### 문제7\n",
    "위 count_tie()을 이용하여 2명이 *N*번 랜덤하게 가위바위보 했을 때 비긴 횟수를 조사하는 시행을 *T*번 반복하여 그 결과를 배열(collection array)로 리턴하는 함수 ``collect_count_tie`` 를 작성하시오.\n",
    "\n",
    "- *N*과 *T*은 입력 파라미터이며 default값은 각각 100, 10000으로 설정한다.\n",
    "- count_tie()를 호출하여 이용한다.\n",
    "- seed를 설정하는 코드를 넣지 않는다."
   ]
  },
  {
   "cell_type": "markdown",
   "metadata": {
    "id": "CEGJX6C3M5w8"
   },
   "source": [
    "### 답안을 작성하시오.\n",
    "- 아래 한 개의 셀에 답을 작성하되 셀을 추가하지 말 것"
   ]
  },
  {
   "cell_type": "code",
   "execution_count": null,
   "metadata": {
    "id": "NbeOPVvyM5w8"
   },
   "outputs": [],
   "source": [
    "### 답안 작성 셀\n",
    "def collect_count_tie(N=100, T=10000):\n",
    "\n",
    "\n",
    "\n",
    "\n",
    "\n"
   ]
  },
  {
   "cell_type": "code",
   "execution_count": null,
   "metadata": {
    "colab": {
     "base_uri": "https://localhost:8080/"
    },
    "executionInfo": {
     "elapsed": 11,
     "status": "ok",
     "timestamp": 1747579050881,
     "user": {
      "displayName": "Yungkeun Kwon",
      "userId": "01566397534488960030"
     },
     "user_tz": -540
    },
    "id": "_uVfZHjRM5w8",
    "outputId": "71659948-36c1-4e70-d0de-a5cc0e982eeb"
   },
   "outputs": [
    {
     "data": {
      "text/plain": [
       "array([ 56.,  62.,  49.,  66.,  76.,  68.,  56.,  67.,  70.,  66.,  69.,\n",
       "        64.,  57.,  82.,  68.,  66.,  67.,  52.,  74.,  74.,  71.,  84.,\n",
       "        67.,  54.,  75.,  70.,  61.,  67.,  64.,  79.,  71.,  66.,  62.,\n",
       "        66.,  73.,  77.,  53.,  64.,  64.,  68.,  63.,  66.,  66.,  71.,\n",
       "        72.,  68.,  71.,  70.,  79.,  70.,  63.,  70.,  61.,  76.,  62.,\n",
       "        58.,  79.,  58.,  73.,  61.,  63.,  59.,  71.,  70.,  70.,  62.,\n",
       "        58.,  60.,  78.,  64.,  70.,  64.,  78.,  80.,  43.,  67.,  59.,\n",
       "        64.,  67.,  66.,  70.,  64.,  70.,  73.,  66.,  73.,  74.,  58.,\n",
       "        69.,  63.,  59.,  65.,  61.,  60.,  63.,  55.,  79.,  69.,  69.,\n",
       "        72.])"
      ]
     },
     "execution_count": 29,
     "metadata": {},
     "output_type": "execute_result"
    }
   ],
   "source": [
    "### 다음과 같이 출력되어야 한다. (수정하지 마시오.)\n",
    "collect_count_tie(200, 100)"
   ]
  },
  {
   "cell_type": "markdown",
   "metadata": {
    "id": "JMo4YntMM6Mr"
   },
   "source": [
    "### 문제8\n",
    "위 collect_count_tie() 함수를 호출후 그 결과(배열)를 리턴받아 Table 변수 ``simulation100``에 저장하시오.\n",
    "\n",
    "- collect_count_tie 호출 시 파라미터 값 *N*과 *T*는 100, 100으로 호출한다.\n",
    "- 리턴되는 Table의 column 이름은 'Repetition', 'No of Ties' 이다.\n"
   ]
  },
  {
   "cell_type": "markdown",
   "metadata": {
    "id": "02OHOMe-M6Mr"
   },
   "source": [
    "### 답안을 작성하시오.\n",
    "- 아래 한 개의 셀에 답을 작성하되 셀을 추가하지 말 것"
   ]
  },
  {
   "cell_type": "code",
   "execution_count": null,
   "metadata": {
    "id": "ZZw1tjioM6Mr"
   },
   "outputs": [],
   "source": [
    "### 답안 작성 셀\n",
    "\n",
    "\n",
    "\n",
    "\n",
    "\n"
   ]
  },
  {
   "cell_type": "code",
   "execution_count": null,
   "metadata": {
    "colab": {
     "base_uri": "https://localhost:8080/",
     "height": 392
    },
    "executionInfo": {
     "elapsed": 6,
     "status": "ok",
     "timestamp": 1747579689785,
     "user": {
      "displayName": "Yungkeun Kwon",
      "userId": "01566397534488960030"
     },
     "user_tz": -540
    },
    "id": "4Bjfm4KEM6Ms",
    "outputId": "a75e1dc2-caa7-4079-9a49-2f017d857b42"
   },
   "outputs": [
    {
     "data": {
      "text/html": [
       "<table border=\"1\" class=\"dataframe\">\n",
       "    <thead>\n",
       "        <tr>\n",
       "            <th>Repetition</th> <th>No of Ties</th>\n",
       "        </tr>\n",
       "    </thead>\n",
       "    <tbody>\n",
       "        <tr>\n",
       "            <td>1         </td> <td>25        </td>\n",
       "        </tr>\n",
       "        <tr>\n",
       "            <td>2         </td> <td>34        </td>\n",
       "        </tr>\n",
       "        <tr>\n",
       "            <td>3         </td> <td>33        </td>\n",
       "        </tr>\n",
       "        <tr>\n",
       "            <td>4         </td> <td>43        </td>\n",
       "        </tr>\n",
       "        <tr>\n",
       "            <td>5         </td> <td>40        </td>\n",
       "        </tr>\n",
       "        <tr>\n",
       "            <td>6         </td> <td>24        </td>\n",
       "        </tr>\n",
       "        <tr>\n",
       "            <td>7         </td> <td>36        </td>\n",
       "        </tr>\n",
       "        <tr>\n",
       "            <td>8         </td> <td>38        </td>\n",
       "        </tr>\n",
       "        <tr>\n",
       "            <td>9         </td> <td>29        </td>\n",
       "        </tr>\n",
       "        <tr>\n",
       "            <td>10        </td> <td>36        </td>\n",
       "        </tr>\n",
       "    </tbody>\n",
       "</table>\n",
       "<p>... (90 rows omitted)</p>"
      ],
      "text/plain": [
       "Repetition | No of Ties\n",
       "1          | 25\n",
       "2          | 34\n",
       "3          | 33\n",
       "4          | 43\n",
       "5          | 40\n",
       "6          | 24\n",
       "7          | 36\n",
       "8          | 38\n",
       "9          | 29\n",
       "10         | 36\n",
       "... (90 rows omitted)"
      ]
     },
     "execution_count": 33,
     "metadata": {},
     "output_type": "execute_result"
    }
   ],
   "source": [
    "### 다음과 같이 출력되어야 한다. (수정하지 마시오.)\n",
    "simulation100"
   ]
  },
  {
   "cell_type": "markdown",
   "metadata": {
    "id": "bUOefTgjM6e_"
   },
   "source": [
    "### 문제9\n",
    "위 문제와 동일하게 collect_count_tie() 함수를 이용하되 *N=100*, *T=10000*인 경우에 대해 Table 변수 ``simulation10000``에 저장하시오.\n",
    "\n",
    "- *N*과 *T*는 100, 10000으로 호출한다.\n",
    "- 리턴되는 Table의 column 이름은 'Repetition', 'No of Ties' 이다."
   ]
  },
  {
   "cell_type": "markdown",
   "metadata": {
    "id": "yxFadaWPM6e_"
   },
   "source": [
    "### 답안을 작성하시오.\n",
    "- 아래 한 개의 셀에 답을 작성하되 셀을 추가하지 말 것"
   ]
  },
  {
   "cell_type": "code",
   "execution_count": null,
   "metadata": {
    "id": "nS19UJBBM6e_"
   },
   "outputs": [],
   "source": [
    "### 답안 작성 셀\n",
    "\n",
    "\n",
    "\n",
    "\n"
   ]
  },
  {
   "cell_type": "code",
   "execution_count": null,
   "metadata": {
    "colab": {
     "base_uri": "https://localhost:8080/",
     "height": 392
    },
    "executionInfo": {
     "elapsed": 20,
     "status": "ok",
     "timestamp": 1747559194299,
     "user": {
      "displayName": "Yungkeun Kwon",
      "userId": "01566397534488960030"
     },
     "user_tz": -540
    },
    "id": "b-hHJ-moM6fA",
    "outputId": "ba10021b-0e62-4fed-a45e-c069b3752cc3"
   },
   "outputs": [
    {
     "data": {
      "text/html": [
       "<table border=\"1\" class=\"dataframe\">\n",
       "    <thead>\n",
       "        <tr>\n",
       "            <th>Repetition</th> <th>No of Ties</th>\n",
       "        </tr>\n",
       "    </thead>\n",
       "    <tbody>\n",
       "        <tr>\n",
       "            <td>1         </td> <td>31        </td>\n",
       "        </tr>\n",
       "        <tr>\n",
       "            <td>2         </td> <td>39        </td>\n",
       "        </tr>\n",
       "        <tr>\n",
       "            <td>3         </td> <td>36        </td>\n",
       "        </tr>\n",
       "        <tr>\n",
       "            <td>4         </td> <td>34        </td>\n",
       "        </tr>\n",
       "        <tr>\n",
       "            <td>5         </td> <td>32        </td>\n",
       "        </tr>\n",
       "        <tr>\n",
       "            <td>6         </td> <td>34        </td>\n",
       "        </tr>\n",
       "        <tr>\n",
       "            <td>7         </td> <td>31        </td>\n",
       "        </tr>\n",
       "        <tr>\n",
       "            <td>8         </td> <td>29        </td>\n",
       "        </tr>\n",
       "        <tr>\n",
       "            <td>9         </td> <td>33        </td>\n",
       "        </tr>\n",
       "        <tr>\n",
       "            <td>10        </td> <td>33        </td>\n",
       "        </tr>\n",
       "    </tbody>\n",
       "</table>\n",
       "<p>... (9990 rows omitted)</p>"
      ],
      "text/plain": [
       "Repetition | No of Ties\n",
       "1          | 31\n",
       "2          | 39\n",
       "3          | 36\n",
       "4          | 34\n",
       "5          | 32\n",
       "6          | 34\n",
       "7          | 31\n",
       "8          | 29\n",
       "9          | 33\n",
       "10         | 33\n",
       "... (9990 rows omitted)"
      ]
     },
     "execution_count": 83,
     "metadata": {},
     "output_type": "execute_result"
    }
   ],
   "source": [
    "### 다음과 같이 출력되어야 한다. (수정하지 마시오.)\n",
    "simulation10000"
   ]
  },
  {
   "cell_type": "markdown",
   "metadata": {
    "id": "KmP8oKGSM6rq"
   },
   "source": [
    "### 문제10\n",
    "위에서 구한 *simulation100*, *simulation10000*에 대해 'No of Ties'의 중앙값(median)을 각각 *m100*, *m10000*에 저장하시오.\n",
    "- numpy의 median() 함수를 이용하여 중앙값을 구한다."
   ]
  },
  {
   "cell_type": "markdown",
   "metadata": {
    "id": "jYsuGf_dM6rq"
   },
   "source": [
    "### 답안을 작성하시오.\n",
    "- 아래 한 개의 셀에 답을 작성하되 셀을 추가하지 말 것"
   ]
  },
  {
   "cell_type": "code",
   "execution_count": null,
   "metadata": {
    "id": "i_ZbNgooM6rq"
   },
   "outputs": [],
   "source": [
    "### 답안 작성 셀\n",
    "\n",
    "\n",
    "\n"
   ]
  },
  {
   "cell_type": "code",
   "execution_count": null,
   "metadata": {
    "colab": {
     "base_uri": "https://localhost:8080/"
    },
    "executionInfo": {
     "elapsed": 7,
     "status": "ok",
     "timestamp": 1747559227417,
     "user": {
      "displayName": "Yungkeun Kwon",
      "userId": "01566397534488960030"
     },
     "user_tz": -540
    },
    "id": "3Vh21N2bM6rq",
    "outputId": "8208fafa-12dc-48e0-b05e-bba3e16fbd7b"
   },
   "outputs": [
    {
     "data": {
      "text/plain": [
       "(33.0, 33.0)"
      ]
     },
     "execution_count": 85,
     "metadata": {},
     "output_type": "execute_result"
    }
   ],
   "source": [
    "### 다음과 같이 출력되어야 한다. (수정하지 마시오.)\n",
    "m100, m10000"
   ]
  },
  {
   "cell_type": "markdown",
   "metadata": {
    "id": "zBU5kTdujust"
   },
   "source": [
    "### 추가) 위 *simulation100*과 *simulation10000*의 histogram을 그려보고 비교해 보시오."
   ]
  },
  {
   "cell_type": "code",
   "execution_count": null,
   "metadata": {
    "colab": {
     "base_uri": "https://localhost:8080/",
     "height": 410
    },
    "executionInfo": {
     "elapsed": 213,
     "status": "ok",
     "timestamp": 1747559250600,
     "user": {
      "displayName": "Yungkeun Kwon",
      "userId": "01566397534488960030"
     },
     "user_tz": -540
    },
    "id": "NBA5JgMOf4im",
    "outputId": "bf5477b3-06ea-47d7-cc1d-f2a1477f9c8c"
   },
   "outputs": [
    {
     "data": {
      "image/png": "[encoded data removed]",
      "text/plain": [
       "<Figure size 600x400 with 1 Axes>"
      ]
     },
     "metadata": {},
     "output_type": "display_data"
    }
   ],
   "source": [
    "# simulation100 의 historgram : bins=np.arange(15.5, 60.1, 1) 로 설정\n",
    "\n",
    "\n"
   ]
  },
  {
   "cell_type": "code",
   "execution_count": null,
   "metadata": {
    "colab": {
     "base_uri": "https://localhost:8080/",
     "height": 410
    },
    "executionInfo": {
     "elapsed": 273,
     "status": "ok",
     "timestamp": 1747559264338,
     "user": {
      "displayName": "Yungkeun Kwon",
      "userId": "01566397534488960030"
     },
     "user_tz": -540
    },
    "id": "6RrluCOfh-E3",
    "outputId": "5122115c-c061-4a71-825f-48ed5bdb6c19"
   },
   "outputs": [
    {
     "data": {
      "image/png": "[encoded data removed]",
      "text/plain": [
       "<Figure size 600x400 with 1 Axes>"
      ]
     },
     "metadata": {},
     "output_type": "display_data"
    }
   ],
   "source": [
    "# simulation10000 의 historgram : bins=np.arange(15.5, 60.1, 1) 로 설정\n",
    "\n",
    "\n",
    "\n",
    "\n"
   ]
  }
 ],
 "metadata": {
  "colab": {
   "provenance": [],
   "toc_visible": true
  },
  "kernelspec": {
   "display_name": "base",
   "language": "python",
   "name": "python3"
  },
  "language_info": {
   "codemirror_mode": {
    "name": "ipython",
    "version": 3
   },
   "file_extension": ".py",
   "mimetype": "text/x-python",
   "name": "python",
   "nbconvert_exporter": "python",
   "pygments_lexer": "ipython3",
   "version": "3.12.7"
  }
 },
 "nbformat": 4,
 "nbformat_minor": 0
}
