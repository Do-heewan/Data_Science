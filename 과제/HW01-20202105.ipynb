{
 "cells": [
  {
   "cell_type": "markdown",
   "metadata": {
    "id": "xvy1kHBQLWeC"
   },
   "source": [
    "# HW01 <font color=red>(제출기한-3월30일 일요일 자정)</font>\n",
    "---\n",
    "NumPy 이해도 평가를 위한 문제입니다.\n",
    "다음 사항을 주의해서 제출하기 바랍니다.\n",
    "\n",
    "- 각 문제에 대한 답안을 <font color=red>'답안을 작성하시오'</font>라고 적힌 <font color=red>한 코드셀 내</font>에 작성하며 셀 내에서 여러줄로 작성해도 무방합니다.\n",
    "- 셀을 추가하거나 셀을 삭제하지 않습니다. 예: (<font color=red>'지우지 마시오'</font> 셀 등)\n",
    "- 출력결과가 미리 제시된 셀(<font color=red>'예시 실행결과를 참조하시오.'</font>라고 표시된 셀)을 참고합니다.\n",
    "- Loop를 사용하지 말고 ufunc을 활용합니다.\n",
    "- 수업시간 배운 내용만을 사용하여 코드를 작성합니다.\n",
    "- 문제나 제출방법에 대한 질문이 있을 경우 제출전 UCLASS 등을 통해 반드시 미리 확인합니다.\n",
    "\n",
    "> 제출방법\n",
    "\n",
    "- ULMS HW1 제출란에 <font color=red>'HW01-학번.ipynb'</font>(본인학번을 기입)을 기한내 업로드합니다.\n"
   ]
  },
  {
   "cell_type": "markdown",
   "metadata": {
    "id": "jd2psIJa3dzg"
   },
   "source": [
    "### 가정\n",
    "- 아래에서 생성된 _score_ 변수는 $20 \\times 4$ 크기의 2차원 numpy array이다.\n",
    "- 이는 10명 학생의 국어, 영어, 수학, 사회 점수(1번째부터 3번째 열 순서)를 각각 나타낸다. (0점~100점)"
   ]
  },
  {
   "cell_type": "code",
   "execution_count": 10,
   "metadata": {
    "colab": {
     "base_uri": "https://localhost:8080/"
    },
    "executionInfo": {
     "elapsed": 10,
     "status": "ok",
     "timestamp": 1742282193943,
     "user": {
      "displayName": "Yungkeun Kwon",
      "userId": "01566397534488960030"
     },
     "user_tz": -540
    },
    "id": "FCA358Dz3dzh",
    "outputId": "7876c328-42aa-460b-d1c5-8930e255e7ab"
   },
   "outputs": [
    {
     "data": {
      "text/plain": [
       "array([[49, 24, 66, 47],\n",
       "       [90, 99, 80, 39],\n",
       "       [20, 58, 38, 85],\n",
       "       [36, 27, 62, 56],\n",
       "       [84, 37, 28, 49],\n",
       "       [75, 75, 26, 44],\n",
       "       [22, 60, 26, 45],\n",
       "       [85, 30, 99, 69],\n",
       "       [40, 25, 81, 57],\n",
       "       [45, 98, 64, 57]])"
      ]
     },
     "execution_count": 10,
     "metadata": {},
     "output_type": "execute_result"
    }
   ],
   "source": [
    "### 지우지 마시오.\n",
    "import numpy as np\n",
    "rng=np.random.RandomState(765)\n",
    "score=rng.randint(20, 101,(10,4))\n",
    "score"
   ]
  },
  {
   "cell_type": "markdown",
   "metadata": {
    "id": "T6ojb-1Q3dzh"
   },
   "source": [
    "### 문제1\n",
    "가장 마지막 학생의 수학 점수가 64점이 아니라 46점이라고 한다.\n",
    "\n",
    "이렇게 *score* 배열을 수정하기 위한 코드를 작성하시오."
   ]
  },
  {
   "cell_type": "code",
   "execution_count": 11,
   "metadata": {
    "id": "cbJwTqjf3dzh"
   },
   "outputs": [
    {
     "data": {
      "text/plain": [
       "array([[49, 24, 66, 47],\n",
       "       [90, 99, 80, 39],\n",
       "       [20, 58, 38, 85],\n",
       "       [36, 27, 62, 56],\n",
       "       [84, 37, 28, 49],\n",
       "       [75, 75, 26, 44],\n",
       "       [22, 60, 26, 45],\n",
       "       [85, 30, 99, 69],\n",
       "       [40, 25, 81, 57],\n",
       "       [45, 98, 46, 57]])"
      ]
     },
     "execution_count": 11,
     "metadata": {},
     "output_type": "execute_result"
    }
   ],
   "source": [
    "### 답안을 작성하시오.\n",
    "score[9][2] = 46\n",
    "score"
   ]
  },
  {
   "cell_type": "code",
   "execution_count": 3,
   "metadata": {
    "colab": {
     "base_uri": "https://localhost:8080/"
    },
    "executionInfo": {
     "elapsed": 14,
     "status": "ok",
     "timestamp": 1742282221526,
     "user": {
      "displayName": "Yungkeun Kwon",
      "userId": "01566397534488960030"
     },
     "user_tz": -540
    },
    "id": "bpZCLYVX3dzh",
    "outputId": "f6ed5b72-7b5d-46ae-e498-e125520ef233"
   },
   "outputs": [
    {
     "data": {
      "text/plain": [
       "array([[49, 24, 66, 47],\n",
       "       [90, 99, 80, 39],\n",
       "       [20, 58, 38, 85],\n",
       "       [36, 27, 62, 56],\n",
       "       [84, 37, 28, 49],\n",
       "       [75, 75, 26, 44],\n",
       "       [22, 60, 26, 45],\n",
       "       [85, 30, 99, 69],\n",
       "       [40, 25, 81, 57],\n",
       "       [45, 98, 46, 57]])"
      ]
     },
     "execution_count": 3,
     "metadata": {},
     "output_type": "execute_result"
    }
   ],
   "source": [
    "### 예시 실행결과를 참조하시오.\n",
    "score"
   ]
  },
  {
   "cell_type": "markdown",
   "metadata": {
    "id": "UyQorweg3dzh"
   },
   "source": [
    "### 문제2\n",
    "위 결과 이후 채점에 오류가 발견되어 모든 학생들의 영어점수를 5점씩 줄여야 한다고 한다. 이렇게 *score* 배열을 수정하기 위한 코드를 작성하시오."
   ]
  },
  {
   "cell_type": "code",
   "execution_count": 12,
   "metadata": {},
   "outputs": [
    {
     "data": {
      "text/plain": [
       "array([[49, 19, 66, 47],\n",
       "       [90, 94, 80, 39],\n",
       "       [20, 53, 38, 85],\n",
       "       [36, 22, 62, 56],\n",
       "       [84, 32, 28, 49],\n",
       "       [75, 70, 26, 44],\n",
       "       [22, 55, 26, 45],\n",
       "       [85, 25, 99, 69],\n",
       "       [40, 20, 81, 57],\n",
       "       [45, 93, 46, 57]])"
      ]
     },
     "execution_count": 12,
     "metadata": {},
     "output_type": "execute_result"
    }
   ],
   "source": [
    "### 답안을 작성하시오.\n",
    "score[:, 1] -= 5\n",
    "score"
   ]
  },
  {
   "cell_type": "code",
   "execution_count": 5,
   "metadata": {
    "colab": {
     "base_uri": "https://localhost:8080/"
    },
    "executionInfo": {
     "elapsed": 4,
     "status": "ok",
     "timestamp": 1742282248079,
     "user": {
      "displayName": "Yungkeun Kwon",
      "userId": "01566397534488960030"
     },
     "user_tz": -540
    },
    "id": "-GR80aI23dzi",
    "outputId": "e261767f-1067-4fa7-8979-37fbc1ed2309"
   },
   "outputs": [
    {
     "data": {
      "text/plain": [
       "array([[49, 19, 66, 47],\n",
       "       [90, 94, 80, 39],\n",
       "       [20, 53, 38, 85],\n",
       "       [36, 22, 62, 56],\n",
       "       [84, 32, 28, 49],\n",
       "       [75, 70, 26, 44],\n",
       "       [22, 55, 26, 45],\n",
       "       [85, 25, 99, 69],\n",
       "       [40, 20, 81, 57],\n",
       "       [45, 93, 46, 57]])"
      ]
     },
     "execution_count": 5,
     "metadata": {},
     "output_type": "execute_result"
    }
   ],
   "source": [
    "### 예시 실행결과를 참조하시오.\n",
    "score"
   ]
  },
  {
   "cell_type": "markdown",
   "metadata": {
    "id": "zoGIBkJn3dzi"
   },
   "source": [
    "### 문제3\n",
    "새로운 음악, 미술 과목의 시험 점수가 다음 _score\\_add_ 변수에 주어진다. 이를 _score_ 변수 데이터에 덧붙여 총 6개 과목의 데이터를 *score_all*변수에 다시 저장하고자 한다. 이를 위한 코드를 작성하시오."
   ]
  },
  {
   "cell_type": "code",
   "execution_count": null,
   "metadata": {
    "colab": {
     "base_uri": "https://localhost:8080/"
    },
    "executionInfo": {
     "elapsed": 13,
     "status": "ok",
     "timestamp": 1742282403175,
     "user": {
      "displayName": "Yungkeun Kwon",
      "userId": "01566397534488960030"
     },
     "user_tz": -540
    },
    "id": "VYJhyDv_3dzi",
    "outputId": "9de6c49c-3d5e-4802-9312-4585836c3cc7"
   },
   "outputs": [
    {
     "data": {
      "text/plain": [
       "array([[58, 66],\n",
       "       [60, 77],\n",
       "       [46, 29],\n",
       "       [86, 66],\n",
       "       [26, 53],\n",
       "       [83, 53],\n",
       "       [76, 89],\n",
       "       [92, 90],\n",
       "       [70, 95],\n",
       "       [24, 47]])"
      ]
     },
     "execution_count": 19,
     "metadata": {},
     "output_type": "execute_result"
    }
   ],
   "source": [
    "### 지우지 마시오.\n",
    "score_add=rng.randint(20, 101,(10,2)) # rng로 인해 시드 고정이지만 값이 바뀐다. 하지만 여러번 반복하니 바뀌는 값들이 일정하다.\n",
    "score_add"
   ]
  },
  {
   "cell_type": "code",
   "execution_count": 21,
   "metadata": {
    "id": "epI7AvSy3dzi"
   },
   "outputs": [
    {
     "data": {
      "text/plain": [
       "array([[49, 19, 66, 47, 58, 66],\n",
       "       [90, 94, 80, 39, 60, 77],\n",
       "       [20, 53, 38, 85, 46, 29],\n",
       "       [36, 22, 62, 56, 86, 66],\n",
       "       [84, 32, 28, 49, 26, 53],\n",
       "       [75, 70, 26, 44, 83, 53],\n",
       "       [22, 55, 26, 45, 76, 89],\n",
       "       [85, 25, 99, 69, 92, 90],\n",
       "       [40, 20, 81, 57, 70, 95],\n",
       "       [45, 93, 46, 57, 24, 47]])"
      ]
     },
     "execution_count": 21,
     "metadata": {},
     "output_type": "execute_result"
    }
   ],
   "source": [
    "### 답안을 작성하시오.\n",
    "score_all = np.hstack([score, score_add])\n",
    "score_all"
   ]
  },
  {
   "cell_type": "code",
   "execution_count": null,
   "metadata": {
    "colab": {
     "base_uri": "https://localhost:8080/"
    },
    "executionInfo": {
     "elapsed": 7,
     "status": "ok",
     "timestamp": 1742282416300,
     "user": {
      "displayName": "Yungkeun Kwon",
      "userId": "01566397534488960030"
     },
     "user_tz": -540
    },
    "id": "z0lcTutl3dzi",
    "outputId": "bfab112c-5f69-4968-e95f-7971708966e6"
   },
   "outputs": [
    {
     "data": {
      "text/plain": [
       "array([[49, 19, 66, 47, 58, 66],\n",
       "       [90, 94, 80, 39, 60, 77],\n",
       "       [20, 53, 38, 85, 46, 29],\n",
       "       [36, 22, 62, 56, 86, 66],\n",
       "       [84, 32, 28, 49, 26, 53],\n",
       "       [75, 70, 26, 44, 83, 53],\n",
       "       [22, 55, 26, 45, 76, 89],\n",
       "       [85, 25, 99, 69, 92, 90],\n",
       "       [40, 20, 81, 57, 70, 95],\n",
       "       [45, 93, 46, 57, 24, 47]])"
      ]
     },
     "execution_count": 38,
     "metadata": {},
     "output_type": "execute_result"
    }
   ],
   "source": [
    "### 예시 실행결과를 참조하시오.\n",
    "score_all"
   ]
  },
  {
   "cell_type": "markdown",
   "metadata": {
    "id": "0r-4Dtyy3dzi"
   },
   "source": [
    "### 문제4\n",
    "위 결과 *score_all* array에 대해 과목별 평균점수를 뜻하는 _avg\\_subject_ array(1차원)를 구하는 코드를 작성하시오."
   ]
  },
  {
   "cell_type": "code",
   "execution_count": 22,
   "metadata": {
    "id": "khH_NMkj3dzj"
   },
   "outputs": [
    {
     "data": {
      "text/plain": [
       "array([54.6, 48.3, 55.2, 54.8, 62.1, 66.5])"
      ]
     },
     "execution_count": 22,
     "metadata": {},
     "output_type": "execute_result"
    }
   ],
   "source": [
    "### 답안을 작성하시오.\n",
    "avg_subject = np.mean(score_all, axis=0)\n",
    "avg_subject"
   ]
  },
  {
   "cell_type": "code",
   "execution_count": null,
   "metadata": {
    "colab": {
     "base_uri": "https://localhost:8080/"
    },
    "executionInfo": {
     "elapsed": 4,
     "status": "ok",
     "timestamp": 1742282451324,
     "user": {
      "displayName": "Yungkeun Kwon",
      "userId": "01566397534488960030"
     },
     "user_tz": -540
    },
    "id": "3FaUVPL43dzj",
    "outputId": "e55dc09b-5121-4790-8900-a3269d7191b2"
   },
   "outputs": [
    {
     "data": {
      "text/plain": [
       "array([54.6, 48.3, 55.2, 54.8, 62.1, 66.5])"
      ]
     },
     "execution_count": 40,
     "metadata": {},
     "output_type": "execute_result"
    }
   ],
   "source": [
    "### 예시 실행결과를 참조하시오.\n",
    "avg_subject"
   ]
  },
  {
   "cell_type": "markdown",
   "metadata": {
    "id": "XsNFC1yP3dzj"
   },
   "source": [
    "### 문제5\n",
    "비슷하게 *score* array에 대해 학생별 평균점수를 뜻하는 _avg\\_student_ array(1차원)를 구하는 코드를 작성하시오."
   ]
  },
  {
   "cell_type": "code",
   "execution_count": 23,
   "metadata": {
    "id": "z2y6otni3dzj"
   },
   "outputs": [
    {
     "data": {
      "text/plain": [
       "array([50.83333333, 73.33333333, 45.16666667, 54.66666667, 45.33333333,\n",
       "       58.5       , 52.16666667, 76.66666667, 60.5       , 52.        ])"
      ]
     },
     "execution_count": 23,
     "metadata": {},
     "output_type": "execute_result"
    }
   ],
   "source": [
    "### 답안을 작성하시오.\n",
    "avg_student = np.mean(score_all, axis = 1) # score가 아니라 score_all\n",
    "avg_student"
   ]
  },
  {
   "cell_type": "code",
   "execution_count": null,
   "metadata": {
    "colab": {
     "base_uri": "https://localhost:8080/"
    },
    "executionInfo": {
     "elapsed": 8,
     "status": "ok",
     "timestamp": 1742283013656,
     "user": {
      "displayName": "Yungkeun Kwon",
      "userId": "01566397534488960030"
     },
     "user_tz": -540
    },
    "id": "a1hJQBJi3dzj",
    "outputId": "31a00c4d-bdde-4cbc-d9f9-48a661365e95"
   },
   "outputs": [
    {
     "data": {
      "text/plain": [
       "array([50.83333333, 73.33333333, 45.16666667, 54.66666667, 45.33333333,\n",
       "       58.5       , 52.16666667, 76.66666667, 60.5       , 52.        ])"
      ]
     },
     "execution_count": 55,
     "metadata": {},
     "output_type": "execute_result"
    }
   ],
   "source": [
    "### 예시 실행결과를 참조하시오.\n",
    "avg_student"
   ]
  },
  {
   "cell_type": "markdown",
   "metadata": {
    "id": "essKU3Li3dzj"
   },
   "source": [
    "### 문제6\n",
    "각 점수가 해당과목의 평균으로부터 얼마나 차이가 나는지(이를 편차라고 한다.)를 나타내는 _score\\_dev_ array(2차원)를 생성하시오.\n",
    "- score_dev의 shape는 score의 shape와 동일하다. 즉 score_dev.shape=(20, 6)\n",
    "- 만약 어떤 학생의 국어 점수가 30점이고 전체 학생의 국어 평균이 45점이면 그 차이(편차)는 $30-45=-15$ 점이다.\n",
    "\n",
    "---\n",
    "참고) _score\\_dev_ 의 axis=0 방향 평균값이 어떻게 될 지 생각해 보자.\n"
   ]
  },
  {
   "cell_type": "code",
   "execution_count": 24,
   "metadata": {
    "id": "RHDLWSPY3dzj"
   },
   "outputs": [
    {
     "data": {
      "text/plain": [
       "array([[ -5.6, -29.3,  10.8,  -7.8,  -4.1,  -0.5],\n",
       "       [ 35.4,  45.7,  24.8, -15.8,  -2.1,  10.5],\n",
       "       [-34.6,   4.7, -17.2,  30.2, -16.1, -37.5],\n",
       "       [-18.6, -26.3,   6.8,   1.2,  23.9,  -0.5],\n",
       "       [ 29.4, -16.3, -27.2,  -5.8, -36.1, -13.5],\n",
       "       [ 20.4,  21.7, -29.2, -10.8,  20.9, -13.5],\n",
       "       [-32.6,   6.7, -29.2,  -9.8,  13.9,  22.5],\n",
       "       [ 30.4, -23.3,  43.8,  14.2,  29.9,  23.5],\n",
       "       [-14.6, -28.3,  25.8,   2.2,   7.9,  28.5],\n",
       "       [ -9.6,  44.7,  -9.2,   2.2, -38.1, -19.5]])"
      ]
     },
     "execution_count": 24,
     "metadata": {},
     "output_type": "execute_result"
    }
   ],
   "source": [
    "### 답안을 작성하시오.\n",
    "'''print(f'학생들의 점수 : \\n{score_all}')\n",
    "print(f\"각 과목별 평균 : {np.mean(score_all, axis = 0)}\")\n",
    "print(f\"편차 : \\n{score_all - np.mean(score_all, axis = 0)}\")'''\n",
    "\n",
    "score_dev = score_all - avg_subject\n",
    "score_dev"
   ]
  },
  {
   "cell_type": "code",
   "execution_count": null,
   "metadata": {
    "colab": {
     "base_uri": "https://localhost:8080/"
    },
    "executionInfo": {
     "elapsed": 18,
     "status": "ok",
     "timestamp": 1742283139942,
     "user": {
      "displayName": "Yungkeun Kwon",
      "userId": "01566397534488960030"
     },
     "user_tz": -540
    },
    "id": "VJMmKwfv3dzj",
    "outputId": "722ed842-ab2c-43f3-84c4-aa7ea8814db1"
   },
   "outputs": [
    {
     "data": {
      "text/plain": [
       "array([[ -5.6, -29.3,  10.8,  -7.8,  -4.1,  -0.5],\n",
       "       [ 35.4,  45.7,  24.8, -15.8,  -2.1,  10.5],\n",
       "       [-34.6,   4.7, -17.2,  30.2, -16.1, -37.5],\n",
       "       [-18.6, -26.3,   6.8,   1.2,  23.9,  -0.5],\n",
       "       [ 29.4, -16.3, -27.2,  -5.8, -36.1, -13.5],\n",
       "       [ 20.4,  21.7, -29.2, -10.8,  20.9, -13.5],\n",
       "       [-32.6,   6.7, -29.2,  -9.8,  13.9,  22.5],\n",
       "       [ 30.4, -23.3,  43.8,  14.2,  29.9,  23.5],\n",
       "       [-14.6, -28.3,  25.8,   2.2,   7.9,  28.5],\n",
       "       [ -9.6,  44.7,  -9.2,   2.2, -38.1, -19.5]])"
      ]
     },
     "execution_count": 61,
     "metadata": {},
     "output_type": "execute_result"
    }
   ],
   "source": [
    "### 예시 실행결과를 참조하시오.\n",
    "score_dev"
   ]
  },
  {
   "cell_type": "markdown",
   "metadata": {
    "id": "X8lGy3u63dzk"
   },
   "source": [
    "### 문제7\n",
    "위 *avg_student*를 이용하여 전체과목 평균점수를 기준으로 1등과 10등을 한 학생들이 몇 번째 학생인지를 각각 *student_best*와 *student_worst*에 각각 저장하시오.\n",
    "- 결과값은 1이상 10이하의 자연수이다."
   ]
  },
  {
   "cell_type": "code",
   "execution_count": 25,
   "metadata": {
    "id": "4ahTdzt73dzk"
   },
   "outputs": [
    {
     "name": "stdout",
     "output_type": "stream",
     "text": [
      "1등 : 8번째 학생, 10등 : 3번째 학생\n"
     ]
    }
   ],
   "source": [
    "### 답안을 작성하시오.\n",
    "student_best = np.argmax(avg_student) + 1\n",
    "student_worst = np.argmin(avg_student) + 1\n",
    "\n",
    "print(f\"1등 : {student_best}번째 학생, 10등 : {student_worst}번째 학생\")"
   ]
  },
  {
   "cell_type": "code",
   "execution_count": null,
   "metadata": {
    "colab": {
     "base_uri": "https://localhost:8080/"
    },
    "executionInfo": {
     "elapsed": 13,
     "status": "ok",
     "timestamp": 1742283158110,
     "user": {
      "displayName": "Yungkeun Kwon",
      "userId": "01566397534488960030"
     },
     "user_tz": -540
    },
    "id": "Y49OjGug3dzk",
    "outputId": "f67fc824-f3a5-45cc-f61b-69fa5fa9325a"
   },
   "outputs": [
    {
     "data": {
      "text/plain": [
       "(np.int64(8), np.int64(3))"
      ]
     },
     "execution_count": 63,
     "metadata": {},
     "output_type": "execute_result"
    }
   ],
   "source": [
    "### 예시 실행결과를 참조하시오.\n",
    "student_best, student_worst"
   ]
  },
  {
   "cell_type": "markdown",
   "metadata": {
    "id": "2ODNepd03dzk"
   },
   "source": [
    "### 문제8\n",
    "위 avg_student를 이용하여 전체 학생의 평균점수를 구하여 _avg\\_total_ 변수에 저장하시오."
   ]
  },
  {
   "cell_type": "code",
   "execution_count": 26,
   "metadata": {
    "id": "uYuJ4eIP3dzk"
   },
   "outputs": [
    {
     "data": {
      "text/plain": [
       "56.91666666666667"
      ]
     },
     "execution_count": 26,
     "metadata": {},
     "output_type": "execute_result"
    }
   ],
   "source": [
    "### 답안을 작성하시오.\n",
    "avg_total = np.mean(avg_student)\n",
    "avg_total"
   ]
  },
  {
   "cell_type": "code",
   "execution_count": null,
   "metadata": {
    "colab": {
     "base_uri": "https://localhost:8080/"
    },
    "executionInfo": {
     "elapsed": 35,
     "status": "ok",
     "timestamp": 1742283166513,
     "user": {
      "displayName": "Yungkeun Kwon",
      "userId": "01566397534488960030"
     },
     "user_tz": -540
    },
    "id": "TFvVyVX93dzk",
    "outputId": "dd4b05c7-c6c2-4da0-9c80-4682efde4ab8"
   },
   "outputs": [
    {
     "data": {
      "text/plain": [
       "np.float64(56.91666666666667)"
      ]
     },
     "execution_count": 65,
     "metadata": {},
     "output_type": "execute_result"
    }
   ],
   "source": [
    "### 예시 실행결과를 참조하시오.\n",
    "avg_total"
   ]
  },
  {
   "cell_type": "markdown",
   "metadata": {
    "id": "6pviDfVn3dzk"
   },
   "source": [
    "### 문제9\n",
    "전체 평균 점수(_avg\\_total_) 보다 높은 평균 점수를 얻은 학생의 수를 구하여 _no\\_student\\_high_ 변수에 저장하시오.  "
   ]
  },
  {
   "cell_type": "code",
   "execution_count": 27,
   "metadata": {
    "id": "qg_ZwBlk3dzl"
   },
   "outputs": [
    {
     "data": {
      "text/plain": [
       "4"
      ]
     },
     "execution_count": 27,
     "metadata": {},
     "output_type": "execute_result"
    }
   ],
   "source": [
    "### 답안을 작성하시오.\n",
    "'''\n",
    "print(f\"{avg_student}중 {avg_total} 보다 큰 것 : {avg_student > avg_total}\")\n",
    "'''\n",
    "no_student_high = np.sum(avg_student > avg_total)\n",
    "no_student_high"
   ]
  },
  {
   "cell_type": "code",
   "execution_count": null,
   "metadata": {
    "colab": {
     "base_uri": "https://localhost:8080/"
    },
    "executionInfo": {
     "elapsed": 10,
     "status": "ok",
     "timestamp": 1742283232223,
     "user": {
      "displayName": "Yungkeun Kwon",
      "userId": "01566397534488960030"
     },
     "user_tz": -540
    },
    "id": "p0baINud3dzl",
    "outputId": "b13ffed5-ca82-4967-8f15-05a472bf2c76"
   },
   "outputs": [
    {
     "data": {
      "text/plain": [
       "np.int64(4)"
      ]
     },
     "execution_count": 68,
     "metadata": {},
     "output_type": "execute_result"
    }
   ],
   "source": [
    "### 예시 실행결과를 참조하시오.\n",
    "no_student_high"
   ]
  },
  {
   "cell_type": "markdown",
   "metadata": {
    "id": "DwAYeFBJ3dzl"
   },
   "source": [
    "### 문제10\n",
    "수학점수가 국어점수와 영어점수보다 모두 더 높은 학생 수를 구하여 _no\\_student\\_math_ 변수에 저장하시오.\n"
   ]
  },
  {
   "cell_type": "code",
   "execution_count": 28,
   "metadata": {
    "id": "5uM0SifO3dzl"
   },
   "outputs": [
    {
     "data": {
      "text/plain": [
       "4"
      ]
     },
     "execution_count": 28,
     "metadata": {},
     "output_type": "execute_result"
    }
   ],
   "source": [
    "### 답안을 작성하시오.\n",
    "\n",
    "# 국, 영, 수, 사\n",
    "'''print(f\"전체 스코어 : \\n{score_all}\\n 그 중 수학점수 : \\n{score_all[:, 2]}\")\n",
    "print(f\"국어보다 수학이 높은 학생 : \\n{score_all[:, 2] > score_all[:, 0]}\\n영어보다 수학이 높은 학생 : \\n{score_all[:, 2] > score_all[:, 1]}\")\n",
    "print(f\"둘 다 True인 경우 : {np.sum((score_all[:, 2] > score_all[:, 0]) & (score_all[:, 2] > score_all[:, 1]))}명\")'''\n",
    "\n",
    "no_student_math = np.sum((score_all[:, 2] > score_all[:, 0]) & (score_all[:, 2] > score_all[:, 1]))\n",
    "no_student_math"
   ]
  },
  {
   "cell_type": "code",
   "execution_count": null,
   "metadata": {
    "colab": {
     "base_uri": "https://localhost:8080/"
    },
    "executionInfo": {
     "elapsed": 17,
     "status": "ok",
     "timestamp": 1742283282236,
     "user": {
      "displayName": "Yungkeun Kwon",
      "userId": "01566397534488960030"
     },
     "user_tz": -540
    },
    "id": "VGat_5jx3dzl",
    "outputId": "026d1b0b-042c-4bd8-cc51-34f910e1c4de"
   },
   "outputs": [
    {
     "data": {
      "text/plain": [
       "np.int64(4)"
      ]
     },
     "execution_count": 70,
     "metadata": {},
     "output_type": "execute_result"
    }
   ],
   "source": [
    "### 예시 실행결과를 참조하시오.\n",
    "no_student_math"
   ]
  }
 ],
 "metadata": {
  "colab": {
   "provenance": []
  },
  "kernelspec": {
   "display_name": "base",
   "language": "python",
   "name": "python3"
  },
  "language_info": {
   "codemirror_mode": {
    "name": "ipython",
    "version": 3
   },
   "file_extension": ".py",
   "mimetype": "text/x-python",
   "name": "python",
   "nbconvert_exporter": "python",
   "pygments_lexer": "ipython3",
   "version": "3.12.7"
  }
 },
 "nbformat": 4,
 "nbformat_minor": 4
}
