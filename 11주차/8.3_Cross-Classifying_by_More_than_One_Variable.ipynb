{
 "cells": [
  {
   "cell_type": "code",
   "execution_count": 1,
   "metadata": {
    "tags": [
     "remove-input"
    ]
   },
   "outputs": [],
   "source": [
    "from datascience import *\n",
    "path_data = '../assets/data/'\n",
    "import numpy as np\n",
    "\n",
    "import matplotlib\n",
    "matplotlib.use('Agg')\n",
    "%matplotlib inline\n",
    "import matplotlib.pyplot as plots\n",
    "plots.style.use('fivethirtyeight')"
   ]
  },
  {
   "cell_type": "markdown",
   "metadata": {},
   "source": [
    "# Cross-Classifying by More than One Variable\n",
    "\n",
    "When individuals have multiple features, there are many different ways to classify them. For example, if we have a population of college students for each of whom we have recorded a major and the number of years in college, then the students could be classified by major, or by year, or by a combination of major and year.\n",
    "\n",
    "The `group` method also allows us to classify individuals according to multiple variables. This is called *cross-classifying*."
   ]
  },
  {
   "cell_type": "markdown",
   "metadata": {},
   "source": [
    "## Two Variables: Counting the Number in Each Paired Category\n",
    "The table `more_cones` records the flavor, color, and price of six ice cream cones."
   ]
  },
  {
   "cell_type": "code",
   "execution_count": 2,
   "metadata": {},
   "outputs": [
    {
     "data": {
      "text/html": [
       "<table border=\"1\" class=\"dataframe\">\n",
       "    <thead>\n",
       "        <tr>\n",
       "            <th>Flavor</th> <th>Color</th> <th>Price</th>\n",
       "        </tr>\n",
       "    </thead>\n",
       "    <tbody>\n",
       "        <tr>\n",
       "            <td>strawberry</td> <td>pink       </td> <td>3.55 </td>\n",
       "        </tr>\n",
       "        <tr>\n",
       "            <td>chocolate </td> <td>light brown</td> <td>4.75 </td>\n",
       "        </tr>\n",
       "        <tr>\n",
       "            <td>chocolate </td> <td>dark brown </td> <td>5.25 </td>\n",
       "        </tr>\n",
       "        <tr>\n",
       "            <td>strawberry</td> <td>pink       </td> <td>5.25 </td>\n",
       "        </tr>\n",
       "        <tr>\n",
       "            <td>chocolate </td> <td>dark brown </td> <td>5.25 </td>\n",
       "        </tr>\n",
       "        <tr>\n",
       "            <td>bubblegum </td> <td>pink       </td> <td>4.75 </td>\n",
       "        </tr>\n",
       "    </tbody>\n",
       "</table>"
      ],
      "text/plain": [
       "Flavor     | Color       | Price\n",
       "strawberry | pink        | 3.55\n",
       "chocolate  | light brown | 4.75\n",
       "chocolate  | dark brown  | 5.25\n",
       "strawberry | pink        | 5.25\n",
       "chocolate  | dark brown  | 5.25\n",
       "bubblegum  | pink        | 4.75"
      ]
     },
     "execution_count": 2,
     "metadata": {},
     "output_type": "execute_result"
    }
   ],
   "source": [
    "more_cones = Table().with_columns(\n",
    "    'Flavor', make_array('strawberry', 'chocolate', 'chocolate', 'strawberry', 'chocolate', 'bubblegum'),\n",
    "    'Color', make_array('pink', 'light brown', 'dark brown', 'pink', 'dark brown', 'pink'),\n",
    "    'Price', make_array(3.55, 4.75, 5.25, 5.25, 5.25, 4.75)\n",
    ")\n",
    "\n",
    "more_cones"
   ]
  },
  {
   "cell_type": "markdown",
   "metadata": {},
   "source": [
    "We know how to use `group` to count the number of cones of each flavor:"
   ]
  },
  {
   "cell_type": "code",
   "execution_count": 3,
   "metadata": {},
   "outputs": [
    {
     "data": {
      "text/html": [
       "<table border=\"1\" class=\"dataframe\">\n",
       "    <thead>\n",
       "        <tr>\n",
       "            <th>Flavor</th> <th>count</th>\n",
       "        </tr>\n",
       "    </thead>\n",
       "    <tbody>\n",
       "        <tr>\n",
       "            <td>bubblegum </td> <td>1    </td>\n",
       "        </tr>\n",
       "        <tr>\n",
       "            <td>chocolate </td> <td>3    </td>\n",
       "        </tr>\n",
       "        <tr>\n",
       "            <td>strawberry</td> <td>2    </td>\n",
       "        </tr>\n",
       "    </tbody>\n",
       "</table>"
      ],
      "text/plain": [
       "Flavor     | count\n",
       "bubblegum  | 1\n",
       "chocolate  | 3\n",
       "strawberry | 2"
      ]
     },
     "execution_count": 3,
     "metadata": {},
     "output_type": "execute_result"
    }
   ],
   "source": [
    "more_cones.group('Flavor')"
   ]
  },
  {
   "cell_type": "markdown",
   "metadata": {},
   "source": [
    "But now each cone has a color as well. To classify the cones by both flavor and color, we will pass a list of labels as an argument to `group`. The resulting table has one row for every *unique combination* of values that appear together in the grouped columns. As before, a single argument (a list, in this case, but an array would work too) gives row counts."
   ]
  },
  {
   "cell_type": "markdown",
   "metadata": {},
   "source": [
    "Although there are six cones, there are only four unique combinations of flavor and color. Two of the cones were dark brown chocolate, and two pink strawberry."
   ]
  },
  {
   "cell_type": "code",
   "execution_count": 4,
   "metadata": {},
   "outputs": [
    {
     "data": {
      "text/html": [
       "<table border=\"1\" class=\"dataframe\">\n",
       "    <thead>\n",
       "        <tr>\n",
       "            <th>Flavor</th> <th>Color</th> <th>count</th>\n",
       "        </tr>\n",
       "    </thead>\n",
       "    <tbody>\n",
       "        <tr>\n",
       "            <td>bubblegum </td> <td>pink       </td> <td>1    </td>\n",
       "        </tr>\n",
       "        <tr>\n",
       "            <td>chocolate </td> <td>dark brown </td> <td>2    </td>\n",
       "        </tr>\n",
       "        <tr>\n",
       "            <td>chocolate </td> <td>light brown</td> <td>1    </td>\n",
       "        </tr>\n",
       "        <tr>\n",
       "            <td>strawberry</td> <td>pink       </td> <td>2    </td>\n",
       "        </tr>\n",
       "    </tbody>\n",
       "</table>"
      ],
      "text/plain": [
       "Flavor     | Color       | count\n",
       "bubblegum  | pink        | 1\n",
       "chocolate  | dark brown  | 2\n",
       "chocolate  | light brown | 1\n",
       "strawberry | pink        | 2"
      ]
     },
     "execution_count": 4,
     "metadata": {},
     "output_type": "execute_result"
    }
   ],
   "source": [
    "more_cones.group(['Flavor', 'Color'])"
   ]
  },
  {
   "cell_type": "markdown",
   "metadata": {},
   "source": [
    "## Two Variables: Finding a Characteristic of Each Paired Category\n",
    "A second argument aggregates all other columns that are not in the list of grouped columns."
   ]
  },
  {
   "cell_type": "code",
   "execution_count": 5,
   "metadata": {},
   "outputs": [
    {
     "data": {
      "text/html": [
       "<table border=\"1\" class=\"dataframe\">\n",
       "    <thead>\n",
       "        <tr>\n",
       "            <th>Flavor</th> <th>Color</th> <th>Price sum</th>\n",
       "        </tr>\n",
       "    </thead>\n",
       "    <tbody>\n",
       "        <tr>\n",
       "            <td>bubblegum </td> <td>pink       </td> <td>4.75     </td>\n",
       "        </tr>\n",
       "        <tr>\n",
       "            <td>chocolate </td> <td>dark brown </td> <td>10.5     </td>\n",
       "        </tr>\n",
       "        <tr>\n",
       "            <td>chocolate </td> <td>light brown</td> <td>4.75     </td>\n",
       "        </tr>\n",
       "        <tr>\n",
       "            <td>strawberry</td> <td>pink       </td> <td>8.8      </td>\n",
       "        </tr>\n",
       "    </tbody>\n",
       "</table>"
      ],
      "text/plain": [
       "Flavor     | Color       | Price sum\n",
       "bubblegum  | pink        | 4.75\n",
       "chocolate  | dark brown  | 10.5\n",
       "chocolate  | light brown | 4.75\n",
       "strawberry | pink        | 8.8"
      ]
     },
     "execution_count": 5,
     "metadata": {},
     "output_type": "execute_result"
    }
   ],
   "source": [
    "more_cones.group(['Flavor', 'Color'], sum)"
   ]
  },
  {
   "cell_type": "markdown",
   "metadata": {},
   "source": [
    "**Three or More Variables.** You can use `group` to classify rows by three or more categorical variables. Just include them all in the list that is the first argument. But cross-classifying by multiple variables can become complex, as the number of distinct combinations of categories can be quite large. "
   ]
  },
  {
   "cell_type": "markdown",
   "metadata": {},
   "source": [
    "## Pivot Tables: Rearranging the Output of `group`\n",
    "Many uses of cross-classification involve just two categorical variables, like `Flavor` and `Color` in the example above. In these cases it is possible to display the results of the classification in a different kind of table, called a *pivot table*. Pivot tables, also known as *contingency tables*, make it easier to work with data that have been classified according to two variables.\n",
    "\n",
    "Recall the use of `group` to count the number of cones in each paired category of flavor and color:"
   ]
  },
  {
   "cell_type": "code",
   "execution_count": 6,
   "metadata": {},
   "outputs": [
    {
     "data": {
      "text/html": [
       "<table border=\"1\" class=\"dataframe\">\n",
       "    <thead>\n",
       "        <tr>\n",
       "            <th>Flavor</th> <th>Color</th> <th>count</th>\n",
       "        </tr>\n",
       "    </thead>\n",
       "    <tbody>\n",
       "        <tr>\n",
       "            <td>bubblegum </td> <td>pink       </td> <td>1    </td>\n",
       "        </tr>\n",
       "        <tr>\n",
       "            <td>chocolate </td> <td>dark brown </td> <td>2    </td>\n",
       "        </tr>\n",
       "        <tr>\n",
       "            <td>chocolate </td> <td>light brown</td> <td>1    </td>\n",
       "        </tr>\n",
       "        <tr>\n",
       "            <td>strawberry</td> <td>pink       </td> <td>2    </td>\n",
       "        </tr>\n",
       "    </tbody>\n",
       "</table>"
      ],
      "text/plain": [
       "Flavor     | Color       | count\n",
       "bubblegum  | pink        | 1\n",
       "chocolate  | dark brown  | 2\n",
       "chocolate  | light brown | 1\n",
       "strawberry | pink        | 2"
      ]
     },
     "execution_count": 6,
     "metadata": {},
     "output_type": "execute_result"
    }
   ],
   "source": [
    "more_cones.group(['Flavor', 'Color'])"
   ]
  },
  {
   "cell_type": "markdown",
   "metadata": {},
   "source": [
    "The same data can be displayed differenly using the Table method `pivot`. Ignore the code for a moment, and just examine the table of outcomes."
   ]
  },
  {
   "cell_type": "code",
   "execution_count": 7,
   "metadata": {},
   "outputs": [
    {
     "data": {
      "text/html": [
       "<table border=\"1\" class=\"dataframe\">\n",
       "    <thead>\n",
       "        <tr>\n",
       "            <th>Color</th> <th>bubblegum</th> <th>chocolate</th> <th>strawberry</th>\n",
       "        </tr>\n",
       "    </thead>\n",
       "    <tbody>\n",
       "        <tr>\n",
       "            <td>dark brown </td> <td>0        </td> <td>2        </td> <td>0         </td>\n",
       "        </tr>\n",
       "        <tr>\n",
       "            <td>light brown</td> <td>0        </td> <td>1        </td> <td>0         </td>\n",
       "        </tr>\n",
       "        <tr>\n",
       "            <td>pink       </td> <td>1        </td> <td>0        </td> <td>2         </td>\n",
       "        </tr>\n",
       "    </tbody>\n",
       "</table>"
      ],
      "text/plain": [
       "Color       | bubblegum | chocolate | strawberry\n",
       "dark brown  | 0         | 2         | 0\n",
       "light brown | 0         | 1         | 0\n",
       "pink        | 1         | 0         | 2"
      ]
     },
     "execution_count": 7,
     "metadata": {},
     "output_type": "execute_result"
    }
   ],
   "source": [
    "more_cones.pivot('Flavor', 'Color')"
   ]
  },
  {
   "cell_type": "markdown",
   "metadata": {},
   "source": [
    "Notice how this table displays all nine possible pairs of flavor and color, including pairs like \"dark brown bubblegum\" that don't exist in our data. Notice also that the count in each pair appears in the body of the table: to find the number of light brown chocolate cones, run your eye along the row `light brown` until it meets the column `chocolate`.\n",
    "\n",
    "The `group` method takes a list of two labels because it is flexible: it could take one or three or more. On the other hand, `pivot` always takes two column labels, one to determine the columns and one to determine the rows."
   ]
  },
  {
   "cell_type": "markdown",
   "metadata": {},
   "source": [
    "**`pivot`** \n",
    "\n",
    "The `pivot` method is closely related to the `group` method: it groups together rows that share a combination of values. It differs from `group` because it organizes the resulting values in a grid. The first argument to `pivot` is the label of a column that contains the values that will be used to form new columns in the result. The second argument is the label of a column used for the rows. The result gives the count of all rows of the original table that share the combination of column and row values.\n",
    "\n",
    "Like `group`, `pivot` can be used with additional arguments to find characteristics of each paired category. An optional third argument called `values` indicates a column of values that will replace the counts in each cell of the grid. All of these values will not be displayed, however; the fourth argument `collect` indicates how to collect them all into one aggregated value to be displayed in the cell.\n",
    "\n",
    "An example will help clarify this. Here is `pivot` being used to find the total price of the cones in each cell.  "
   ]
  },
  {
   "cell_type": "code",
   "execution_count": 8,
   "metadata": {},
   "outputs": [
    {
     "data": {
      "text/html": [
       "<table border=\"1\" class=\"dataframe\">\n",
       "    <thead>\n",
       "        <tr>\n",
       "            <th>Color</th> <th>bubblegum</th> <th>chocolate</th> <th>strawberry</th>\n",
       "        </tr>\n",
       "    </thead>\n",
       "    <tbody>\n",
       "        <tr>\n",
       "            <td>dark brown </td> <td>0        </td> <td>10.5     </td> <td>0         </td>\n",
       "        </tr>\n",
       "        <tr>\n",
       "            <td>light brown</td> <td>0        </td> <td>4.75     </td> <td>0         </td>\n",
       "        </tr>\n",
       "        <tr>\n",
       "            <td>pink       </td> <td>4.75     </td> <td>0        </td> <td>8.8       </td>\n",
       "        </tr>\n",
       "    </tbody>\n",
       "</table>"
      ],
      "text/plain": [
       "Color       | bubblegum | chocolate | strawberry\n",
       "dark brown  | 0         | 10.5      | 0\n",
       "light brown | 0         | 4.75      | 0\n",
       "pink        | 4.75      | 0         | 8.8"
      ]
     },
     "execution_count": 8,
     "metadata": {},
     "output_type": "execute_result"
    }
   ],
   "source": [
    "more_cones.pivot('Flavor', 'Color', values='Price', collect=sum)"
   ]
  },
  {
   "cell_type": "markdown",
   "metadata": {},
   "source": [
    "And here is `group` doing the same thing."
   ]
  },
  {
   "cell_type": "code",
   "execution_count": 9,
   "metadata": {},
   "outputs": [
    {
     "data": {
      "text/html": [
       "<table border=\"1\" class=\"dataframe\">\n",
       "    <thead>\n",
       "        <tr>\n",
       "            <th>Flavor</th> <th>Color</th> <th>Price sum</th>\n",
       "        </tr>\n",
       "    </thead>\n",
       "    <tbody>\n",
       "        <tr>\n",
       "            <td>bubblegum </td> <td>pink       </td> <td>4.75     </td>\n",
       "        </tr>\n",
       "        <tr>\n",
       "            <td>chocolate </td> <td>dark brown </td> <td>10.5     </td>\n",
       "        </tr>\n",
       "        <tr>\n",
       "            <td>chocolate </td> <td>light brown</td> <td>4.75     </td>\n",
       "        </tr>\n",
       "        <tr>\n",
       "            <td>strawberry</td> <td>pink       </td> <td>8.8      </td>\n",
       "        </tr>\n",
       "    </tbody>\n",
       "</table>"
      ],
      "text/plain": [
       "Flavor     | Color       | Price sum\n",
       "bubblegum  | pink        | 4.75\n",
       "chocolate  | dark brown  | 10.5\n",
       "chocolate  | light brown | 4.75\n",
       "strawberry | pink        | 8.8"
      ]
     },
     "execution_count": 9,
     "metadata": {},
     "output_type": "execute_result"
    }
   ],
   "source": [
    "more_cones.group(['Flavor', 'Color'], sum)"
   ]
  },
  {
   "cell_type": "markdown",
   "metadata": {},
   "source": [
    "Though the numbers in both tables are the same, table produced by `pivot` is easier to read and lends itself more easily to analysis. The advantage of `pivot` is that it places grouped values into adjacent columns, so that they can be combined and compared."
   ]
  },
  {
   "cell_type": "markdown",
   "metadata": {},
   "source": [
    "## Example: Education and Income of Californian Adults\n",
    "The State of California's Open Data Portal is a rich source of information about the lives of Californians. It is our source of a [dataset](http://data.ca.gov/dataset/ca-educational-attainment-personal-income) on educational attainment and personal income among Californians over the years 2008 to 2014. The data are derived from the U.S. Census Current Population Survey.\n",
    "\n",
    "For each year, the table records the `Population Count` of Californians in many different combinations of age, gender, educational attainment, and personal income. We will study only the data for the year 2014."
   ]
  },
  {
   "cell_type": "code",
   "execution_count": 10,
   "metadata": {},
   "outputs": [
    {
     "data": {
      "text/html": [
       "<table border=\"1\" class=\"dataframe\">\n",
       "    <thead>\n",
       "        <tr>\n",
       "            <th>Year</th> <th>Age</th> <th>Gender</th> <th>Educational Attainment</th> <th>Personal Income</th> <th>Population Count</th>\n",
       "        </tr>\n",
       "    </thead>\n",
       "    <tbody>\n",
       "        <tr>\n",
       "            <td>1/1/14 0:00</td> <td>18 to 64 </td> <td>Female</td> <td>No high school diploma        </td> <td>H: 75,000 and over </td> <td>2058            </td>\n",
       "        </tr>\n",
       "        <tr>\n",
       "            <td>1/1/14 0:00</td> <td>65 to 80+</td> <td>Male  </td> <td>No high school diploma        </td> <td>H: 75,000 and over </td> <td>2153            </td>\n",
       "        </tr>\n",
       "        <tr>\n",
       "            <td>1/1/14 0:00</td> <td>65 to 80+</td> <td>Female</td> <td>No high school diploma        </td> <td>G: 50,000 to 74,999</td> <td>4666            </td>\n",
       "        </tr>\n",
       "        <tr>\n",
       "            <td>1/1/14 0:00</td> <td>65 to 80+</td> <td>Female</td> <td>High school or equivalent     </td> <td>H: 75,000 and over </td> <td>7122            </td>\n",
       "        </tr>\n",
       "        <tr>\n",
       "            <td>1/1/14 0:00</td> <td>65 to 80+</td> <td>Female</td> <td>No high school diploma        </td> <td>F: 35,000 to 49,999</td> <td>7261            </td>\n",
       "        </tr>\n",
       "        <tr>\n",
       "            <td>1/1/14 0:00</td> <td>65 to 80+</td> <td>Male  </td> <td>No high school diploma        </td> <td>G: 50,000 to 74,999</td> <td>8569            </td>\n",
       "        </tr>\n",
       "        <tr>\n",
       "            <td>1/1/14 0:00</td> <td>18 to 64 </td> <td>Female</td> <td>No high school diploma        </td> <td>G: 50,000 to 74,999</td> <td>14635           </td>\n",
       "        </tr>\n",
       "        <tr>\n",
       "            <td>1/1/14 0:00</td> <td>65 to 80+</td> <td>Male  </td> <td>No high school diploma        </td> <td>F: 35,000 to 49,999</td> <td>15212           </td>\n",
       "        </tr>\n",
       "        <tr>\n",
       "            <td>1/1/14 0:00</td> <td>65 to 80+</td> <td>Male  </td> <td>College, less than 4-yr degree</td> <td>B: 5,000 to 9,999  </td> <td>15423           </td>\n",
       "        </tr>\n",
       "        <tr>\n",
       "            <td>1/1/14 0:00</td> <td>65 to 80+</td> <td>Female</td> <td>Bachelor's degree or higher   </td> <td>A: 0 to 4,999      </td> <td>15459           </td>\n",
       "        </tr>\n",
       "    </tbody>\n",
       "</table>\n",
       "<p>... (117 rows omitted)</p>"
      ],
      "text/plain": [
       "Year        | Age       | Gender | Educational Attainment         | Personal Income     | Population Count\n",
       "1/1/14 0:00 | 18 to 64  | Female | No high school diploma         | H: 75,000 and over  | 2058\n",
       "1/1/14 0:00 | 65 to 80+ | Male   | No high school diploma         | H: 75,000 and over  | 2153\n",
       "1/1/14 0:00 | 65 to 80+ | Female | No high school diploma         | G: 50,000 to 74,999 | 4666\n",
       "1/1/14 0:00 | 65 to 80+ | Female | High school or equivalent      | H: 75,000 and over  | 7122\n",
       "1/1/14 0:00 | 65 to 80+ | Female | No high school diploma         | F: 35,000 to 49,999 | 7261\n",
       "1/1/14 0:00 | 65 to 80+ | Male   | No high school diploma         | G: 50,000 to 74,999 | 8569\n",
       "1/1/14 0:00 | 18 to 64  | Female | No high school diploma         | G: 50,000 to 74,999 | 14635\n",
       "1/1/14 0:00 | 65 to 80+ | Male   | No high school diploma         | F: 35,000 to 49,999 | 15212\n",
       "1/1/14 0:00 | 65 to 80+ | Male   | College, less than 4-yr degree | B: 5,000 to 9,999   | 15423\n",
       "1/1/14 0:00 | 65 to 80+ | Female | Bachelor's degree or higher    | A: 0 to 4,999       | 15459\n",
       "... (117 rows omitted)"
      ]
     },
     "execution_count": 10,
     "metadata": {},
     "output_type": "execute_result"
    }
   ],
   "source": [
    "full_table = Table.read_table(path_data + 'educ_inc.csv')\n",
    "ca_2014 = full_table.where('Year', are.equal_to('1/1/14 0:00')).where('Age', are.not_equal_to('00 to 17'))\n",
    "ca_2014"
   ]
  },
  {
   "cell_type": "markdown",
   "metadata": {},
   "source": [
    "Each row of the table corresponds to a combination of age, gender, educational level, and income. There are 127 such combinations in all! \n",
    "\n",
    "As a first step it is a good idea to start with just one or two variables. We will focus on just one pair: educational attainment and personal income. "
   ]
  },
  {
   "cell_type": "code",
   "execution_count": 11,
   "metadata": {},
   "outputs": [
    {
     "data": {
      "text/html": [
       "<table border=\"1\" class=\"dataframe\">\n",
       "    <thead>\n",
       "        <tr>\n",
       "            <th>Educational Attainment</th> <th>Personal Income</th> <th>Population Count</th>\n",
       "        </tr>\n",
       "    </thead>\n",
       "    <tbody>\n",
       "        <tr>\n",
       "            <td>No high school diploma        </td> <td>H: 75,000 and over </td> <td>2058            </td>\n",
       "        </tr>\n",
       "        <tr>\n",
       "            <td>No high school diploma        </td> <td>H: 75,000 and over </td> <td>2153            </td>\n",
       "        </tr>\n",
       "        <tr>\n",
       "            <td>No high school diploma        </td> <td>G: 50,000 to 74,999</td> <td>4666            </td>\n",
       "        </tr>\n",
       "        <tr>\n",
       "            <td>High school or equivalent     </td> <td>H: 75,000 and over </td> <td>7122            </td>\n",
       "        </tr>\n",
       "        <tr>\n",
       "            <td>No high school diploma        </td> <td>F: 35,000 to 49,999</td> <td>7261            </td>\n",
       "        </tr>\n",
       "        <tr>\n",
       "            <td>No high school diploma        </td> <td>G: 50,000 to 74,999</td> <td>8569            </td>\n",
       "        </tr>\n",
       "        <tr>\n",
       "            <td>No high school diploma        </td> <td>G: 50,000 to 74,999</td> <td>14635           </td>\n",
       "        </tr>\n",
       "        <tr>\n",
       "            <td>No high school diploma        </td> <td>F: 35,000 to 49,999</td> <td>15212           </td>\n",
       "        </tr>\n",
       "        <tr>\n",
       "            <td>College, less than 4-yr degree</td> <td>B: 5,000 to 9,999  </td> <td>15423           </td>\n",
       "        </tr>\n",
       "        <tr>\n",
       "            <td>Bachelor's degree or higher   </td> <td>A: 0 to 4,999      </td> <td>15459           </td>\n",
       "        </tr>\n",
       "    </tbody>\n",
       "</table>\n",
       "<p>... (117 rows omitted)</p>"
      ],
      "text/plain": [
       "Educational Attainment         | Personal Income     | Population Count\n",
       "No high school diploma         | H: 75,000 and over  | 2058\n",
       "No high school diploma         | H: 75,000 and over  | 2153\n",
       "No high school diploma         | G: 50,000 to 74,999 | 4666\n",
       "High school or equivalent      | H: 75,000 and over  | 7122\n",
       "No high school diploma         | F: 35,000 to 49,999 | 7261\n",
       "No high school diploma         | G: 50,000 to 74,999 | 8569\n",
       "No high school diploma         | G: 50,000 to 74,999 | 14635\n",
       "No high school diploma         | F: 35,000 to 49,999 | 15212\n",
       "College, less than 4-yr degree | B: 5,000 to 9,999   | 15423\n",
       "Bachelor's degree or higher    | A: 0 to 4,999       | 15459\n",
       "... (117 rows omitted)"
      ]
     },
     "execution_count": 11,
     "metadata": {},
     "output_type": "execute_result"
    }
   ],
   "source": [
    "educ_inc = ca_2014.select('Educational Attainment', 'Personal Income', 'Population Count')\n",
    "educ_inc"
   ]
  },
  {
   "cell_type": "markdown",
   "metadata": {},
   "source": [
    "Let's start by looking at educational level alone. The categories of this variable have been subdivided by the different levels of income. So we will group the table by `Educational Attainment` and `sum` the `Population Count` in each category."
   ]
  },
  {
   "cell_type": "code",
   "execution_count": 12,
   "metadata": {},
   "outputs": [
    {
     "data": {
      "text/html": [
       "<table border=\"1\" class=\"dataframe\">\n",
       "    <thead>\n",
       "        <tr>\n",
       "            <th>Educational Attainment</th> <th>Population Count sum</th>\n",
       "        </tr>\n",
       "    </thead>\n",
       "    <tbody>\n",
       "        <tr>\n",
       "            <td>Bachelor's degree or higher   </td> <td>8525698             </td>\n",
       "        </tr>\n",
       "        <tr>\n",
       "            <td>College, less than 4-yr degree</td> <td>7775497             </td>\n",
       "        </tr>\n",
       "        <tr>\n",
       "            <td>High school or equivalent     </td> <td>6294141             </td>\n",
       "        </tr>\n",
       "        <tr>\n",
       "            <td>No high school diploma        </td> <td>4258277             </td>\n",
       "        </tr>\n",
       "    </tbody>\n",
       "</table>"
      ],
      "text/plain": [
       "Educational Attainment         | Population Count sum\n",
       "Bachelor's degree or higher    | 8525698\n",
       "College, less than 4-yr degree | 7775497\n",
       "High school or equivalent      | 6294141\n",
       "No high school diploma         | 4258277"
      ]
     },
     "execution_count": 12,
     "metadata": {},
     "output_type": "execute_result"
    }
   ],
   "source": [
    "education = educ_inc.select('Educational Attainment', 'Population Count')\n",
    "educ_totals = education.group('Educational Attainment', sum)\n",
    "educ_totals"
   ]
  },
  {
   "cell_type": "markdown",
   "metadata": {},
   "source": [
    "There are only four categories of educational attainment. The counts are so large that is is more helpful to look at percents. For this, we will use the function `percents` that we defined in an earlier section. It converts an array of numbers to an array of percents out of the total in the input array."
   ]
  },
  {
   "cell_type": "code",
   "execution_count": 13,
   "metadata": {},
   "outputs": [],
   "source": [
    "def percents(array_x):\n",
    "    return np.round( (array_x/sum(array_x))*100, 2)"
   ]
  },
  {
   "cell_type": "markdown",
   "metadata": {},
   "source": [
    "We now have the distribution of educational attainment among adult Californians. More than 30% have a Bachelor's degree or higher, while almost 16% lack a high school diploma."
   ]
  },
  {
   "cell_type": "code",
   "execution_count": 14,
   "metadata": {},
   "outputs": [
    {
     "data": {
      "text/html": [
       "<table border=\"1\" class=\"dataframe\">\n",
       "    <thead>\n",
       "        <tr>\n",
       "            <th>Educational Attainment</th> <th>Population Count sum</th> <th>Population Percent</th>\n",
       "        </tr>\n",
       "    </thead>\n",
       "    <tbody>\n",
       "        <tr>\n",
       "            <td>Bachelor's degree or higher   </td> <td>8525698             </td> <td>31.75             </td>\n",
       "        </tr>\n",
       "        <tr>\n",
       "            <td>College, less than 4-yr degree</td> <td>7775497             </td> <td>28.96             </td>\n",
       "        </tr>\n",
       "        <tr>\n",
       "            <td>High school or equivalent     </td> <td>6294141             </td> <td>23.44             </td>\n",
       "        </tr>\n",
       "        <tr>\n",
       "            <td>No high school diploma        </td> <td>4258277             </td> <td>15.86             </td>\n",
       "        </tr>\n",
       "    </tbody>\n",
       "</table>"
      ],
      "text/plain": [
       "Educational Attainment         | Population Count sum | Population Percent\n",
       "Bachelor's degree or higher    | 8525698              | 31.75\n",
       "College, less than 4-yr degree | 7775497              | 28.96\n",
       "High school or equivalent      | 6294141              | 23.44\n",
       "No high school diploma         | 4258277              | 15.86"
      ]
     },
     "execution_count": 14,
     "metadata": {},
     "output_type": "execute_result"
    }
   ],
   "source": [
    "educ_distribution = educ_totals.with_column(\n",
    "    'Population Percent', percents(educ_totals.column(1))\n",
    ")\n",
    "educ_distribution"
   ]
  },
  {
   "cell_type": "markdown",
   "metadata": {
    "collapsed": true
   },
   "source": [
    "By using `pivot`, we can get a contingency table (a table of counts) of adult Californians cross-classified by `Educational Attainment` and `Personal Income`."
   ]
  },
  {
   "cell_type": "code",
   "execution_count": 15,
   "metadata": {},
   "outputs": [
    {
     "data": {
      "text/html": [
       "<table border=\"1\" class=\"dataframe\">\n",
       "    <thead>\n",
       "        <tr>\n",
       "            <th>Personal Income</th> <th>Bachelor's degree or higher</th> <th>College, less than 4-yr degree</th> <th>High school or equivalent</th> <th>No high school diploma</th>\n",
       "        </tr>\n",
       "    </thead>\n",
       "    <tbody>\n",
       "        <tr>\n",
       "            <td>A: 0 to 4,999      </td> <td>575491                     </td> <td>985011                        </td> <td>1161873                  </td> <td>1204529               </td>\n",
       "        </tr>\n",
       "        <tr>\n",
       "            <td>B: 5,000 to 9,999  </td> <td>326020                     </td> <td>810641                        </td> <td>626499                   </td> <td>597039                </td>\n",
       "        </tr>\n",
       "        <tr>\n",
       "            <td>C: 10,000 to 14,999</td> <td>452449                     </td> <td>798596                        </td> <td>692661                   </td> <td>664607                </td>\n",
       "        </tr>\n",
       "        <tr>\n",
       "            <td>D: 15,000 to 24,999</td> <td>773684                     </td> <td>1345257                       </td> <td>1252377                  </td> <td>875498                </td>\n",
       "        </tr>\n",
       "        <tr>\n",
       "            <td>E: 25,000 to 34,999</td> <td>693884                     </td> <td>1091642                       </td> <td>929218                   </td> <td>464564                </td>\n",
       "        </tr>\n",
       "        <tr>\n",
       "            <td>F: 35,000 to 49,999</td> <td>1122791                    </td> <td>1112421                       </td> <td>782804                   </td> <td>260579                </td>\n",
       "        </tr>\n",
       "        <tr>\n",
       "            <td>G: 50,000 to 74,999</td> <td>1594681                    </td> <td>883826                        </td> <td>525517                   </td> <td>132516                </td>\n",
       "        </tr>\n",
       "        <tr>\n",
       "            <td>H: 75,000 and over </td> <td>2986698                    </td> <td>748103                        </td> <td>323192                   </td> <td>58945                 </td>\n",
       "        </tr>\n",
       "    </tbody>\n",
       "</table>"
      ],
      "text/plain": [
       "Personal Income     | Bachelor's degree or higher | College, less than 4-yr degree | High school or equivalent | No high school diploma\n",
       "A: 0 to 4,999       | 575491                      | 985011                         | 1161873                   | 1204529\n",
       "B: 5,000 to 9,999   | 326020                      | 810641                         | 626499                    | 597039\n",
       "C: 10,000 to 14,999 | 452449                      | 798596                         | 692661                    | 664607\n",
       "D: 15,000 to 24,999 | 773684                      | 1345257                        | 1252377                   | 875498\n",
       "E: 25,000 to 34,999 | 693884                      | 1091642                        | 929218                    | 464564\n",
       "F: 35,000 to 49,999 | 1122791                     | 1112421                        | 782804                    | 260579\n",
       "G: 50,000 to 74,999 | 1594681                     | 883826                         | 525517                    | 132516\n",
       "H: 75,000 and over  | 2986698                     | 748103                         | 323192                    | 58945"
      ]
     },
     "execution_count": 15,
     "metadata": {},
     "output_type": "execute_result"
    }
   ],
   "source": [
    "totals = educ_inc.pivot('Educational Attainment', 'Personal Income', values='Population Count', collect=sum)\n",
    "totals"
   ]
  },
  {
   "cell_type": "markdown",
   "metadata": {},
   "source": [
    "Here you see the power of `pivot` over other cross-classification methods. Each column of counts is a distribution of personal income at a specific level of educational attainment. Converting the counts to percents allows us to compare the four distributions."
   ]
  },
  {
   "cell_type": "code",
   "execution_count": 16,
   "metadata": {},
   "outputs": [
    {
     "data": {
      "text/html": [
       "<table border=\"1\" class=\"dataframe\">\n",
       "    <thead>\n",
       "        <tr>\n",
       "            <th>Personal Income</th> <th>Bachelor's degree or higher</th> <th>College, less than 4-yr degree</th> <th>High school or equivalent</th> <th>No high school diploma</th>\n",
       "        </tr>\n",
       "    </thead>\n",
       "    <tbody>\n",
       "        <tr>\n",
       "            <td>A: 0 to 4,999      </td> <td>6.75                       </td> <td>12.67                         </td> <td>18.46                    </td> <td>28.29                 </td>\n",
       "        </tr>\n",
       "        <tr>\n",
       "            <td>B: 5,000 to 9,999  </td> <td>3.82                       </td> <td>10.43                         </td> <td>9.95                     </td> <td>14.02                 </td>\n",
       "        </tr>\n",
       "        <tr>\n",
       "            <td>C: 10,000 to 14,999</td> <td>5.31                       </td> <td>10.27                         </td> <td>11                       </td> <td>15.61                 </td>\n",
       "        </tr>\n",
       "        <tr>\n",
       "            <td>D: 15,000 to 24,999</td> <td>9.07                       </td> <td>17.3                          </td> <td>19.9                     </td> <td>20.56                 </td>\n",
       "        </tr>\n",
       "        <tr>\n",
       "            <td>E: 25,000 to 34,999</td> <td>8.14                       </td> <td>14.04                         </td> <td>14.76                    </td> <td>10.91                 </td>\n",
       "        </tr>\n",
       "        <tr>\n",
       "            <td>F: 35,000 to 49,999</td> <td>13.17                      </td> <td>14.31                         </td> <td>12.44                    </td> <td>6.12                  </td>\n",
       "        </tr>\n",
       "        <tr>\n",
       "            <td>G: 50,000 to 74,999</td> <td>18.7                       </td> <td>11.37                         </td> <td>8.35                     </td> <td>3.11                  </td>\n",
       "        </tr>\n",
       "        <tr>\n",
       "            <td>H: 75,000 and over </td> <td>35.03                      </td> <td>9.62                          </td> <td>5.13                     </td> <td>1.38                  </td>\n",
       "        </tr>\n",
       "    </tbody>\n",
       "</table>"
      ],
      "text/plain": [
       "Personal Income     | Bachelor's degree or higher | College, less than 4-yr degree | High school or equivalent | No high school diploma\n",
       "A: 0 to 4,999       | 6.75                        | 12.67                          | 18.46                     | 28.29\n",
       "B: 5,000 to 9,999   | 3.82                        | 10.43                          | 9.95                      | 14.02\n",
       "C: 10,000 to 14,999 | 5.31                        | 10.27                          | 11                        | 15.61\n",
       "D: 15,000 to 24,999 | 9.07                        | 17.3                           | 19.9                      | 20.56\n",
       "E: 25,000 to 34,999 | 8.14                        | 14.04                          | 14.76                     | 10.91\n",
       "F: 35,000 to 49,999 | 13.17                       | 14.31                          | 12.44                     | 6.12\n",
       "G: 50,000 to 74,999 | 18.7                        | 11.37                          | 8.35                      | 3.11\n",
       "H: 75,000 and over  | 35.03                       | 9.62                           | 5.13                      | 1.38"
      ]
     },
     "execution_count": 16,
     "metadata": {},
     "output_type": "execute_result"
    }
   ],
   "source": [
    "distributions = totals.select(0).with_columns(\n",
    "    \"Bachelor's degree or higher\", percents(totals.column(1)),\n",
    "    'College, less than 4-yr degree', percents(totals.column(2)),\n",
    "    'High school or equivalent', percents(totals.column(3)),\n",
    "    'No high school diploma', percents(totals.column(4))   \n",
    "    )\n",
    "\n",
    "distributions"
   ]
  },
  {
   "cell_type": "markdown",
   "metadata": {},
   "source": [
    "At a glance, you can see that over 35% of those with Bachelor's degrees or higher had incomes of $\\$75,000$ and over, whereas fewer than 10% of the people in the other education categories had that level of income. \n",
    "\n",
    "The bar chart below compares the personal income distributions of adult Californians who have no high school diploma with those who have completed a Bachelor's degree or higher. The difference in the distributions is striking. There is a clear positive association between educational attainment and personal income."
   ]
  },
  {
   "cell_type": "code",
   "execution_count": 23,
   "metadata": {},
   "outputs": [
    {
     "data": {
      "image/png": "[encoded data removed]",
      "text/plain": [
       "<Figure size 600x400 with 1 Axes>"
      ]
     },
     "metadata": {},
     "output_type": "display_data"
    }
   ],
   "source": [
    "distributions.select(0, 1, 4).barh(0)\n",
    "plots.show()"
   ]
  }
 ],
 "metadata": {
  "kernelspec": {
   "display_name": "base",
   "language": "python",
   "name": "python3"
  },
  "language_info": {
   "codemirror_mode": {
    "name": "ipython",
    "version": 3
   },
   "file_extension": ".py",
   "mimetype": "text/x-python",
   "name": "python",
   "nbconvert_exporter": "python",
   "pygments_lexer": "ipython3",
   "version": "3.12.7"
  }
 },
 "nbformat": 4,
 "nbformat_minor": 1
}
