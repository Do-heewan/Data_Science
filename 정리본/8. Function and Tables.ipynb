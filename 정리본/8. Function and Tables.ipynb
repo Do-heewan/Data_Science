{
 "cells": [
  {
   "cell_type": "code",
   "execution_count": 2,
   "id": "0fa3043f",
   "metadata": {},
   "outputs": [],
   "source": [
    "from datascience import *\n",
    "import matplotlib\n",
    "path_data = '../assets/data/'\n",
    "matplotlib.use('Agg')\n",
    "%matplotlib inline\n",
    "import matplotlib.pyplot as plots\n",
    "plots.style.use('fivethirtyeight')\n",
    "import numpy as np"
   ]
  },
  {
   "cell_type": "markdown",
   "id": "655a5c1c",
   "metadata": {},
   "source": [
    "# 8.1. Applying a Function to a Column"
   ]
  },
  {
   "cell_type": "code",
   "execution_count": 3,
   "id": "a53cca8c",
   "metadata": {},
   "outputs": [],
   "source": [
    "def cut_off_at_100(x):\n",
    "    \"\"\"The smaller of x and 100\"\"\"\n",
    "    return min(x, 100)"
   ]
  },
  {
   "cell_type": "code",
   "execution_count": 4,
   "id": "2201dfb5",
   "metadata": {},
   "outputs": [
    {
     "data": {
      "text/html": [
       "<table border=\"1\" class=\"dataframe\">\n",
       "    <thead>\n",
       "        <tr>\n",
       "            <th>Person</th> <th>Age</th>\n",
       "        </tr>\n",
       "    </thead>\n",
       "    <tbody>\n",
       "        <tr>\n",
       "            <td>A     </td> <td>17  </td>\n",
       "        </tr>\n",
       "        <tr>\n",
       "            <td>B     </td> <td>117 </td>\n",
       "        </tr>\n",
       "        <tr>\n",
       "            <td>C     </td> <td>52  </td>\n",
       "        </tr>\n",
       "        <tr>\n",
       "            <td>D     </td> <td>100 </td>\n",
       "        </tr>\n",
       "        <tr>\n",
       "            <td>E     </td> <td>6   </td>\n",
       "        </tr>\n",
       "        <tr>\n",
       "            <td>F     </td> <td>101 </td>\n",
       "        </tr>\n",
       "    </tbody>\n",
       "</table>"
      ],
      "text/plain": [
       "Person | Age\n",
       "A      | 17\n",
       "B      | 117\n",
       "C      | 52\n",
       "D      | 100\n",
       "E      | 6\n",
       "F      | 101"
      ]
     },
     "execution_count": 4,
     "metadata": {},
     "output_type": "execute_result"
    }
   ],
   "source": [
    "ages = Table().with_columns(\n",
    "    'Person', make_array('A', 'B', 'C', 'D', 'E', 'F'),\n",
    "    'Age', make_array(17, 117, 52, 100, 6, 101)\n",
    ")\n",
    "ages"
   ]
  },
  {
   "cell_type": "markdown",
   "id": "1e750200",
   "metadata": {},
   "source": [
    "### Apply"
   ]
  },
  {
   "cell_type": "code",
   "execution_count": 5,
   "id": "fa6cd067",
   "metadata": {},
   "outputs": [
    {
     "data": {
      "text/plain": [
       "array([ 17, 100,  52, 100,   6, 100], dtype=int64)"
      ]
     },
     "execution_count": 5,
     "metadata": {},
     "output_type": "execute_result"
    }
   ],
   "source": [
    "ages.apply(cut_off_at_100, 'Age')"
   ]
  },
  {
   "cell_type": "code",
   "execution_count": 6,
   "id": "342b9a48",
   "metadata": {},
   "outputs": [
    {
     "data": {
      "text/html": [
       "<table border=\"1\" class=\"dataframe\">\n",
       "    <thead>\n",
       "        <tr>\n",
       "            <th>Person</th> <th>Age</th> <th>Cut Off Age</th>\n",
       "        </tr>\n",
       "    </thead>\n",
       "    <tbody>\n",
       "        <tr>\n",
       "            <td>A     </td> <td>17  </td> <td>17         </td>\n",
       "        </tr>\n",
       "        <tr>\n",
       "            <td>B     </td> <td>117 </td> <td>100        </td>\n",
       "        </tr>\n",
       "        <tr>\n",
       "            <td>C     </td> <td>52  </td> <td>52         </td>\n",
       "        </tr>\n",
       "        <tr>\n",
       "            <td>D     </td> <td>100 </td> <td>100        </td>\n",
       "        </tr>\n",
       "        <tr>\n",
       "            <td>E     </td> <td>6   </td> <td>6          </td>\n",
       "        </tr>\n",
       "        <tr>\n",
       "            <td>F     </td> <td>101 </td> <td>100        </td>\n",
       "        </tr>\n",
       "    </tbody>\n",
       "</table>"
      ],
      "text/plain": [
       "Person | Age  | Cut Off Age\n",
       "A      | 17   | 17\n",
       "B      | 117  | 100\n",
       "C      | 52   | 52\n",
       "D      | 100  | 100\n",
       "E      | 6    | 6\n",
       "F      | 101  | 100"
      ]
     },
     "execution_count": 6,
     "metadata": {},
     "output_type": "execute_result"
    }
   ],
   "source": [
    "ages.with_column(\n",
    "    'Cut Off Age', ages.apply(cut_off_at_100, 'Age')\n",
    ")"
   ]
  },
  {
   "cell_type": "markdown",
   "id": "40909452",
   "metadata": {},
   "source": [
    "`apply()` 메소드는 함수와 그 함수에 입력으로 넣을 수 있는 수를 합치는? 함수"
   ]
  },
  {
   "cell_type": "markdown",
   "id": "8c8d68ff",
   "metadata": {},
   "source": [
    "# 8.2 Classifying by One Variable (하나의 변수로 분류하기)"
   ]
  },
  {
   "cell_type": "code",
   "execution_count": 7,
   "id": "fe0acbf5",
   "metadata": {},
   "outputs": [
    {
     "data": {
      "text/html": [
       "<table border=\"1\" class=\"dataframe\">\n",
       "    <thead>\n",
       "        <tr>\n",
       "            <th>Flavor</th> <th>Price</th>\n",
       "        </tr>\n",
       "    </thead>\n",
       "    <tbody>\n",
       "        <tr>\n",
       "            <td>strawberry</td> <td>3.55 </td>\n",
       "        </tr>\n",
       "        <tr>\n",
       "            <td>chocolate </td> <td>4.75 </td>\n",
       "        </tr>\n",
       "        <tr>\n",
       "            <td>chocolate </td> <td>6.55 </td>\n",
       "        </tr>\n",
       "        <tr>\n",
       "            <td>strawberry</td> <td>5.25 </td>\n",
       "        </tr>\n",
       "        <tr>\n",
       "            <td>chocolate </td> <td>5.25 </td>\n",
       "        </tr>\n",
       "    </tbody>\n",
       "</table>"
      ],
      "text/plain": [
       "Flavor     | Price\n",
       "strawberry | 3.55\n",
       "chocolate  | 4.75\n",
       "chocolate  | 6.55\n",
       "strawberry | 5.25\n",
       "chocolate  | 5.25"
      ]
     },
     "execution_count": 7,
     "metadata": {},
     "output_type": "execute_result"
    }
   ],
   "source": [
    "cones = Table().with_columns(\n",
    "    'Flavor', make_array('strawberry', 'chocolate', 'chocolate', 'strawberry', 'chocolate'),\n",
    "    'Price', make_array(3.55, 4.75, 6.55, 5.25, 5.25)\n",
    ")\n",
    "cones"
   ]
  },
  {
   "cell_type": "code",
   "execution_count": 8,
   "id": "f85a62ba",
   "metadata": {},
   "outputs": [
    {
     "data": {
      "text/html": [
       "<table border=\"1\" class=\"dataframe\">\n",
       "    <thead>\n",
       "        <tr>\n",
       "            <th>Flavor</th> <th>count</th>\n",
       "        </tr>\n",
       "    </thead>\n",
       "    <tbody>\n",
       "        <tr>\n",
       "            <td>chocolate </td> <td>3    </td>\n",
       "        </tr>\n",
       "        <tr>\n",
       "            <td>strawberry</td> <td>2    </td>\n",
       "        </tr>\n",
       "    </tbody>\n",
       "</table>"
      ],
      "text/plain": [
       "Flavor     | count\n",
       "chocolate  | 3\n",
       "strawberry | 2"
      ]
     },
     "execution_count": 8,
     "metadata": {},
     "output_type": "execute_result"
    }
   ],
   "source": [
    "cones.group('Flavor')"
   ]
  },
  {
   "cell_type": "markdown",
   "id": "f7f8f082",
   "metadata": {},
   "source": [
    "`group` 메소드를 이용해 count 컬럼으로 개수를 구할 수 있다."
   ]
  },
  {
   "cell_type": "markdown",
   "id": "59c9dd80",
   "metadata": {},
   "source": [
    "## 각 카테고리별 특징 찾기"
   ]
  },
  {
   "cell_type": "code",
   "execution_count": 9,
   "id": "33d8b343",
   "metadata": {},
   "outputs": [
    {
     "data": {
      "text/html": [
       "<table border=\"1\" class=\"dataframe\">\n",
       "    <thead>\n",
       "        <tr>\n",
       "            <th>Flavor</th> <th>Price sum</th>\n",
       "        </tr>\n",
       "    </thead>\n",
       "    <tbody>\n",
       "        <tr>\n",
       "            <td>chocolate </td> <td>16.55    </td>\n",
       "        </tr>\n",
       "        <tr>\n",
       "            <td>strawberry</td> <td>8.8      </td>\n",
       "        </tr>\n",
       "    </tbody>\n",
       "</table>"
      ],
      "text/plain": [
       "Flavor     | Price sum\n",
       "chocolate  | 16.55\n",
       "strawberry | 8.8"
      ]
     },
     "execution_count": 9,
     "metadata": {},
     "output_type": "execute_result"
    }
   ],
   "source": [
    "cones.group('Flavor', sum)"
   ]
  },
  {
   "cell_type": "markdown",
   "id": "7dec9b3a",
   "metadata": {},
   "source": [
    "`group()` 메소드에 sum을 추가함으로써, 모든 컬럼에 대해 합을 구하게 된다. 따라서 price 컬럼을 따로 명시 하지 않아도 된다."
   ]
  },
  {
   "cell_type": "code",
   "execution_count": 10,
   "id": "759b302a",
   "metadata": {},
   "outputs": [
    {
     "data": {
      "text/html": [
       "<table border=\"1\" class=\"dataframe\">\n",
       "    <thead>\n",
       "        <tr>\n",
       "            <th>Flavor</th> <th>Array of All the Prices</th> <th>Sum of the Array</th>\n",
       "        </tr>\n",
       "    </thead>\n",
       "    <tbody>\n",
       "        <tr>\n",
       "            <td>chocolate </td> <td>[ 4.75  6.55  5.25]    </td> <td>16.55           </td>\n",
       "        </tr>\n",
       "        <tr>\n",
       "            <td>strawberry</td> <td>[ 3.55  5.25]          </td> <td>8.8             </td>\n",
       "        </tr>\n",
       "    </tbody>\n",
       "</table>"
      ],
      "text/plain": [
       "Flavor     | Array of All the Prices | Sum of the Array\n",
       "chocolate  | [ 4.75  6.55  5.25]     | 16.55\n",
       "strawberry | [ 3.55  5.25]           | 8.8"
      ]
     },
     "execution_count": 10,
     "metadata": {},
     "output_type": "execute_result"
    }
   ],
   "source": [
    "# For each distinct value in `Flavor, access all the rows\n",
    "# and create an array of `Price`\n",
    "\n",
    "cones_choc = cones.where('Flavor', are.equal_to('chocolate')).column('Price')\n",
    "cones_strawb = cones.where('Flavor', are.equal_to('strawberry')).column('Price')\n",
    "\n",
    "# Display the arrays in a table\n",
    "\n",
    "grouped_cones = Table().with_columns(\n",
    "    'Flavor', make_array('chocolate', 'strawberry'),\n",
    "    'Array of All the Prices', make_array(cones_choc, cones_strawb)\n",
    ")\n",
    "\n",
    "# Append a column with the sum of the `Price` values in each array\n",
    "\n",
    "price_totals = grouped_cones.with_column(\n",
    "    'Sum of the Array', make_array(sum(cones_choc), sum(cones_strawb))\n",
    ")\n",
    "price_totals"
   ]
  },
  {
   "cell_type": "markdown",
   "id": "635701d8",
   "metadata": {},
   "source": [
    "where을 이용해 합을 구한 결과와 같은 것을 알 수 있다."
   ]
  },
  {
   "cell_type": "code",
   "execution_count": 11,
   "id": "ea701ef7",
   "metadata": {},
   "outputs": [
    {
     "data": {
      "text/html": [
       "<table border=\"1\" class=\"dataframe\">\n",
       "    <thead>\n",
       "        <tr>\n",
       "            <th>Flavor</th> <th>Price max</th>\n",
       "        </tr>\n",
       "    </thead>\n",
       "    <tbody>\n",
       "        <tr>\n",
       "            <td>chocolate </td> <td>6.55     </td>\n",
       "        </tr>\n",
       "        <tr>\n",
       "            <td>strawberry</td> <td>5.25     </td>\n",
       "        </tr>\n",
       "    </tbody>\n",
       "</table>"
      ],
      "text/plain": [
       "Flavor     | Price max\n",
       "chocolate  | 6.55\n",
       "strawberry | 5.25"
      ]
     },
     "execution_count": 11,
     "metadata": {},
     "output_type": "execute_result"
    }
   ],
   "source": [
    "cones.group('Flavor', max)"
   ]
  },
  {
   "cell_type": "code",
   "execution_count": 12,
   "id": "53bd5b23",
   "metadata": {},
   "outputs": [
    {
     "data": {
      "text/html": [
       "<table border=\"1\" class=\"dataframe\">\n",
       "    <thead>\n",
       "        <tr>\n",
       "            <th>Flavor</th> <th>Array of All the Prices</th> <th>Max of the Array</th>\n",
       "        </tr>\n",
       "    </thead>\n",
       "    <tbody>\n",
       "        <tr>\n",
       "            <td>chocolate </td> <td>[ 4.75  6.55  5.25]    </td> <td>6.55            </td>\n",
       "        </tr>\n",
       "        <tr>\n",
       "            <td>strawberry</td> <td>[ 3.55  5.25]          </td> <td>5.25            </td>\n",
       "        </tr>\n",
       "    </tbody>\n",
       "</table>"
      ],
      "text/plain": [
       "Flavor     | Array of All the Prices | Max of the Array\n",
       "chocolate  | [ 4.75  6.55  5.25]     | 6.55\n",
       "strawberry | [ 3.55  5.25]           | 5.25"
      ]
     },
     "execution_count": 12,
     "metadata": {},
     "output_type": "execute_result"
    }
   ],
   "source": [
    "price_maxes = grouped_cones.with_column(\n",
    "    'Max of the Array', make_array(max(cones_choc), max(cones_strawb))\n",
    ")\n",
    "price_maxes"
   ]
  },
  {
   "cell_type": "markdown",
   "id": "17d0963a",
   "metadata": {},
   "source": [
    "max 값도 동일하게 작동한다."
   ]
  },
  {
   "cell_type": "markdown",
   "id": "b3d45b6d",
   "metadata": {},
   "source": [
    "# 8.3 Cross-Classifying by More than One Variable (한 변수에 대해 교차 분류 )"
   ]
  },
  {
   "cell_type": "markdown",
   "id": "957c5248",
   "metadata": {},
   "source": [
    "### 두 변수 : 각 범주별 개수 카운팅"
   ]
  },
  {
   "cell_type": "code",
   "execution_count": 13,
   "id": "5f65a915",
   "metadata": {},
   "outputs": [
    {
     "data": {
      "text/html": [
       "<table border=\"1\" class=\"dataframe\">\n",
       "    <thead>\n",
       "        <tr>\n",
       "            <th>Flavor</th> <th>Color</th> <th>Price</th>\n",
       "        </tr>\n",
       "    </thead>\n",
       "    <tbody>\n",
       "        <tr>\n",
       "            <td>strawberry</td> <td>pink       </td> <td>3.55 </td>\n",
       "        </tr>\n",
       "        <tr>\n",
       "            <td>chocolate </td> <td>light brown</td> <td>4.75 </td>\n",
       "        </tr>\n",
       "        <tr>\n",
       "            <td>chocolate </td> <td>dark brown </td> <td>5.25 </td>\n",
       "        </tr>\n",
       "        <tr>\n",
       "            <td>strawberry</td> <td>pink       </td> <td>5.25 </td>\n",
       "        </tr>\n",
       "        <tr>\n",
       "            <td>chocolate </td> <td>dark brown </td> <td>5.25 </td>\n",
       "        </tr>\n",
       "        <tr>\n",
       "            <td>bubblegum </td> <td>pink       </td> <td>4.75 </td>\n",
       "        </tr>\n",
       "    </tbody>\n",
       "</table>"
      ],
      "text/plain": [
       "Flavor     | Color       | Price\n",
       "strawberry | pink        | 3.55\n",
       "chocolate  | light brown | 4.75\n",
       "chocolate  | dark brown  | 5.25\n",
       "strawberry | pink        | 5.25\n",
       "chocolate  | dark brown  | 5.25\n",
       "bubblegum  | pink        | 4.75"
      ]
     },
     "execution_count": 13,
     "metadata": {},
     "output_type": "execute_result"
    }
   ],
   "source": [
    "more_cones = Table().with_columns(\n",
    "    'Flavor', make_array('strawberry', 'chocolate', 'chocolate', 'strawberry', 'chocolate', 'bubblegum'),\n",
    "    'Color', make_array('pink', 'light brown', 'dark brown', 'pink', 'dark brown', 'pink'),\n",
    "    'Price', make_array(3.55, 4.75, 5.25, 5.25, 5.25, 4.75)\n",
    ")\n",
    "\n",
    "more_cones"
   ]
  },
  {
   "cell_type": "markdown",
   "id": "37da609f",
   "metadata": {},
   "source": [
    "`group()`을 이용해 맛별로 분류"
   ]
  },
  {
   "cell_type": "code",
   "execution_count": 14,
   "id": "6ba99943",
   "metadata": {},
   "outputs": [
    {
     "data": {
      "text/html": [
       "<table border=\"1\" class=\"dataframe\">\n",
       "    <thead>\n",
       "        <tr>\n",
       "            <th>Flavor</th> <th>count</th>\n",
       "        </tr>\n",
       "    </thead>\n",
       "    <tbody>\n",
       "        <tr>\n",
       "            <td>bubblegum </td> <td>1    </td>\n",
       "        </tr>\n",
       "        <tr>\n",
       "            <td>chocolate </td> <td>3    </td>\n",
       "        </tr>\n",
       "        <tr>\n",
       "            <td>strawberry</td> <td>2    </td>\n",
       "        </tr>\n",
       "    </tbody>\n",
       "</table>"
      ],
      "text/plain": [
       "Flavor     | count\n",
       "bubblegum  | 1\n",
       "chocolate  | 3\n",
       "strawberry | 2"
      ]
     },
     "execution_count": 14,
     "metadata": {},
     "output_type": "execute_result"
    }
   ],
   "source": [
    "more_cones.group('Flavor')"
   ]
  },
  {
   "cell_type": "code",
   "execution_count": 15,
   "id": "18ae6c50",
   "metadata": {},
   "outputs": [
    {
     "data": {
      "text/html": [
       "<table border=\"1\" class=\"dataframe\">\n",
       "    <thead>\n",
       "        <tr>\n",
       "            <th>Flavor</th> <th>Color</th> <th>count</th>\n",
       "        </tr>\n",
       "    </thead>\n",
       "    <tbody>\n",
       "        <tr>\n",
       "            <td>bubblegum </td> <td>pink       </td> <td>1    </td>\n",
       "        </tr>\n",
       "        <tr>\n",
       "            <td>chocolate </td> <td>dark brown </td> <td>2    </td>\n",
       "        </tr>\n",
       "        <tr>\n",
       "            <td>chocolate </td> <td>light brown</td> <td>1    </td>\n",
       "        </tr>\n",
       "        <tr>\n",
       "            <td>strawberry</td> <td>pink       </td> <td>2    </td>\n",
       "        </tr>\n",
       "    </tbody>\n",
       "</table>"
      ],
      "text/plain": [
       "Flavor     | Color       | count\n",
       "bubblegum  | pink        | 1\n",
       "chocolate  | dark brown  | 2\n",
       "chocolate  | light brown | 1\n",
       "strawberry | pink        | 2"
      ]
     },
     "execution_count": 15,
     "metadata": {},
     "output_type": "execute_result"
    }
   ],
   "source": [
    "more_cones.group(['Flavor', 'Color'])"
   ]
  },
  {
   "cell_type": "markdown",
   "id": "eecd124a",
   "metadata": {},
   "source": [
    "맛과 색상을 한번에 분류"
   ]
  },
  {
   "cell_type": "code",
   "execution_count": 16,
   "id": "432480b9",
   "metadata": {},
   "outputs": [
    {
     "data": {
      "text/html": [
       "<table border=\"1\" class=\"dataframe\">\n",
       "    <thead>\n",
       "        <tr>\n",
       "            <th>Flavor</th> <th>Color</th> <th>Price sum</th>\n",
       "        </tr>\n",
       "    </thead>\n",
       "    <tbody>\n",
       "        <tr>\n",
       "            <td>bubblegum </td> <td>pink       </td> <td>4.75     </td>\n",
       "        </tr>\n",
       "        <tr>\n",
       "            <td>chocolate </td> <td>dark brown </td> <td>10.5     </td>\n",
       "        </tr>\n",
       "        <tr>\n",
       "            <td>chocolate </td> <td>light brown</td> <td>4.75     </td>\n",
       "        </tr>\n",
       "        <tr>\n",
       "            <td>strawberry</td> <td>pink       </td> <td>8.8      </td>\n",
       "        </tr>\n",
       "    </tbody>\n",
       "</table>"
      ],
      "text/plain": [
       "Flavor     | Color       | Price sum\n",
       "bubblegum  | pink        | 4.75\n",
       "chocolate  | dark brown  | 10.5\n",
       "chocolate  | light brown | 4.75\n",
       "strawberry | pink        | 8.8"
      ]
     },
     "execution_count": 16,
     "metadata": {},
     "output_type": "execute_result"
    }
   ],
   "source": [
    "more_cones.group(['Flavor', 'Color'], sum)"
   ]
  },
  {
   "cell_type": "markdown",
   "id": "40bccd7a",
   "metadata": {},
   "source": [
    "맛과 색상으로 분류하여 그들의 가격의 합 구하기"
   ]
  },
  {
   "cell_type": "markdown",
   "id": "884ad435",
   "metadata": {},
   "source": [
    "### pivot table 과의 차이"
   ]
  },
  {
   "cell_type": "code",
   "execution_count": 17,
   "id": "9f8bf3e5",
   "metadata": {},
   "outputs": [
    {
     "data": {
      "text/html": [
       "<table border=\"1\" class=\"dataframe\">\n",
       "    <thead>\n",
       "        <tr>\n",
       "            <th>Flavor</th> <th>Color</th> <th>count</th>\n",
       "        </tr>\n",
       "    </thead>\n",
       "    <tbody>\n",
       "        <tr>\n",
       "            <td>bubblegum </td> <td>pink       </td> <td>1    </td>\n",
       "        </tr>\n",
       "        <tr>\n",
       "            <td>chocolate </td> <td>dark brown </td> <td>2    </td>\n",
       "        </tr>\n",
       "        <tr>\n",
       "            <td>chocolate </td> <td>light brown</td> <td>1    </td>\n",
       "        </tr>\n",
       "        <tr>\n",
       "            <td>strawberry</td> <td>pink       </td> <td>2    </td>\n",
       "        </tr>\n",
       "    </tbody>\n",
       "</table>"
      ],
      "text/plain": [
       "Flavor     | Color       | count\n",
       "bubblegum  | pink        | 1\n",
       "chocolate  | dark brown  | 2\n",
       "chocolate  | light brown | 1\n",
       "strawberry | pink        | 2"
      ]
     },
     "execution_count": 17,
     "metadata": {},
     "output_type": "execute_result"
    }
   ],
   "source": [
    "more_cones.group(['Flavor', 'Color'])"
   ]
  },
  {
   "cell_type": "code",
   "execution_count": 18,
   "id": "ea20e98c",
   "metadata": {},
   "outputs": [
    {
     "data": {
      "text/html": [
       "<table border=\"1\" class=\"dataframe\">\n",
       "    <thead>\n",
       "        <tr>\n",
       "            <th>Color</th> <th>bubblegum</th> <th>chocolate</th> <th>strawberry</th>\n",
       "        </tr>\n",
       "    </thead>\n",
       "    <tbody>\n",
       "        <tr>\n",
       "            <td>dark brown </td> <td>0        </td> <td>2        </td> <td>0         </td>\n",
       "        </tr>\n",
       "        <tr>\n",
       "            <td>light brown</td> <td>0        </td> <td>1        </td> <td>0         </td>\n",
       "        </tr>\n",
       "        <tr>\n",
       "            <td>pink       </td> <td>1        </td> <td>0        </td> <td>2         </td>\n",
       "        </tr>\n",
       "    </tbody>\n",
       "</table>"
      ],
      "text/plain": [
       "Color       | bubblegum | chocolate | strawberry\n",
       "dark brown  | 0         | 2         | 0\n",
       "light brown | 0         | 1         | 0\n",
       "pink        | 1         | 0         | 2"
      ]
     },
     "execution_count": 18,
     "metadata": {},
     "output_type": "execute_result"
    }
   ],
   "source": [
    "more_cones.pivot('Flavor', 'Color')"
   ]
  },
  {
   "cell_type": "markdown",
   "id": "9adc351b",
   "metadata": {},
   "source": [
    "그룹은 존재하는 조합을 모두 출력하지만, 피봇은 가능한 조합 모두를 출력하여 나타낸다."
   ]
  },
  {
   "cell_type": "code",
   "execution_count": 19,
   "id": "d3cf167c",
   "metadata": {},
   "outputs": [
    {
     "data": {
      "text/html": [
       "<table border=\"1\" class=\"dataframe\">\n",
       "    <thead>\n",
       "        <tr>\n",
       "            <th>Color</th> <th>bubblegum</th> <th>chocolate</th> <th>strawberry</th>\n",
       "        </tr>\n",
       "    </thead>\n",
       "    <tbody>\n",
       "        <tr>\n",
       "            <td>dark brown </td> <td>0        </td> <td>10.5     </td> <td>0         </td>\n",
       "        </tr>\n",
       "        <tr>\n",
       "            <td>light brown</td> <td>0        </td> <td>4.75     </td> <td>0         </td>\n",
       "        </tr>\n",
       "        <tr>\n",
       "            <td>pink       </td> <td>4.75     </td> <td>0        </td> <td>8.8       </td>\n",
       "        </tr>\n",
       "    </tbody>\n",
       "</table>"
      ],
      "text/plain": [
       "Color       | bubblegum | chocolate | strawberry\n",
       "dark brown  | 0         | 10.5      | 0\n",
       "light brown | 0         | 4.75      | 0\n",
       "pink        | 4.75      | 0         | 8.8"
      ]
     },
     "execution_count": 19,
     "metadata": {},
     "output_type": "execute_result"
    }
   ],
   "source": [
    "more_cones.pivot('Flavor', 'Color', values='Price', collect=sum)"
   ]
  },
  {
   "cell_type": "code",
   "execution_count": 20,
   "id": "e243a62b",
   "metadata": {},
   "outputs": [
    {
     "data": {
      "text/html": [
       "<table border=\"1\" class=\"dataframe\">\n",
       "    <thead>\n",
       "        <tr>\n",
       "            <th>Flavor</th> <th>Color</th> <th>Price sum</th>\n",
       "        </tr>\n",
       "    </thead>\n",
       "    <tbody>\n",
       "        <tr>\n",
       "            <td>bubblegum </td> <td>pink       </td> <td>4.75     </td>\n",
       "        </tr>\n",
       "        <tr>\n",
       "            <td>chocolate </td> <td>dark brown </td> <td>10.5     </td>\n",
       "        </tr>\n",
       "        <tr>\n",
       "            <td>chocolate </td> <td>light brown</td> <td>4.75     </td>\n",
       "        </tr>\n",
       "        <tr>\n",
       "            <td>strawberry</td> <td>pink       </td> <td>8.8      </td>\n",
       "        </tr>\n",
       "    </tbody>\n",
       "</table>"
      ],
      "text/plain": [
       "Flavor     | Color       | Price sum\n",
       "bubblegum  | pink        | 4.75\n",
       "chocolate  | dark brown  | 10.5\n",
       "chocolate  | light brown | 4.75\n",
       "strawberry | pink        | 8.8"
      ]
     },
     "execution_count": 20,
     "metadata": {},
     "output_type": "execute_result"
    }
   ],
   "source": [
    "more_cones.group(['Flavor', 'Color'], sum)"
   ]
  },
  {
   "cell_type": "markdown",
   "id": "4e4142d7",
   "metadata": {},
   "source": [
    "피봇으로 생성된 테이블은 더욱 명확하게 시각화해준다."
   ]
  },
  {
   "cell_type": "markdown",
   "id": "94bb4e82",
   "metadata": {},
   "source": [
    "# 8.4 Joining Tables by Columns"
   ]
  },
  {
   "cell_type": "code",
   "execution_count": 21,
   "id": "666912f2",
   "metadata": {},
   "outputs": [
    {
     "data": {
      "text/html": [
       "<table border=\"1\" class=\"dataframe\">\n",
       "    <thead>\n",
       "        <tr>\n",
       "            <th>Flavor</th> <th>Price</th>\n",
       "        </tr>\n",
       "    </thead>\n",
       "    <tbody>\n",
       "        <tr>\n",
       "            <td>strawberry</td> <td>3.55 </td>\n",
       "        </tr>\n",
       "        <tr>\n",
       "            <td>vanilla   </td> <td>4.75 </td>\n",
       "        </tr>\n",
       "        <tr>\n",
       "            <td>chocolate </td> <td>6.55 </td>\n",
       "        </tr>\n",
       "        <tr>\n",
       "            <td>strawberry</td> <td>5.25 </td>\n",
       "        </tr>\n",
       "        <tr>\n",
       "            <td>chocolate </td> <td>5.75 </td>\n",
       "        </tr>\n",
       "    </tbody>\n",
       "</table>"
      ],
      "text/plain": [
       "Flavor     | Price\n",
       "strawberry | 3.55\n",
       "vanilla    | 4.75\n",
       "chocolate  | 6.55\n",
       "strawberry | 5.25\n",
       "chocolate  | 5.75"
      ]
     },
     "execution_count": 21,
     "metadata": {},
     "output_type": "execute_result"
    }
   ],
   "source": [
    "cones = Table().with_columns(\n",
    "    'Flavor', make_array('strawberry', 'vanilla', 'chocolate', 'strawberry', 'chocolate'),\n",
    "    'Price', make_array(3.55, 4.75, 6.55, 5.25, 5.75)\n",
    ")\n",
    "cones"
   ]
  },
  {
   "cell_type": "code",
   "execution_count": 22,
   "id": "5bd7f334",
   "metadata": {},
   "outputs": [
    {
     "data": {
      "text/html": [
       "<table border=\"1\" class=\"dataframe\">\n",
       "    <thead>\n",
       "        <tr>\n",
       "            <th>Kind</th> <th>Stars</th>\n",
       "        </tr>\n",
       "    </thead>\n",
       "    <tbody>\n",
       "        <tr>\n",
       "            <td>strawberry</td> <td>2.5  </td>\n",
       "        </tr>\n",
       "        <tr>\n",
       "            <td>chocolate </td> <td>3.5  </td>\n",
       "        </tr>\n",
       "        <tr>\n",
       "            <td>vanilla   </td> <td>4    </td>\n",
       "        </tr>\n",
       "    </tbody>\n",
       "</table>"
      ],
      "text/plain": [
       "Kind       | Stars\n",
       "strawberry | 2.5\n",
       "chocolate  | 3.5\n",
       "vanilla    | 4"
      ]
     },
     "execution_count": 22,
     "metadata": {},
     "output_type": "execute_result"
    }
   ],
   "source": [
    "ratings = Table().with_columns(\n",
    "    'Kind', make_array('strawberry', 'chocolate', 'vanilla'),\n",
    "    'Stars', make_array(2.5, 3.5, 4)\n",
    ")\n",
    "ratings"
   ]
  },
  {
   "cell_type": "markdown",
   "id": "f7aef5d3",
   "metadata": {},
   "source": [
    "아이스크림에 대해 맛과 가격의 정보가 있는 테이블이 있고, 맛의 종류와 해당 맛의 별점이 있는 테이블이 있을 때, 이 두 테이블을 하나로 합치는 방법은 다음과 같다."
   ]
  },
  {
   "cell_type": "code",
   "execution_count": 23,
   "id": "958eef0a",
   "metadata": {},
   "outputs": [
    {
     "data": {
      "text/html": [
       "<table border=\"1\" class=\"dataframe\">\n",
       "    <thead>\n",
       "        <tr>\n",
       "            <th>Flavor</th> <th>Price</th> <th>Stars</th>\n",
       "        </tr>\n",
       "    </thead>\n",
       "    <tbody>\n",
       "        <tr>\n",
       "            <td>chocolate </td> <td>6.55 </td> <td>3.5  </td>\n",
       "        </tr>\n",
       "        <tr>\n",
       "            <td>chocolate </td> <td>5.75 </td> <td>3.5  </td>\n",
       "        </tr>\n",
       "        <tr>\n",
       "            <td>strawberry</td> <td>3.55 </td> <td>2.5  </td>\n",
       "        </tr>\n",
       "        <tr>\n",
       "            <td>strawberry</td> <td>5.25 </td> <td>2.5  </td>\n",
       "        </tr>\n",
       "        <tr>\n",
       "            <td>vanilla   </td> <td>4.75 </td> <td>4    </td>\n",
       "        </tr>\n",
       "    </tbody>\n",
       "</table>"
      ],
      "text/plain": [
       "Flavor     | Price | Stars\n",
       "chocolate  | 6.55  | 3.5\n",
       "chocolate  | 5.75  | 3.5\n",
       "strawberry | 3.55  | 2.5\n",
       "strawberry | 5.25  | 2.5\n",
       "vanilla    | 4.75  | 4"
      ]
     },
     "execution_count": 23,
     "metadata": {},
     "output_type": "execute_result"
    }
   ],
   "source": [
    "rated = cones.join('Flavor', ratings, 'Kind')\n",
    "rated"
   ]
  },
  {
   "cell_type": "markdown",
   "id": "2712c1cb",
   "metadata": {},
   "source": [
    "표 1.join(표 1_column_for_joining, 표 2, 표 2_column_for_joining)\n",
    "\n",
    "flavor 컬럼과 ratings 테이블의 kind 컬럼을 하나로 합쳤다.(join)"
   ]
  },
  {
   "cell_type": "code",
   "execution_count": 24,
   "id": "e9dbdd8a",
   "metadata": {},
   "outputs": [
    {
     "data": {
      "text/html": [
       "<table border=\"1\" class=\"dataframe\">\n",
       "    <thead>\n",
       "        <tr>\n",
       "            <th>Flavor</th> <th>Price</th> <th>Stars</th> <th>$/Star</th>\n",
       "        </tr>\n",
       "    </thead>\n",
       "    <tbody>\n",
       "        <tr>\n",
       "            <td>vanilla   </td> <td>4.75 </td> <td>4    </td> <td>1.1875 </td>\n",
       "        </tr>\n",
       "        <tr>\n",
       "            <td>strawberry</td> <td>3.55 </td> <td>2.5  </td> <td>1.42   </td>\n",
       "        </tr>\n",
       "        <tr>\n",
       "            <td>chocolate </td> <td>5.75 </td> <td>3.5  </td> <td>1.64286</td>\n",
       "        </tr>\n",
       "        <tr>\n",
       "            <td>chocolate </td> <td>6.55 </td> <td>3.5  </td> <td>1.87143</td>\n",
       "        </tr>\n",
       "        <tr>\n",
       "            <td>strawberry</td> <td>5.25 </td> <td>2.5  </td> <td>2.1    </td>\n",
       "        </tr>\n",
       "    </tbody>\n",
       "</table>"
      ],
      "text/plain": [
       "Flavor     | Price | Stars | $/Star\n",
       "vanilla    | 4.75  | 4     | 1.1875\n",
       "strawberry | 3.55  | 2.5   | 1.42\n",
       "chocolate  | 5.75  | 3.5   | 1.64286\n",
       "chocolate  | 6.55  | 3.5   | 1.87143\n",
       "strawberry | 5.25  | 2.5   | 2.1"
      ]
     },
     "execution_count": 24,
     "metadata": {},
     "output_type": "execute_result"
    }
   ],
   "source": [
    "rated.with_column('$/Star', rated.column('Price') / rated.column('Stars')).sort(3)"
   ]
  },
  {
   "cell_type": "code",
   "execution_count": 25,
   "id": "1fdd54e3",
   "metadata": {},
   "outputs": [
    {
     "data": {
      "text/html": [
       "<table border=\"1\" class=\"dataframe\">\n",
       "    <thead>\n",
       "        <tr>\n",
       "            <th>Kind</th> <th>Stars</th> <th>Price</th>\n",
       "        </tr>\n",
       "    </thead>\n",
       "    <tbody>\n",
       "        <tr>\n",
       "            <td>chocolate </td> <td>3.5  </td> <td>6.55 </td>\n",
       "        </tr>\n",
       "        <tr>\n",
       "            <td>chocolate </td> <td>3.5  </td> <td>5.75 </td>\n",
       "        </tr>\n",
       "        <tr>\n",
       "            <td>strawberry</td> <td>2.5  </td> <td>3.55 </td>\n",
       "        </tr>\n",
       "        <tr>\n",
       "            <td>strawberry</td> <td>2.5  </td> <td>5.25 </td>\n",
       "        </tr>\n",
       "        <tr>\n",
       "            <td>vanilla   </td> <td>4    </td> <td>4.75 </td>\n",
       "        </tr>\n",
       "    </tbody>\n",
       "</table>"
      ],
      "text/plain": [
       "Kind       | Stars | Price\n",
       "chocolate  | 3.5   | 6.55\n",
       "chocolate  | 3.5   | 5.75\n",
       "strawberry | 2.5   | 3.55\n",
       "strawberry | 2.5   | 5.25\n",
       "vanilla    | 4     | 4.75"
      ]
     },
     "execution_count": 25,
     "metadata": {},
     "output_type": "execute_result"
    }
   ],
   "source": [
    "ratings.join('Kind', cones, 'Flavor')"
   ]
  },
  {
   "cell_type": "markdown",
   "id": "010a3159",
   "metadata": {},
   "source": [
    "테이블을 반대로 해도 결과는 같다."
   ]
  },
  {
   "cell_type": "code",
   "execution_count": 26,
   "id": "795d7279",
   "metadata": {},
   "outputs": [
    {
     "data": {
      "text/html": [
       "<table border=\"1\" class=\"dataframe\">\n",
       "    <thead>\n",
       "        <tr>\n",
       "            <th>Flavor</th> <th>Stars</th>\n",
       "        </tr>\n",
       "    </thead>\n",
       "    <tbody>\n",
       "        <tr>\n",
       "            <td>vanilla  </td> <td>5    </td>\n",
       "        </tr>\n",
       "        <tr>\n",
       "            <td>chocolate</td> <td>3    </td>\n",
       "        </tr>\n",
       "        <tr>\n",
       "            <td>vanilla  </td> <td>5    </td>\n",
       "        </tr>\n",
       "        <tr>\n",
       "            <td>chocolate</td> <td>4    </td>\n",
       "        </tr>\n",
       "    </tbody>\n",
       "</table>"
      ],
      "text/plain": [
       "Flavor    | Stars\n",
       "vanilla   | 5\n",
       "chocolate | 3\n",
       "vanilla   | 5\n",
       "chocolate | 4"
      ]
     },
     "execution_count": 26,
     "metadata": {},
     "output_type": "execute_result"
    }
   ],
   "source": [
    "reviews = Table().with_columns(\n",
    "    'Flavor', make_array('vanilla', 'chocolate', 'vanilla', 'chocolate'),\n",
    "    'Stars', make_array(5, 3, 5, 4)\n",
    ")\n",
    "reviews"
   ]
  },
  {
   "cell_type": "code",
   "execution_count": 27,
   "id": "5573a1ea",
   "metadata": {},
   "outputs": [
    {
     "data": {
      "text/html": [
       "<table border=\"1\" class=\"dataframe\">\n",
       "    <thead>\n",
       "        <tr>\n",
       "            <th>Flavor</th> <th>Stars average</th>\n",
       "        </tr>\n",
       "    </thead>\n",
       "    <tbody>\n",
       "        <tr>\n",
       "            <td>chocolate</td> <td>3.5          </td>\n",
       "        </tr>\n",
       "        <tr>\n",
       "            <td>vanilla  </td> <td>5            </td>\n",
       "        </tr>\n",
       "    </tbody>\n",
       "</table>"
      ],
      "text/plain": [
       "Flavor    | Stars average\n",
       "chocolate | 3.5\n",
       "vanilla   | 5"
      ]
     },
     "execution_count": 27,
     "metadata": {},
     "output_type": "execute_result"
    }
   ],
   "source": [
    "average_review = reviews.group('Flavor', np.average)\n",
    "average_review"
   ]
  },
  {
   "cell_type": "code",
   "execution_count": 28,
   "id": "ccda3072",
   "metadata": {},
   "outputs": [
    {
     "data": {
      "text/html": [
       "<table border=\"1\" class=\"dataframe\">\n",
       "    <thead>\n",
       "        <tr>\n",
       "            <th>Flavor</th> <th>Price</th> <th>Stars average</th>\n",
       "        </tr>\n",
       "    </thead>\n",
       "    <tbody>\n",
       "        <tr>\n",
       "            <td>chocolate</td> <td>6.55 </td> <td>3.5          </td>\n",
       "        </tr>\n",
       "        <tr>\n",
       "            <td>chocolate</td> <td>5.75 </td> <td>3.5          </td>\n",
       "        </tr>\n",
       "        <tr>\n",
       "            <td>vanilla  </td> <td>4.75 </td> <td>5            </td>\n",
       "        </tr>\n",
       "    </tbody>\n",
       "</table>"
      ],
      "text/plain": [
       "Flavor    | Price | Stars average\n",
       "chocolate | 6.55  | 3.5\n",
       "chocolate | 5.75  | 3.5\n",
       "vanilla   | 4.75  | 5"
      ]
     },
     "execution_count": 28,
     "metadata": {},
     "output_type": "execute_result"
    }
   ],
   "source": [
    "cones.join('Flavor', average_review, 'Flavor')"
   ]
  },
  {
   "cell_type": "markdown",
   "id": "39f13e5c",
   "metadata": {},
   "source": [
    "review 테이블에는 chocolate와 vanilla에 대한 평가만 들어있다. strawberry에 대한 정보가 없기 때문에 join 할 시 사라지게 된다."
   ]
  },
  {
   "cell_type": "markdown",
   "id": "7c0503cd",
   "metadata": {},
   "source": [
    "# 8.5"
   ]
  },
  {
   "cell_type": "code",
   "execution_count": 29,
   "id": "92999aa5",
   "metadata": {},
   "outputs": [
    {
     "data": {
      "text/html": [
       "<table border=\"1\" class=\"dataframe\">\n",
       "    <thead>\n",
       "        <tr>\n",
       "            <th>Trip ID</th> <th>Duration</th> <th>Start Date</th> <th>Start Station</th> <th>Start Terminal</th> <th>End Date</th> <th>End Station</th> <th>End Terminal</th> <th>Bike #</th> <th>Subscriber Type</th> <th>Zip Code</th>\n",
       "        </tr>\n",
       "    </thead>\n",
       "    <tbody>\n",
       "        <tr>\n",
       "            <td>913460 </td> <td>765     </td> <td>8/31/2015 23:26</td> <td>Harry Bridges Plaza (Ferry Building)         </td> <td>50            </td> <td>8/31/2015 23:39</td> <td>San Francisco Caltrain (Townsend at 4th)     </td> <td>70          </td> <td>288   </td> <td>Subscriber     </td> <td>2139    </td>\n",
       "        </tr>\n",
       "        <tr>\n",
       "            <td>913459 </td> <td>1036    </td> <td>8/31/2015 23:11</td> <td>San Antonio Shopping Center                  </td> <td>31            </td> <td>8/31/2015 23:28</td> <td>Mountain View City Hall                      </td> <td>27          </td> <td>35    </td> <td>Subscriber     </td> <td>95032   </td>\n",
       "        </tr>\n",
       "        <tr>\n",
       "            <td>913455 </td> <td>307     </td> <td>8/31/2015 23:13</td> <td>Post at Kearny                               </td> <td>47            </td> <td>8/31/2015 23:18</td> <td>2nd at South Park                            </td> <td>64          </td> <td>468   </td> <td>Subscriber     </td> <td>94107   </td>\n",
       "        </tr>\n",
       "        <tr>\n",
       "            <td>913454 </td> <td>409     </td> <td>8/31/2015 23:10</td> <td>San Jose City Hall                           </td> <td>10            </td> <td>8/31/2015 23:17</td> <td>San Salvador at 1st                          </td> <td>8           </td> <td>68    </td> <td>Subscriber     </td> <td>95113   </td>\n",
       "        </tr>\n",
       "        <tr>\n",
       "            <td>913453 </td> <td>789     </td> <td>8/31/2015 23:09</td> <td>Embarcadero at Folsom                        </td> <td>51            </td> <td>8/31/2015 23:22</td> <td>Embarcadero at Sansome                       </td> <td>60          </td> <td>487   </td> <td>Customer       </td> <td>9069    </td>\n",
       "        </tr>\n",
       "        <tr>\n",
       "            <td>913452 </td> <td>293     </td> <td>8/31/2015 23:07</td> <td>Yerba Buena Center of the Arts (3rd @ Howard)</td> <td>68            </td> <td>8/31/2015 23:12</td> <td>San Francisco Caltrain (Townsend at 4th)     </td> <td>70          </td> <td>538   </td> <td>Subscriber     </td> <td>94118   </td>\n",
       "        </tr>\n",
       "        <tr>\n",
       "            <td>913451 </td> <td>896     </td> <td>8/31/2015 23:07</td> <td>Embarcadero at Folsom                        </td> <td>51            </td> <td>8/31/2015 23:22</td> <td>Embarcadero at Sansome                       </td> <td>60          </td> <td>363   </td> <td>Customer       </td> <td>92562   </td>\n",
       "        </tr>\n",
       "        <tr>\n",
       "            <td>913450 </td> <td>255     </td> <td>8/31/2015 22:16</td> <td>Embarcadero at Sansome                       </td> <td>60            </td> <td>8/31/2015 22:20</td> <td>Steuart at Market                            </td> <td>74          </td> <td>470   </td> <td>Subscriber     </td> <td>94111   </td>\n",
       "        </tr>\n",
       "        <tr>\n",
       "            <td>913449 </td> <td>126     </td> <td>8/31/2015 22:12</td> <td>Beale at Market                              </td> <td>56            </td> <td>8/31/2015 22:15</td> <td>Temporary Transbay Terminal (Howard at Beale)</td> <td>55          </td> <td>439   </td> <td>Subscriber     </td> <td>94130   </td>\n",
       "        </tr>\n",
       "        <tr>\n",
       "            <td>913448 </td> <td>932     </td> <td>8/31/2015 21:57</td> <td>Post at Kearny                               </td> <td>47            </td> <td>8/31/2015 22:12</td> <td>South Van Ness at Market                     </td> <td>66          </td> <td>472   </td> <td>Subscriber     </td> <td>94702   </td>\n",
       "        </tr>\n",
       "    </tbody>\n",
       "</table>\n",
       "<p>... (354142 rows omitted)</p>"
      ],
      "text/plain": [
       "Trip ID | Duration | Start Date      | Start Station                                 | Start Terminal | End Date        | End Station                                   | End Terminal | Bike # | Subscriber Type | Zip Code\n",
       "913460  | 765      | 8/31/2015 23:26 | Harry Bridges Plaza (Ferry Building)          | 50             | 8/31/2015 23:39 | San Francisco Caltrain (Townsend at 4th)      | 70           | 288    | Subscriber      | 2139\n",
       "913459  | 1036     | 8/31/2015 23:11 | San Antonio Shopping Center                   | 31             | 8/31/2015 23:28 | Mountain View City Hall                       | 27           | 35     | Subscriber      | 95032\n",
       "913455  | 307      | 8/31/2015 23:13 | Post at Kearny                                | 47             | 8/31/2015 23:18 | 2nd at South Park                             | 64           | 468    | Subscriber      | 94107\n",
       "913454  | 409      | 8/31/2015 23:10 | San Jose City Hall                            | 10             | 8/31/2015 23:17 | San Salvador at 1st                           | 8            | 68     | Subscriber      | 95113\n",
       "913453  | 789      | 8/31/2015 23:09 | Embarcadero at Folsom                         | 51             | 8/31/2015 23:22 | Embarcadero at Sansome                        | 60           | 487    | Customer        | 9069\n",
       "913452  | 293      | 8/31/2015 23:07 | Yerba Buena Center of the Arts (3rd @ Howard) | 68             | 8/31/2015 23:12 | San Francisco Caltrain (Townsend at 4th)      | 70           | 538    | Subscriber      | 94118\n",
       "913451  | 896      | 8/31/2015 23:07 | Embarcadero at Folsom                         | 51             | 8/31/2015 23:22 | Embarcadero at Sansome                        | 60           | 363    | Customer        | 92562\n",
       "913450  | 255      | 8/31/2015 22:16 | Embarcadero at Sansome                        | 60             | 8/31/2015 22:20 | Steuart at Market                             | 74           | 470    | Subscriber      | 94111\n",
       "913449  | 126      | 8/31/2015 22:12 | Beale at Market                               | 56             | 8/31/2015 22:15 | Temporary Transbay Terminal (Howard at Beale) | 55           | 439    | Subscriber      | 94130\n",
       "913448  | 932      | 8/31/2015 21:57 | Post at Kearny                                | 47             | 8/31/2015 22:12 | South Van Ness at Market                      | 66           | 472    | Subscriber      | 94702\n",
       "... (354142 rows omitted)"
      ]
     },
     "execution_count": 29,
     "metadata": {},
     "output_type": "execute_result"
    }
   ],
   "source": [
    "trips = Table.read_table(path_data + 'trip.csv')\n",
    "trips"
   ]
  },
  {
   "cell_type": "code",
   "execution_count": 30,
   "id": "d7e991e2",
   "metadata": {},
   "outputs": [
    {
     "data": {
      "image/png": "[encoded data removed]",
      "text/plain": [
       "<Figure size 600x400 with 1 Axes>"
      ]
     },
     "metadata": {},
     "output_type": "display_data"
    }
   ],
   "source": [
    "commute = trips.where('Duration', are.below(1800))\n",
    "commute.hist('Duration', unit='Second')\n",
    "plots.show()"
   ]
  },
  {
   "cell_type": "markdown",
   "id": "041f6586",
   "metadata": {},
   "source": [
    "### `group`과 `pivot`으로 데이터 탐색하기"
   ]
  },
  {
   "cell_type": "code",
   "execution_count": 31,
   "id": "5aae40b2",
   "metadata": {},
   "outputs": [
    {
     "data": {
      "text/html": [
       "<table border=\"1\" class=\"dataframe\">\n",
       "    <thead>\n",
       "        <tr>\n",
       "            <th>Start Station</th> <th>count</th>\n",
       "        </tr>\n",
       "    </thead>\n",
       "    <tbody>\n",
       "        <tr>\n",
       "            <td>San Francisco Caltrain (Townsend at 4th)     </td> <td>25858</td>\n",
       "        </tr>\n",
       "        <tr>\n",
       "            <td>San Francisco Caltrain 2 (330 Townsend)      </td> <td>21523</td>\n",
       "        </tr>\n",
       "        <tr>\n",
       "            <td>Harry Bridges Plaza (Ferry Building)         </td> <td>15543</td>\n",
       "        </tr>\n",
       "        <tr>\n",
       "            <td>Temporary Transbay Terminal (Howard at Beale)</td> <td>14298</td>\n",
       "        </tr>\n",
       "        <tr>\n",
       "            <td>2nd at Townsend                              </td> <td>13674</td>\n",
       "        </tr>\n",
       "        <tr>\n",
       "            <td>Townsend at 7th                              </td> <td>13579</td>\n",
       "        </tr>\n",
       "        <tr>\n",
       "            <td>Steuart at Market                            </td> <td>13215</td>\n",
       "        </tr>\n",
       "        <tr>\n",
       "            <td>Embarcadero at Sansome                       </td> <td>12842</td>\n",
       "        </tr>\n",
       "        <tr>\n",
       "            <td>Market at 10th                               </td> <td>11523</td>\n",
       "        </tr>\n",
       "        <tr>\n",
       "            <td>Market at Sansome                            </td> <td>11023</td>\n",
       "        </tr>\n",
       "    </tbody>\n",
       "</table>\n",
       "<p>... (60 rows omitted)</p>"
      ],
      "text/plain": [
       "Start Station                                 | count\n",
       "San Francisco Caltrain (Townsend at 4th)      | 25858\n",
       "San Francisco Caltrain 2 (330 Townsend)       | 21523\n",
       "Harry Bridges Plaza (Ferry Building)          | 15543\n",
       "Temporary Transbay Terminal (Howard at Beale) | 14298\n",
       "2nd at Townsend                               | 13674\n",
       "Townsend at 7th                               | 13579\n",
       "Steuart at Market                             | 13215\n",
       "Embarcadero at Sansome                        | 12842\n",
       "Market at 10th                                | 11523\n",
       "Market at Sansome                             | 11023\n",
       "... (60 rows omitted)"
      ]
     },
     "execution_count": 31,
     "metadata": {},
     "output_type": "execute_result"
    }
   ],
   "source": [
    "starts = commute.group('Start Station').sort('count', descending=True)\n",
    "starts"
   ]
  },
  {
   "cell_type": "code",
   "execution_count": 32,
   "id": "c49ba664",
   "metadata": {},
   "outputs": [
    {
     "data": {
      "text/html": [
       "<table border=\"1\" class=\"dataframe\">\n",
       "    <thead>\n",
       "        <tr>\n",
       "            <th>Start Station</th> <th>End Station</th> <th>count</th>\n",
       "        </tr>\n",
       "    </thead>\n",
       "    <tbody>\n",
       "        <tr>\n",
       "            <td>2nd at Folsom</td> <td>2nd at Folsom                    </td> <td>54   </td>\n",
       "        </tr>\n",
       "        <tr>\n",
       "            <td>2nd at Folsom</td> <td>2nd at South Park                </td> <td>295  </td>\n",
       "        </tr>\n",
       "        <tr>\n",
       "            <td>2nd at Folsom</td> <td>2nd at Townsend                  </td> <td>437  </td>\n",
       "        </tr>\n",
       "        <tr>\n",
       "            <td>2nd at Folsom</td> <td>5th at Howard                    </td> <td>113  </td>\n",
       "        </tr>\n",
       "        <tr>\n",
       "            <td>2nd at Folsom</td> <td>Beale at Market                  </td> <td>127  </td>\n",
       "        </tr>\n",
       "        <tr>\n",
       "            <td>2nd at Folsom</td> <td>Broadway St at Battery St        </td> <td>67   </td>\n",
       "        </tr>\n",
       "        <tr>\n",
       "            <td>2nd at Folsom</td> <td>Civic Center BART (7th at Market)</td> <td>47   </td>\n",
       "        </tr>\n",
       "        <tr>\n",
       "            <td>2nd at Folsom</td> <td>Clay at Battery                  </td> <td>240  </td>\n",
       "        </tr>\n",
       "        <tr>\n",
       "            <td>2nd at Folsom</td> <td>Commercial at Montgomery         </td> <td>128  </td>\n",
       "        </tr>\n",
       "        <tr>\n",
       "            <td>2nd at Folsom</td> <td>Davis at Jackson                 </td> <td>28   </td>\n",
       "        </tr>\n",
       "    </tbody>\n",
       "</table>\n",
       "<p>... (1619 rows omitted)</p>"
      ],
      "text/plain": [
       "Start Station | End Station                       | count\n",
       "2nd at Folsom | 2nd at Folsom                     | 54\n",
       "2nd at Folsom | 2nd at South Park                 | 295\n",
       "2nd at Folsom | 2nd at Townsend                   | 437\n",
       "2nd at Folsom | 5th at Howard                     | 113\n",
       "2nd at Folsom | Beale at Market                   | 127\n",
       "2nd at Folsom | Broadway St at Battery St         | 67\n",
       "2nd at Folsom | Civic Center BART (7th at Market) | 47\n",
       "2nd at Folsom | Clay at Battery                   | 240\n",
       "2nd at Folsom | Commercial at Montgomery          | 128\n",
       "2nd at Folsom | Davis at Jackson                  | 28\n",
       "... (1619 rows omitted)"
      ]
     },
     "execution_count": 32,
     "metadata": {},
     "output_type": "execute_result"
    }
   ],
   "source": [
    "commute.group(['Start Station', 'End Station'])"
   ]
  },
  {
   "cell_type": "markdown",
   "id": "7b175da8",
   "metadata": {},
   "source": [
    "시작 역과 끝역에 대해서 각 개수를 알수 있지만, pivot을 이용하여 더 확실하게 확인할 수 있다."
   ]
  },
  {
   "cell_type": "code",
   "execution_count": 33,
   "id": "690c463b",
   "metadata": {},
   "outputs": [
    {
     "data": {
      "text/html": [
       "<table border=\"1\" class=\"dataframe\">\n",
       "    <thead>\n",
       "        <tr>\n",
       "            <th>End Station</th> <th>2nd at Folsom</th> <th>2nd at South Park</th> <th>2nd at Townsend</th> <th>5th at Howard</th> <th>Adobe on Almaden</th> <th>Arena Green / SAP Center</th> <th>Beale at Market</th> <th>Broadway St at Battery St</th> <th>California Ave Caltrain Station</th> <th>Castro Street and El Camino Real</th> <th>Civic Center BART (7th at Market)</th> <th>Clay at Battery</th> <th>Commercial at Montgomery</th> <th>Cowper at University</th> <th>Davis at Jackson</th> <th>Embarcadero at Bryant</th> <th>Embarcadero at Folsom</th> <th>Embarcadero at Sansome</th> <th>Embarcadero at Vallejo</th> <th>Evelyn Park and Ride</th> <th>Franklin at Maple</th> <th>Golden Gate at Polk</th> <th>Grant Avenue at Columbus Avenue</th> <th>Harry Bridges Plaza (Ferry Building)</th> <th>Howard at 2nd</th> <th>Japantown</th> <th>MLK Library</th> <th>Market at 10th</th> <th>Market at 4th</th> <th>Market at Sansome</th> <th>Mechanics Plaza (Market at Battery)</th> <th>Mezes Park</th> <th>Mountain View Caltrain Station</th> <th>Mountain View City Hall</th> <th>Palo Alto Caltrain Station</th> <th>Park at Olive</th> <th>Paseo de San Antonio</th> <th>Post at Kearny</th> <th>Powell Street BART</th> <th>Powell at Post (Union Square)</th> <th>Redwood City Caltrain Station</th> <th>Redwood City Medical Center</th> <th>Redwood City Public Library</th> <th>Rengstorff Avenue / California Street</th> <th>Ryland Park</th> <th>SJSU - San Salvador at 9th</th> <th>SJSU 4th at San Carlos</th> <th>San Antonio Caltrain Station</th> <th>San Antonio Shopping Center</th> <th>San Francisco Caltrain (Townsend at 4th)</th> <th>San Francisco Caltrain 2 (330 Townsend)</th> <th>San Francisco City Hall</th> <th>San Jose City Hall</th> <th>San Jose Civic Center</th> <th>San Jose Diridon Caltrain Station</th> <th>San Mateo County Center</th> <th>San Pedro Square</th> <th>San Salvador at 1st</th> <th>Santa Clara County Civic Center</th> <th>Santa Clara at Almaden</th> <th>South Van Ness at Market</th> <th>Spear at Folsom</th> <th>St James Park</th> <th>Stanford in Redwood City</th> <th>Steuart at Market</th> <th>Temporary Transbay Terminal (Howard at Beale)</th> <th>Townsend at 7th</th> <th>University and Emerson</th> <th>Washington at Kearny</th> <th>Yerba Buena Center of the Arts (3rd @ Howard)</th>\n",
       "        </tr>\n",
       "    </thead>\n",
       "    <tbody>\n",
       "        <tr>\n",
       "            <td>2nd at Folsom                   </td> <td>54           </td> <td>190              </td> <td>554            </td> <td>107          </td> <td>0               </td> <td>0                       </td> <td>40             </td> <td>21                       </td> <td>0                              </td> <td>0                               </td> <td>44                               </td> <td>78             </td> <td>54                      </td> <td>0                   </td> <td>9               </td> <td>77                   </td> <td>32                   </td> <td>41                    </td> <td>14                    </td> <td>0                   </td> <td>0                </td> <td>11                 </td> <td>30                             </td> <td>416                                 </td> <td>53           </td> <td>0        </td> <td>0          </td> <td>169           </td> <td>114          </td> <td>302              </td> <td>33                                 </td> <td>0         </td> <td>0                             </td> <td>0                      </td> <td>0                         </td> <td>0            </td> <td>0                   </td> <td>60            </td> <td>121               </td> <td>88                           </td> <td>0                            </td> <td>0                          </td> <td>0                          </td> <td>0                                    </td> <td>0          </td> <td>0                         </td> <td>0                     </td> <td>0                           </td> <td>0                          </td> <td>694                                     </td> <td>445                                    </td> <td>21                     </td> <td>0                 </td> <td>0                    </td> <td>0                                </td> <td>0                      </td> <td>0               </td> <td>0                  </td> <td>0                              </td> <td>0                     </td> <td>38                      </td> <td>57             </td> <td>0            </td> <td>0                       </td> <td>39               </td> <td>237                                          </td> <td>342            </td> <td>0                     </td> <td>17                  </td> <td>31                                           </td>\n",
       "        </tr>\n",
       "        <tr>\n",
       "            <td>2nd at South Park               </td> <td>295          </td> <td>164              </td> <td>71             </td> <td>180          </td> <td>0               </td> <td>0                       </td> <td>208            </td> <td>85                       </td> <td>0                              </td> <td>0                               </td> <td>112                              </td> <td>87             </td> <td>160                     </td> <td>0                   </td> <td>37              </td> <td>56                   </td> <td>178                  </td> <td>83                    </td> <td>116                   </td> <td>0                   </td> <td>0                </td> <td>57                 </td> <td>73                             </td> <td>574                                 </td> <td>500          </td> <td>0        </td> <td>0          </td> <td>139           </td> <td>199          </td> <td>1633             </td> <td>119                                </td> <td>0         </td> <td>0                             </td> <td>0                      </td> <td>0                         </td> <td>0            </td> <td>0                   </td> <td>299           </td> <td>84                </td> <td>113                          </td> <td>0                            </td> <td>0                          </td> <td>0                          </td> <td>0                                    </td> <td>0          </td> <td>0                         </td> <td>0                     </td> <td>0                           </td> <td>0                          </td> <td>559                                     </td> <td>480                                    </td> <td>48                     </td> <td>0                 </td> <td>0                    </td> <td>0                                </td> <td>0                      </td> <td>0               </td> <td>0                  </td> <td>0                              </td> <td>0                     </td> <td>66                      </td> <td>152            </td> <td>0            </td> <td>0                       </td> <td>374              </td> <td>429                                          </td> <td>143            </td> <td>0                     </td> <td>63                  </td> <td>209                                          </td>\n",
       "        </tr>\n",
       "        <tr>\n",
       "            <td>2nd at Townsend                 </td> <td>437          </td> <td>151              </td> <td>185            </td> <td>92           </td> <td>0               </td> <td>0                       </td> <td>608            </td> <td>350                      </td> <td>0                              </td> <td>0                               </td> <td>80                               </td> <td>329            </td> <td>168                     </td> <td>0                   </td> <td>386             </td> <td>361                  </td> <td>658                  </td> <td>506                   </td> <td>254                   </td> <td>0                   </td> <td>0                </td> <td>27                 </td> <td>315                            </td> <td>2607                                </td> <td>295          </td> <td>0        </td> <td>0          </td> <td>110           </td> <td>225          </td> <td>845              </td> <td>177                                </td> <td>0         </td> <td>0                             </td> <td>0                      </td> <td>0                         </td> <td>0            </td> <td>0                   </td> <td>120           </td> <td>100               </td> <td>141                          </td> <td>0                            </td> <td>0                          </td> <td>0                          </td> <td>0                                    </td> <td>0          </td> <td>0                         </td> <td>0                     </td> <td>0                           </td> <td>0                          </td> <td>905                                     </td> <td>299                                    </td> <td>14                     </td> <td>0                 </td> <td>0                    </td> <td>0                                </td> <td>0                      </td> <td>0               </td> <td>0                  </td> <td>0                              </td> <td>0                     </td> <td>72                      </td> <td>508            </td> <td>0            </td> <td>0                       </td> <td>2349             </td> <td>784                                          </td> <td>417            </td> <td>0                     </td> <td>57                  </td> <td>166                                          </td>\n",
       "        </tr>\n",
       "        <tr>\n",
       "            <td>5th at Howard                   </td> <td>113          </td> <td>177              </td> <td>148            </td> <td>83           </td> <td>0               </td> <td>0                       </td> <td>59             </td> <td>130                      </td> <td>0                              </td> <td>0                               </td> <td>203                              </td> <td>76             </td> <td>129                     </td> <td>0                   </td> <td>30              </td> <td>57                   </td> <td>49                   </td> <td>166                   </td> <td>54                    </td> <td>0                   </td> <td>0                </td> <td>85                 </td> <td>78                             </td> <td>371                                 </td> <td>478          </td> <td>0        </td> <td>0          </td> <td>303           </td> <td>158          </td> <td>168              </td> <td>90                                 </td> <td>0         </td> <td>0                             </td> <td>0                      </td> <td>0                         </td> <td>0            </td> <td>0                   </td> <td>93            </td> <td>183               </td> <td>169                          </td> <td>0                            </td> <td>0                          </td> <td>0                          </td> <td>0                                    </td> <td>0          </td> <td>0                         </td> <td>0                     </td> <td>0                           </td> <td>0                          </td> <td>690                                     </td> <td>1859                                   </td> <td>48                     </td> <td>0                 </td> <td>0                    </td> <td>0                                </td> <td>0                      </td> <td>0               </td> <td>0                  </td> <td>0                              </td> <td>0                     </td> <td>116                     </td> <td>102            </td> <td>0            </td> <td>0                       </td> <td>182              </td> <td>750                                          </td> <td>200            </td> <td>0                     </td> <td>43                  </td> <td>267                                          </td>\n",
       "        </tr>\n",
       "        <tr>\n",
       "            <td>Adobe on Almaden                </td> <td>0            </td> <td>0                </td> <td>0              </td> <td>0            </td> <td>11              </td> <td>4                       </td> <td>0              </td> <td>0                        </td> <td>0                              </td> <td>0                               </td> <td>0                                </td> <td>0              </td> <td>0                       </td> <td>0                   </td> <td>0               </td> <td>0                    </td> <td>0                    </td> <td>0                     </td> <td>0                     </td> <td>0                   </td> <td>0                </td> <td>0                  </td> <td>0                              </td> <td>0                                   </td> <td>0            </td> <td>17       </td> <td>7          </td> <td>0             </td> <td>0            </td> <td>0                </td> <td>0                                  </td> <td>0         </td> <td>0                             </td> <td>0                      </td> <td>0                         </td> <td>0            </td> <td>25                  </td> <td>0             </td> <td>0                 </td> <td>0                            </td> <td>0                            </td> <td>0                          </td> <td>0                          </td> <td>0                                    </td> <td>7          </td> <td>7                         </td> <td>16                    </td> <td>0                           </td> <td>0                          </td> <td>0                                       </td> <td>0                                      </td> <td>0                      </td> <td>19                </td> <td>23                   </td> <td>265                              </td> <td>0                      </td> <td>20              </td> <td>4                  </td> <td>5                              </td> <td>10                    </td> <td>0                       </td> <td>0              </td> <td>14           </td> <td>0                       </td> <td>0                </td> <td>0                                            </td> <td>0              </td> <td>0                     </td> <td>0                   </td> <td>0                                            </td>\n",
       "        </tr>\n",
       "        <tr>\n",
       "            <td>Arena Green / SAP Center        </td> <td>0            </td> <td>0                </td> <td>0              </td> <td>0            </td> <td>7               </td> <td>64                      </td> <td>0              </td> <td>0                        </td> <td>0                              </td> <td>0                               </td> <td>0                                </td> <td>0              </td> <td>0                       </td> <td>0                   </td> <td>0               </td> <td>0                    </td> <td>0                    </td> <td>0                     </td> <td>0                     </td> <td>0                   </td> <td>0                </td> <td>0                  </td> <td>0                              </td> <td>0                                   </td> <td>0            </td> <td>16       </td> <td>5          </td> <td>0             </td> <td>0            </td> <td>0                </td> <td>0                                  </td> <td>0         </td> <td>0                             </td> <td>0                      </td> <td>0                         </td> <td>0            </td> <td>21                  </td> <td>0             </td> <td>0                 </td> <td>0                            </td> <td>0                            </td> <td>0                          </td> <td>0                          </td> <td>0                                    </td> <td>24         </td> <td>3                         </td> <td>7                     </td> <td>0                           </td> <td>0                          </td> <td>0                                       </td> <td>0                                      </td> <td>0                      </td> <td>6                 </td> <td>20                   </td> <td>7                                </td> <td>0                      </td> <td>56              </td> <td>12                 </td> <td>38                             </td> <td>259                   </td> <td>0                       </td> <td>0              </td> <td>13           </td> <td>0                       </td> <td>0                </td> <td>0                                            </td> <td>0              </td> <td>0                     </td> <td>0                   </td> <td>0                                            </td>\n",
       "        </tr>\n",
       "        <tr>\n",
       "            <td>Beale at Market                 </td> <td>127          </td> <td>79               </td> <td>183            </td> <td>59           </td> <td>0               </td> <td>0                       </td> <td>59             </td> <td>661                      </td> <td>0                              </td> <td>0                               </td> <td>201                              </td> <td>75             </td> <td>101                     </td> <td>0                   </td> <td>247             </td> <td>178                  </td> <td>38                   </td> <td>590                   </td> <td>165                   </td> <td>0                   </td> <td>0                </td> <td>54                 </td> <td>435                            </td> <td>57                                  </td> <td>72           </td> <td>0        </td> <td>0          </td> <td>286           </td> <td>236          </td> <td>163              </td> <td>26                                 </td> <td>0         </td> <td>0                             </td> <td>0                      </td> <td>0                         </td> <td>0            </td> <td>0                   </td> <td>49            </td> <td>227               </td> <td>179                          </td> <td>0                            </td> <td>0                          </td> <td>0                          </td> <td>0                                    </td> <td>0          </td> <td>0                         </td> <td>0                     </td> <td>0                           </td> <td>0                          </td> <td>640                                     </td> <td>269                                    </td> <td>25                     </td> <td>0                 </td> <td>0                    </td> <td>0                                </td> <td>0                      </td> <td>0               </td> <td>0                  </td> <td>0                              </td> <td>0                     </td> <td>243                     </td> <td>128            </td> <td>0            </td> <td>0                       </td> <td>16               </td> <td>167                                          </td> <td>35             </td> <td>0                     </td> <td>64                  </td> <td>45                                           </td>\n",
       "        </tr>\n",
       "        <tr>\n",
       "            <td>Broadway St at Battery St       </td> <td>67           </td> <td>89               </td> <td>279            </td> <td>119          </td> <td>0               </td> <td>0                       </td> <td>1022           </td> <td>110                      </td> <td>0                              </td> <td>0                               </td> <td>62                               </td> <td>283            </td> <td>226                     </td> <td>0                   </td> <td>191             </td> <td>198                  </td> <td>79                   </td> <td>231                   </td> <td>35                    </td> <td>0                   </td> <td>0                </td> <td>5                  </td> <td>70                             </td> <td>168                                 </td> <td>49           </td> <td>0        </td> <td>0          </td> <td>32            </td> <td>97           </td> <td>341              </td> <td>214                                </td> <td>0         </td> <td>0                             </td> <td>0                      </td> <td>0                         </td> <td>0            </td> <td>0                   </td> <td>169           </td> <td>71                </td> <td>218                          </td> <td>0                            </td> <td>0                          </td> <td>0                          </td> <td>0                                    </td> <td>0          </td> <td>0                         </td> <td>0                     </td> <td>0                           </td> <td>0                          </td> <td>685                                     </td> <td>438                                    </td> <td>7                      </td> <td>0                 </td> <td>0                    </td> <td>0                                </td> <td>0                      </td> <td>0               </td> <td>0                  </td> <td>0                              </td> <td>0                     </td> <td>18                      </td> <td>106            </td> <td>0            </td> <td>0                       </td> <td>344              </td> <td>748                                          </td> <td>50             </td> <td>0                     </td> <td>79                  </td> <td>47                                           </td>\n",
       "        </tr>\n",
       "        <tr>\n",
       "            <td>California Ave Caltrain Station </td> <td>0            </td> <td>0                </td> <td>0              </td> <td>0            </td> <td>0               </td> <td>0                       </td> <td>0              </td> <td>0                        </td> <td>38                             </td> <td>1                               </td> <td>0                                </td> <td>0              </td> <td>0                       </td> <td>29                  </td> <td>0               </td> <td>0                    </td> <td>0                    </td> <td>0                     </td> <td>0                     </td> <td>0                   </td> <td>0                </td> <td>0                  </td> <td>0                              </td> <td>0                                   </td> <td>0            </td> <td>0        </td> <td>0          </td> <td>0             </td> <td>0            </td> <td>0                </td> <td>0                                  </td> <td>0         </td> <td>1                             </td> <td>0                      </td> <td>192                       </td> <td>40           </td> <td>0                   </td> <td>0             </td> <td>0                 </td> <td>0                            </td> <td>0                            </td> <td>0                          </td> <td>0                          </td> <td>6                                    </td> <td>0          </td> <td>0                         </td> <td>0                     </td> <td>17                          </td> <td>10                         </td> <td>0                                       </td> <td>0                                      </td> <td>0                      </td> <td>0                 </td> <td>0                    </td> <td>0                                </td> <td>0                      </td> <td>0               </td> <td>0                  </td> <td>0                              </td> <td>0                     </td> <td>0                       </td> <td>0              </td> <td>0            </td> <td>0                       </td> <td>0                </td> <td>0                                            </td> <td>0              </td> <td>57                    </td> <td>0                   </td> <td>0                                            </td>\n",
       "        </tr>\n",
       "        <tr>\n",
       "            <td>Castro Street and El Camino Real</td> <td>0            </td> <td>0                </td> <td>0              </td> <td>0            </td> <td>0               </td> <td>0                       </td> <td>0              </td> <td>0                        </td> <td>0                              </td> <td>30                              </td> <td>0                                </td> <td>0              </td> <td>0                       </td> <td>0                   </td> <td>0               </td> <td>0                    </td> <td>0                    </td> <td>0                     </td> <td>0                     </td> <td>14                  </td> <td>0                </td> <td>0                  </td> <td>0                              </td> <td>0                                   </td> <td>0            </td> <td>0        </td> <td>0          </td> <td>0             </td> <td>0            </td> <td>0                </td> <td>0                                  </td> <td>0         </td> <td>931                           </td> <td>34                     </td> <td>0                         </td> <td>0            </td> <td>0                   </td> <td>0             </td> <td>0                 </td> <td>0                            </td> <td>0                            </td> <td>0                          </td> <td>0                          </td> <td>7                                    </td> <td>0          </td> <td>0                         </td> <td>0                     </td> <td>4                           </td> <td>12                         </td> <td>0                                       </td> <td>0                                      </td> <td>0                      </td> <td>0                 </td> <td>0                    </td> <td>0                                </td> <td>0                      </td> <td>0               </td> <td>0                  </td> <td>0                              </td> <td>0                     </td> <td>0                       </td> <td>0              </td> <td>0            </td> <td>0                       </td> <td>0                </td> <td>0                                            </td> <td>0              </td> <td>0                     </td> <td>0                   </td> <td>0                                            </td>\n",
       "        </tr>\n",
       "    </tbody>\n",
       "</table>\n",
       "<p>... (60 rows omitted)</p>"
      ],
      "text/plain": [
       "End Station                      | 2nd at Folsom | 2nd at South Park | 2nd at Townsend | 5th at Howard | Adobe on Almaden | Arena Green / SAP Center | Beale at Market | Broadway St at Battery St | California Ave Caltrain Station | Castro Street and El Camino Real | Civic Center BART (7th at Market) | Clay at Battery | Commercial at Montgomery | Cowper at University | Davis at Jackson | Embarcadero at Bryant | Embarcadero at Folsom | Embarcadero at Sansome | Embarcadero at Vallejo | Evelyn Park and Ride | Franklin at Maple | Golden Gate at Polk | Grant Avenue at Columbus Avenue | Harry Bridges Plaza (Ferry Building) | Howard at 2nd | Japantown | MLK Library | Market at 10th | Market at 4th | Market at Sansome | Mechanics Plaza (Market at Battery) | Mezes Park | Mountain View Caltrain Station | Mountain View City Hall | Palo Alto Caltrain Station | Park at Olive | Paseo de San Antonio | Post at Kearny | Powell Street BART | Powell at Post (Union Square) | Redwood City Caltrain Station | Redwood City Medical Center | Redwood City Public Library | Rengstorff Avenue / California Street | Ryland Park | SJSU - San Salvador at 9th | SJSU 4th at San Carlos | San Antonio Caltrain Station | San Antonio Shopping Center | San Francisco Caltrain (Townsend at 4th) | San Francisco Caltrain 2 (330 Townsend) | San Francisco City Hall | San Jose City Hall | San Jose Civic Center | San Jose Diridon Caltrain Station | San Mateo County Center | San Pedro Square | San Salvador at 1st | Santa Clara County Civic Center | Santa Clara at Almaden | South Van Ness at Market | Spear at Folsom | St James Park | Stanford in Redwood City | Steuart at Market | Temporary Transbay Terminal (Howard at Beale) | Townsend at 7th | University and Emerson | Washington at Kearny | Yerba Buena Center of the Arts (3rd @ Howard)\n",
       "2nd at Folsom                    | 54            | 190               | 554             | 107           | 0                | 0                        | 40              | 21                        | 0                               | 0                                | 44                                | 78              | 54                       | 0                    | 9                | 77                    | 32                    | 41                     | 14                     | 0                    | 0                 | 11                  | 30                              | 416                                  | 53            | 0         | 0           | 169            | 114           | 302               | 33                                  | 0          | 0                              | 0                       | 0                          | 0             | 0                    | 60             | 121                | 88                            | 0                             | 0                           | 0                           | 0                                     | 0           | 0                          | 0                      | 0                            | 0                           | 694                                      | 445                                     | 21                      | 0                  | 0                     | 0                                 | 0                       | 0                | 0                   | 0                               | 0                      | 38                       | 57              | 0             | 0                        | 39                | 237                                           | 342             | 0                      | 17                   | 31\n",
       "2nd at South Park                | 295           | 164               | 71              | 180           | 0                | 0                        | 208             | 85                        | 0                               | 0                                | 112                               | 87              | 160                      | 0                    | 37               | 56                    | 178                   | 83                     | 116                    | 0                    | 0                 | 57                  | 73                              | 574                                  | 500           | 0         | 0           | 139            | 199           | 1633              | 119                                 | 0          | 0                              | 0                       | 0                          | 0             | 0                    | 299            | 84                 | 113                           | 0                             | 0                           | 0                           | 0                                     | 0           | 0                          | 0                      | 0                            | 0                           | 559                                      | 480                                     | 48                      | 0                  | 0                     | 0                                 | 0                       | 0                | 0                   | 0                               | 0                      | 66                       | 152             | 0             | 0                        | 374               | 429                                           | 143             | 0                      | 63                   | 209\n",
       "2nd at Townsend                  | 437           | 151               | 185             | 92            | 0                | 0                        | 608             | 350                       | 0                               | 0                                | 80                                | 329             | 168                      | 0                    | 386              | 361                   | 658                   | 506                    | 254                    | 0                    | 0                 | 27                  | 315                             | 2607                                 | 295           | 0         | 0           | 110            | 225           | 845               | 177                                 | 0          | 0                              | 0                       | 0                          | 0             | 0                    | 120            | 100                | 141                           | 0                             | 0                           | 0                           | 0                                     | 0           | 0                          | 0                      | 0                            | 0                           | 905                                      | 299                                     | 14                      | 0                  | 0                     | 0                                 | 0                       | 0                | 0                   | 0                               | 0                      | 72                       | 508             | 0             | 0                        | 2349              | 784                                           | 417             | 0                      | 57                   | 166\n",
       "5th at Howard                    | 113           | 177               | 148             | 83            | 0                | 0                        | 59              | 130                       | 0                               | 0                                | 203                               | 76              | 129                      | 0                    | 30               | 57                    | 49                    | 166                    | 54                     | 0                    | 0                 | 85                  | 78                              | 371                                  | 478           | 0         | 0           | 303            | 158           | 168               | 90                                  | 0          | 0                              | 0                       | 0                          | 0             | 0                    | 93             | 183                | 169                           | 0                             | 0                           | 0                           | 0                                     | 0           | 0                          | 0                      | 0                            | 0                           | 690                                      | 1859                                    | 48                      | 0                  | 0                     | 0                                 | 0                       | 0                | 0                   | 0                               | 0                      | 116                      | 102             | 0             | 0                        | 182               | 750                                           | 200             | 0                      | 43                   | 267\n",
       "Adobe on Almaden                 | 0             | 0                 | 0               | 0             | 11               | 4                        | 0               | 0                         | 0                               | 0                                | 0                                 | 0               | 0                        | 0                    | 0                | 0                     | 0                     | 0                      | 0                      | 0                    | 0                 | 0                   | 0                               | 0                                    | 0             | 17        | 7           | 0              | 0             | 0                 | 0                                   | 0          | 0                              | 0                       | 0                          | 0             | 25                   | 0              | 0                  | 0                             | 0                             | 0                           | 0                           | 0                                     | 7           | 7                          | 16                     | 0                            | 0                           | 0                                        | 0                                       | 0                       | 19                 | 23                    | 265                               | 0                       | 20               | 4                   | 5                               | 10                     | 0                        | 0               | 14            | 0                        | 0                 | 0                                             | 0               | 0                      | 0                    | 0\n",
       "Arena Green / SAP Center         | 0             | 0                 | 0               | 0             | 7                | 64                       | 0               | 0                         | 0                               | 0                                | 0                                 | 0               | 0                        | 0                    | 0                | 0                     | 0                     | 0                      | 0                      | 0                    | 0                 | 0                   | 0                               | 0                                    | 0             | 16        | 5           | 0              | 0             | 0                 | 0                                   | 0          | 0                              | 0                       | 0                          | 0             | 21                   | 0              | 0                  | 0                             | 0                             | 0                           | 0                           | 0                                     | 24          | 3                          | 7                      | 0                            | 0                           | 0                                        | 0                                       | 0                       | 6                  | 20                    | 7                                 | 0                       | 56               | 12                  | 38                              | 259                    | 0                        | 0               | 13            | 0                        | 0                 | 0                                             | 0               | 0                      | 0                    | 0\n",
       "Beale at Market                  | 127           | 79                | 183             | 59            | 0                | 0                        | 59              | 661                       | 0                               | 0                                | 201                               | 75              | 101                      | 0                    | 247              | 178                   | 38                    | 590                    | 165                    | 0                    | 0                 | 54                  | 435                             | 57                                   | 72            | 0         | 0           | 286            | 236           | 163               | 26                                  | 0          | 0                              | 0                       | 0                          | 0             | 0                    | 49             | 227                | 179                           | 0                             | 0                           | 0                           | 0                                     | 0           | 0                          | 0                      | 0                            | 0                           | 640                                      | 269                                     | 25                      | 0                  | 0                     | 0                                 | 0                       | 0                | 0                   | 0                               | 0                      | 243                      | 128             | 0             | 0                        | 16                | 167                                           | 35              | 0                      | 64                   | 45\n",
       "Broadway St at Battery St        | 67            | 89                | 279             | 119           | 0                | 0                        | 1022            | 110                       | 0                               | 0                                | 62                                | 283             | 226                      | 0                    | 191              | 198                   | 79                    | 231                    | 35                     | 0                    | 0                 | 5                   | 70                              | 168                                  | 49            | 0         | 0           | 32             | 97            | 341               | 214                                 | 0          | 0                              | 0                       | 0                          | 0             | 0                    | 169            | 71                 | 218                           | 0                             | 0                           | 0                           | 0                                     | 0           | 0                          | 0                      | 0                            | 0                           | 685                                      | 438                                     | 7                       | 0                  | 0                     | 0                                 | 0                       | 0                | 0                   | 0                               | 0                      | 18                       | 106             | 0             | 0                        | 344               | 748                                           | 50              | 0                      | 79                   | 47\n",
       "California Ave Caltrain Station  | 0             | 0                 | 0               | 0             | 0                | 0                        | 0               | 0                         | 38                              | 1                                | 0                                 | 0               | 0                        | 29                   | 0                | 0                     | 0                     | 0                      | 0                      | 0                    | 0                 | 0                   | 0                               | 0                                    | 0             | 0         | 0           | 0              | 0             | 0                 | 0                                   | 0          | 1                              | 0                       | 192                        | 40            | 0                    | 0              | 0                  | 0                             | 0                             | 0                           | 0                           | 6                                     | 0           | 0                          | 0                      | 17                           | 10                          | 0                                        | 0                                       | 0                       | 0                  | 0                     | 0                                 | 0                       | 0                | 0                   | 0                               | 0                      | 0                        | 0               | 0             | 0                        | 0                 | 0                                             | 0               | 57                     | 0                    | 0\n",
       "Castro Street and El Camino Real | 0             | 0                 | 0               | 0             | 0                | 0                        | 0               | 0                         | 0                               | 30                               | 0                                 | 0               | 0                        | 0                    | 0                | 0                     | 0                     | 0                      | 0                      | 14                   | 0                 | 0                   | 0                               | 0                                    | 0             | 0         | 0           | 0              | 0             | 0                 | 0                                   | 0          | 931                            | 34                      | 0                          | 0             | 0                    | 0              | 0                  | 0                             | 0                             | 0                           | 0                           | 7                                     | 0           | 0                          | 0                      | 4                            | 12                          | 0                                        | 0                                       | 0                       | 0                  | 0                     | 0                                 | 0                       | 0                | 0                   | 0                               | 0                      | 0                        | 0               | 0             | 0                        | 0                 | 0                                             | 0               | 0                      | 0                    | 0\n",
       "... (60 rows omitted)"
      ]
     },
     "execution_count": 33,
     "metadata": {},
     "output_type": "execute_result"
    }
   ],
   "source": [
    "commute.pivot('Start Station', 'End Station')"
   ]
  },
  {
   "cell_type": "code",
   "execution_count": 35,
   "id": "c214bdd8",
   "metadata": {},
   "outputs": [
    {
     "data": {
      "text/html": [
       "<table border=\"1\" class=\"dataframe\">\n",
       "    <thead>\n",
       "        <tr>\n",
       "            <th>End Station</th> <th>2nd at Folsom</th> <th>2nd at South Park</th> <th>2nd at Townsend</th> <th>5th at Howard</th> <th>Adobe on Almaden</th> <th>Arena Green / SAP Center</th> <th>Beale at Market</th> <th>Broadway St at Battery St</th> <th>California Ave Caltrain Station</th> <th>Castro Street and El Camino Real</th> <th>Civic Center BART (7th at Market)</th> <th>Clay at Battery</th> <th>Commercial at Montgomery</th> <th>Cowper at University</th> <th>Davis at Jackson</th> <th>Embarcadero at Bryant</th> <th>Embarcadero at Folsom</th> <th>Embarcadero at Sansome</th> <th>Embarcadero at Vallejo</th> <th>Evelyn Park and Ride</th> <th>Franklin at Maple</th> <th>Golden Gate at Polk</th> <th>Grant Avenue at Columbus Avenue</th> <th>Harry Bridges Plaza (Ferry Building)</th> <th>Howard at 2nd</th> <th>Japantown</th> <th>MLK Library</th> <th>Market at 10th</th> <th>Market at 4th</th> <th>Market at Sansome</th> <th>Mechanics Plaza (Market at Battery)</th> <th>Mezes Park</th> <th>Mountain View Caltrain Station</th> <th>Mountain View City Hall</th> <th>Palo Alto Caltrain Station</th> <th>Park at Olive</th> <th>Paseo de San Antonio</th> <th>Post at Kearny</th> <th>Powell Street BART</th> <th>Powell at Post (Union Square)</th> <th>Redwood City Caltrain Station</th> <th>Redwood City Medical Center</th> <th>Redwood City Public Library</th> <th>Rengstorff Avenue / California Street</th> <th>Ryland Park</th> <th>SJSU - San Salvador at 9th</th> <th>SJSU 4th at San Carlos</th> <th>San Antonio Caltrain Station</th> <th>San Antonio Shopping Center</th> <th>San Francisco Caltrain (Townsend at 4th)</th> <th>San Francisco Caltrain 2 (330 Townsend)</th> <th>San Francisco City Hall</th> <th>San Jose City Hall</th> <th>San Jose Civic Center</th> <th>San Jose Diridon Caltrain Station</th> <th>San Mateo County Center</th> <th>San Pedro Square</th> <th>San Salvador at 1st</th> <th>Santa Clara County Civic Center</th> <th>Santa Clara at Almaden</th> <th>South Van Ness at Market</th> <th>Spear at Folsom</th> <th>St James Park</th> <th>Stanford in Redwood City</th> <th>Steuart at Market</th> <th>Temporary Transbay Terminal (Howard at Beale)</th> <th>Townsend at 7th</th> <th>University and Emerson</th> <th>Washington at Kearny</th> <th>Yerba Buena Center of the Arts (3rd @ Howard)</th>\n",
       "        </tr>\n",
       "    </thead>\n",
       "    <tbody>\n",
       "        <tr>\n",
       "            <td>2nd at Folsom                   </td> <td>61           </td> <td>97               </td> <td>164            </td> <td>268          </td> <td>0               </td> <td>0                       </td> <td>271            </td> <td>407                      </td> <td>0                              </td> <td>0                               </td> <td>483                              </td> <td>329            </td> <td>306                     </td> <td>0                   </td> <td>494             </td> <td>239                  </td> <td>262                  </td> <td>687                   </td> <td>599                   </td> <td>0                   </td> <td>0                </td> <td>639                </td> <td>416                            </td> <td>282                                 </td> <td>80           </td> <td>0        </td> <td>0          </td> <td>506           </td> <td>237          </td> <td>167              </td> <td>250                                </td> <td>0         </td> <td>0                             </td> <td>0                      </td> <td>0                         </td> <td>0            </td> <td>0                   </td> <td>208           </td> <td>264               </td> <td>290                          </td> <td>0                            </td> <td>0                          </td> <td>0                          </td> <td>0                                    </td> <td>0          </td> <td>0                         </td> <td>0                     </td> <td>0                           </td> <td>0                          </td> <td>300                                     </td> <td>303                                    </td> <td>584                    </td> <td>0                 </td> <td>0                    </td> <td>0                                </td> <td>0                      </td> <td>0               </td> <td>0                  </td> <td>0                              </td> <td>0                     </td> <td>590                     </td> <td>208            </td> <td>0            </td> <td>0                       </td> <td>318              </td> <td>149                                          </td> <td>448            </td> <td>0                     </td> <td>429                 </td> <td>165                                          </td>\n",
       "        </tr>\n",
       "        <tr>\n",
       "            <td>2nd at South Park               </td> <td>61           </td> <td>60               </td> <td>77             </td> <td>86           </td> <td>0               </td> <td>0                       </td> <td>78             </td> <td>345                      </td> <td>0                              </td> <td>0                               </td> <td>290                              </td> <td>188            </td> <td>171                     </td> <td>0                   </td> <td>357             </td> <td>104                  </td> <td>81                   </td> <td>490                   </td> <td>341                   </td> <td>0                   </td> <td>0                </td> <td>369                </td> <td>278                            </td> <td>122                                 </td> <td>60           </td> <td>0        </td> <td>0          </td> <td>416           </td> <td>142          </td> <td>61               </td> <td>68                                 </td> <td>0         </td> <td>0                             </td> <td>0                      </td> <td>0                         </td> <td>0            </td> <td>0                   </td> <td>60            </td> <td>237               </td> <td>106                          </td> <td>0                            </td> <td>0                          </td> <td>0                          </td> <td>0                                    </td> <td>0          </td> <td>0                         </td> <td>0                     </td> <td>0                           </td> <td>0                          </td> <td>63                                      </td> <td>66                                     </td> <td>458                    </td> <td>0                 </td> <td>0                    </td> <td>0                                </td> <td>0                      </td> <td>0               </td> <td>0                  </td> <td>0                              </td> <td>0                     </td> <td>399                     </td> <td>63             </td> <td>0            </td> <td>0                       </td> <td>79               </td> <td>61                                           </td> <td>78             </td> <td>0                     </td> <td>270                 </td> <td>96                                           </td>\n",
       "        </tr>\n",
       "        <tr>\n",
       "            <td>2nd at Townsend                 </td> <td>137          </td> <td>67               </td> <td>60             </td> <td>423          </td> <td>0               </td> <td>0                       </td> <td>311            </td> <td>469                      </td> <td>0                              </td> <td>0                               </td> <td>546                              </td> <td>520            </td> <td>474                     </td> <td>0                   </td> <td>436             </td> <td>145                  </td> <td>232                  </td> <td>509                   </td> <td>494                   </td> <td>0                   </td> <td>0                </td> <td>773                </td> <td>549                            </td> <td>325                                 </td> <td>221          </td> <td>0        </td> <td>0          </td> <td>667           </td> <td>367          </td> <td>265              </td> <td>395                                </td> <td>0         </td> <td>0                             </td> <td>0                      </td> <td>0                         </td> <td>0            </td> <td>0                   </td> <td>319           </td> <td>455               </td> <td>398                          </td> <td>0                            </td> <td>0                          </td> <td>0                          </td> <td>0                                    </td> <td>0          </td> <td>0                         </td> <td>0                     </td> <td>0                           </td> <td>0                          </td> <td>125                                     </td> <td>133                                    </td> <td>742                    </td> <td>0                 </td> <td>0                    </td> <td>0                                </td> <td>0                      </td> <td>0               </td> <td>0                  </td> <td>0                              </td> <td>0                     </td> <td>777                     </td> <td>241            </td> <td>0            </td> <td>0                       </td> <td>291              </td> <td>249                                          </td> <td>259            </td> <td>0                     </td> <td>610                 </td> <td>284                                          </td>\n",
       "        </tr>\n",
       "        <tr>\n",
       "            <td>5th at Howard                   </td> <td>215          </td> <td>300              </td> <td>384            </td> <td>68           </td> <td>0               </td> <td>0                       </td> <td>357            </td> <td>530                      </td> <td>0                              </td> <td>0                               </td> <td>179                              </td> <td>412            </td> <td>364                     </td> <td>0                   </td> <td>543             </td> <td>419                  </td> <td>359                  </td> <td>695                   </td> <td>609                   </td> <td>0                   </td> <td>0                </td> <td>235                </td> <td>474                            </td> <td>453                                 </td> <td>145          </td> <td>0        </td> <td>0          </td> <td>269           </td> <td>161          </td> <td>250              </td> <td>306                                </td> <td>0         </td> <td>0                             </td> <td>0                      </td> <td>0                         </td> <td>0            </td> <td>0                   </td> <td>234           </td> <td>89                </td> <td>202                          </td> <td>0                            </td> <td>0                          </td> <td>0                          </td> <td>0                                    </td> <td>0          </td> <td>0                         </td> <td>0                     </td> <td>0                           </td> <td>0                          </td> <td>256                                     </td> <td>221                                    </td> <td>347                    </td> <td>0                 </td> <td>0                    </td> <td>0                                </td> <td>0                      </td> <td>0               </td> <td>0                  </td> <td>0                              </td> <td>0                     </td> <td>375                     </td> <td>402            </td> <td>0            </td> <td>0                       </td> <td>455              </td> <td>265                                          </td> <td>357            </td> <td>0                     </td> <td>553                 </td> <td>109                                          </td>\n",
       "        </tr>\n",
       "        <tr>\n",
       "            <td>Adobe on Almaden                </td> <td>0            </td> <td>0                </td> <td>0              </td> <td>0            </td> <td>84              </td> <td>275                     </td> <td>0              </td> <td>0                        </td> <td>0                              </td> <td>0                               </td> <td>0                                </td> <td>0              </td> <td>0                       </td> <td>0                   </td> <td>0               </td> <td>0                    </td> <td>0                    </td> <td>0                     </td> <td>0                     </td> <td>0                   </td> <td>0                </td> <td>0                  </td> <td>0                              </td> <td>0                                   </td> <td>0            </td> <td>701      </td> <td>387        </td> <td>0             </td> <td>0            </td> <td>0                </td> <td>0                                  </td> <td>0         </td> <td>0                             </td> <td>0                      </td> <td>0                         </td> <td>0            </td> <td>229                 </td> <td>0             </td> <td>0                 </td> <td>0                            </td> <td>0                            </td> <td>0                          </td> <td>0                          </td> <td>0                                    </td> <td>441        </td> <td>452                       </td> <td>318                   </td> <td>0                           </td> <td>0                          </td> <td>0                                       </td> <td>0                                      </td> <td>0                      </td> <td>309               </td> <td>146                  </td> <td>182                              </td> <td>0                      </td> <td>207             </td> <td>358                </td> <td>876                            </td> <td>101                   </td> <td>0                       </td> <td>0              </td> <td>369          </td> <td>0                       </td> <td>0                </td> <td>0                                            </td> <td>0              </td> <td>0                     </td> <td>0                   </td> <td>0                                            </td>\n",
       "        </tr>\n",
       "        <tr>\n",
       "            <td>Arena Green / SAP Center        </td> <td>0            </td> <td>0                </td> <td>0              </td> <td>0            </td> <td>305             </td> <td>62                      </td> <td>0              </td> <td>0                        </td> <td>0                              </td> <td>0                               </td> <td>0                                </td> <td>0              </td> <td>0                       </td> <td>0                   </td> <td>0               </td> <td>0                    </td> <td>0                    </td> <td>0                     </td> <td>0                     </td> <td>0                   </td> <td>0                </td> <td>0                  </td> <td>0                              </td> <td>0                                   </td> <td>0            </td> <td>526      </td> <td>546        </td> <td>0             </td> <td>0            </td> <td>0                </td> <td>0                                  </td> <td>0         </td> <td>0                             </td> <td>0                      </td> <td>0                         </td> <td>0            </td> <td>403                 </td> <td>0             </td> <td>0                 </td> <td>0                            </td> <td>0                            </td> <td>0                          </td> <td>0                          </td> <td>0                                    </td> <td>288        </td> <td>875                       </td> <td>685                   </td> <td>0                           </td> <td>0                          </td> <td>0                                       </td> <td>0                                      </td> <td>0                      </td> <td>440               </td> <td>420                  </td> <td>153                              </td> <td>0                      </td> <td>166             </td> <td>624                </td> <td>759                            </td> <td>116                   </td> <td>0                       </td> <td>0              </td> <td>301          </td> <td>0                       </td> <td>0                </td> <td>0                                            </td> <td>0              </td> <td>0                     </td> <td>0                   </td> <td>0                                            </td>\n",
       "        </tr>\n",
       "        <tr>\n",
       "            <td>Beale at Market                 </td> <td>219          </td> <td>343              </td> <td>417            </td> <td>387          </td> <td>0               </td> <td>0                       </td> <td>60             </td> <td>155                      </td> <td>0                              </td> <td>0                               </td> <td>343                              </td> <td>122            </td> <td>153                     </td> <td>0                   </td> <td>115             </td> <td>216                  </td> <td>170                  </td> <td>303                   </td> <td>198                   </td> <td>0                   </td> <td>0                </td> <td>437                </td> <td>235                            </td> <td>149                                 </td> <td>204          </td> <td>0        </td> <td>0          </td> <td>535           </td> <td>203          </td> <td>88               </td> <td>72                                 </td> <td>0         </td> <td>0                             </td> <td>0                      </td> <td>0                         </td> <td>0            </td> <td>0                   </td> <td>191           </td> <td>316               </td> <td>191                          </td> <td>0                            </td> <td>0                          </td> <td>0                          </td> <td>0                                    </td> <td>0          </td> <td>0                         </td> <td>0                     </td> <td>0                           </td> <td>0                          </td> <td>499                                     </td> <td>395                                    </td> <td>526                    </td> <td>0                 </td> <td>0                    </td> <td>0                                </td> <td>0                      </td> <td>0               </td> <td>0                  </td> <td>0                              </td> <td>0                     </td> <td>575                     </td> <td>173            </td> <td>0            </td> <td>0                       </td> <td>87               </td> <td>94                                           </td> <td>619            </td> <td>0                     </td> <td>222                 </td> <td>264                                          </td>\n",
       "        </tr>\n",
       "        <tr>\n",
       "            <td>Broadway St at Battery St       </td> <td>351          </td> <td>424              </td> <td>499            </td> <td>555          </td> <td>0               </td> <td>0                       </td> <td>195            </td> <td>62                       </td> <td>0                              </td> <td>0                               </td> <td>520                              </td> <td>90             </td> <td>129                     </td> <td>0                   </td> <td>70              </td> <td>340                  </td> <td>284                  </td> <td>128                   </td> <td>101                   </td> <td>0                   </td> <td>0                </td> <td>961                </td> <td>148                            </td> <td>168                                 </td> <td>357          </td> <td>0        </td> <td>0          </td> <td>652           </td> <td>351          </td> <td>218              </td> <td>221                                </td> <td>0         </td> <td>0                             </td> <td>0                      </td> <td>0                         </td> <td>0            </td> <td>0                   </td> <td>255           </td> <td>376               </td> <td>316                          </td> <td>0                            </td> <td>0                          </td> <td>0                          </td> <td>0                                    </td> <td>0          </td> <td>0                         </td> <td>0                     </td> <td>0                           </td> <td>0                          </td> <td>611                                     </td> <td>599                                    </td> <td>799                    </td> <td>0                 </td> <td>0                    </td> <td>0                                </td> <td>0                      </td> <td>0               </td> <td>0                  </td> <td>0                              </td> <td>0                     </td> <td>738                     </td> <td>336            </td> <td>0            </td> <td>0                       </td> <td>169              </td> <td>291                                          </td> <td>885            </td> <td>0                     </td> <td>134                 </td> <td>411                                          </td>\n",
       "        </tr>\n",
       "        <tr>\n",
       "            <td>California Ave Caltrain Station </td> <td>0            </td> <td>0                </td> <td>0              </td> <td>0            </td> <td>0               </td> <td>0                       </td> <td>0              </td> <td>0                        </td> <td>82                             </td> <td>1645                            </td> <td>0                                </td> <td>0              </td> <td>0                       </td> <td>628                 </td> <td>0               </td> <td>0                    </td> <td>0                    </td> <td>0                     </td> <td>0                     </td> <td>0                   </td> <td>0                </td> <td>0                  </td> <td>0                              </td> <td>0                                   </td> <td>0            </td> <td>0        </td> <td>0          </td> <td>0             </td> <td>0            </td> <td>0                </td> <td>0                                  </td> <td>0         </td> <td>1771                          </td> <td>0                      </td> <td>484                       </td> <td>131          </td> <td>0                   </td> <td>0             </td> <td>0                 </td> <td>0                            </td> <td>0                            </td> <td>0                          </td> <td>0                          </td> <td>1077                                 </td> <td>0          </td> <td>0                         </td> <td>0                     </td> <td>870                         </td> <td>911                        </td> <td>0                                       </td> <td>0                                      </td> <td>0                      </td> <td>0                 </td> <td>0                    </td> <td>0                                </td> <td>0                      </td> <td>0               </td> <td>0                  </td> <td>0                              </td> <td>0                     </td> <td>0                       </td> <td>0              </td> <td>0            </td> <td>0                       </td> <td>0                </td> <td>0                                            </td> <td>0              </td> <td>531                   </td> <td>0                   </td> <td>0                                            </td>\n",
       "        </tr>\n",
       "        <tr>\n",
       "            <td>Castro Street and El Camino Real</td> <td>0            </td> <td>0                </td> <td>0              </td> <td>0            </td> <td>0               </td> <td>0                       </td> <td>0              </td> <td>0                        </td> <td>0                              </td> <td>74                              </td> <td>0                                </td> <td>0              </td> <td>0                       </td> <td>0                   </td> <td>0               </td> <td>0                    </td> <td>0                    </td> <td>0                     </td> <td>0                     </td> <td>499                 </td> <td>0                </td> <td>0                  </td> <td>0                              </td> <td>0                                   </td> <td>0            </td> <td>0        </td> <td>0          </td> <td>0             </td> <td>0            </td> <td>0                </td> <td>0                                  </td> <td>0         </td> <td>201                           </td> <td>108                    </td> <td>0                         </td> <td>0            </td> <td>0                   </td> <td>0             </td> <td>0                 </td> <td>0                            </td> <td>0                            </td> <td>0                          </td> <td>0                          </td> <td>654                                  </td> <td>0          </td> <td>0                         </td> <td>0                     </td> <td>953                         </td> <td>696                        </td> <td>0                                       </td> <td>0                                      </td> <td>0                      </td> <td>0                 </td> <td>0                    </td> <td>0                                </td> <td>0                      </td> <td>0               </td> <td>0                  </td> <td>0                              </td> <td>0                     </td> <td>0                       </td> <td>0              </td> <td>0            </td> <td>0                       </td> <td>0                </td> <td>0                                            </td> <td>0              </td> <td>0                     </td> <td>0                   </td> <td>0                                            </td>\n",
       "        </tr>\n",
       "    </tbody>\n",
       "</table>\n",
       "<p>... (60 rows omitted)</p>"
      ],
      "text/plain": [
       "End Station                      | 2nd at Folsom | 2nd at South Park | 2nd at Townsend | 5th at Howard | Adobe on Almaden | Arena Green / SAP Center | Beale at Market | Broadway St at Battery St | California Ave Caltrain Station | Castro Street and El Camino Real | Civic Center BART (7th at Market) | Clay at Battery | Commercial at Montgomery | Cowper at University | Davis at Jackson | Embarcadero at Bryant | Embarcadero at Folsom | Embarcadero at Sansome | Embarcadero at Vallejo | Evelyn Park and Ride | Franklin at Maple | Golden Gate at Polk | Grant Avenue at Columbus Avenue | Harry Bridges Plaza (Ferry Building) | Howard at 2nd | Japantown | MLK Library | Market at 10th | Market at 4th | Market at Sansome | Mechanics Plaza (Market at Battery) | Mezes Park | Mountain View Caltrain Station | Mountain View City Hall | Palo Alto Caltrain Station | Park at Olive | Paseo de San Antonio | Post at Kearny | Powell Street BART | Powell at Post (Union Square) | Redwood City Caltrain Station | Redwood City Medical Center | Redwood City Public Library | Rengstorff Avenue / California Street | Ryland Park | SJSU - San Salvador at 9th | SJSU 4th at San Carlos | San Antonio Caltrain Station | San Antonio Shopping Center | San Francisco Caltrain (Townsend at 4th) | San Francisco Caltrain 2 (330 Townsend) | San Francisco City Hall | San Jose City Hall | San Jose Civic Center | San Jose Diridon Caltrain Station | San Mateo County Center | San Pedro Square | San Salvador at 1st | Santa Clara County Civic Center | Santa Clara at Almaden | South Van Ness at Market | Spear at Folsom | St James Park | Stanford in Redwood City | Steuart at Market | Temporary Transbay Terminal (Howard at Beale) | Townsend at 7th | University and Emerson | Washington at Kearny | Yerba Buena Center of the Arts (3rd @ Howard)\n",
       "2nd at Folsom                    | 61            | 97                | 164             | 268           | 0                | 0                        | 271             | 407                       | 0                               | 0                                | 483                               | 329             | 306                      | 0                    | 494              | 239                   | 262                   | 687                    | 599                    | 0                    | 0                 | 639                 | 416                             | 282                                  | 80            | 0         | 0           | 506            | 237           | 167               | 250                                 | 0          | 0                              | 0                       | 0                          | 0             | 0                    | 208            | 264                | 290                           | 0                             | 0                           | 0                           | 0                                     | 0           | 0                          | 0                      | 0                            | 0                           | 300                                      | 303                                     | 584                     | 0                  | 0                     | 0                                 | 0                       | 0                | 0                   | 0                               | 0                      | 590                      | 208             | 0             | 0                        | 318               | 149                                           | 448             | 0                      | 429                  | 165\n",
       "2nd at South Park                | 61            | 60                | 77              | 86            | 0                | 0                        | 78              | 345                       | 0                               | 0                                | 290                               | 188             | 171                      | 0                    | 357              | 104                   | 81                    | 490                    | 341                    | 0                    | 0                 | 369                 | 278                             | 122                                  | 60            | 0         | 0           | 416            | 142           | 61                | 68                                  | 0          | 0                              | 0                       | 0                          | 0             | 0                    | 60             | 237                | 106                           | 0                             | 0                           | 0                           | 0                                     | 0           | 0                          | 0                      | 0                            | 0                           | 63                                       | 66                                      | 458                     | 0                  | 0                     | 0                                 | 0                       | 0                | 0                   | 0                               | 0                      | 399                      | 63              | 0             | 0                        | 79                | 61                                            | 78              | 0                      | 270                  | 96\n",
       "2nd at Townsend                  | 137           | 67                | 60              | 423           | 0                | 0                        | 311             | 469                       | 0                               | 0                                | 546                               | 520             | 474                      | 0                    | 436              | 145                   | 232                   | 509                    | 494                    | 0                    | 0                 | 773                 | 549                             | 325                                  | 221           | 0         | 0           | 667            | 367           | 265               | 395                                 | 0          | 0                              | 0                       | 0                          | 0             | 0                    | 319            | 455                | 398                           | 0                             | 0                           | 0                           | 0                                     | 0           | 0                          | 0                      | 0                            | 0                           | 125                                      | 133                                     | 742                     | 0                  | 0                     | 0                                 | 0                       | 0                | 0                   | 0                               | 0                      | 777                      | 241             | 0             | 0                        | 291               | 249                                           | 259             | 0                      | 610                  | 284\n",
       "5th at Howard                    | 215           | 300               | 384             | 68            | 0                | 0                        | 357             | 530                       | 0                               | 0                                | 179                               | 412             | 364                      | 0                    | 543              | 419                   | 359                   | 695                    | 609                    | 0                    | 0                 | 235                 | 474                             | 453                                  | 145           | 0         | 0           | 269            | 161           | 250               | 306                                 | 0          | 0                              | 0                       | 0                          | 0             | 0                    | 234            | 89                 | 202                           | 0                             | 0                           | 0                           | 0                                     | 0           | 0                          | 0                      | 0                            | 0                           | 256                                      | 221                                     | 347                     | 0                  | 0                     | 0                                 | 0                       | 0                | 0                   | 0                               | 0                      | 375                      | 402             | 0             | 0                        | 455               | 265                                           | 357             | 0                      | 553                  | 109\n",
       "Adobe on Almaden                 | 0             | 0                 | 0               | 0             | 84               | 275                      | 0               | 0                         | 0                               | 0                                | 0                                 | 0               | 0                        | 0                    | 0                | 0                     | 0                     | 0                      | 0                      | 0                    | 0                 | 0                   | 0                               | 0                                    | 0             | 701       | 387         | 0              | 0             | 0                 | 0                                   | 0          | 0                              | 0                       | 0                          | 0             | 229                  | 0              | 0                  | 0                             | 0                             | 0                           | 0                           | 0                                     | 441         | 452                        | 318                    | 0                            | 0                           | 0                                        | 0                                       | 0                       | 309                | 146                   | 182                               | 0                       | 207              | 358                 | 876                             | 101                    | 0                        | 0               | 369           | 0                        | 0                 | 0                                             | 0               | 0                      | 0                    | 0\n",
       "Arena Green / SAP Center         | 0             | 0                 | 0               | 0             | 305              | 62                       | 0               | 0                         | 0                               | 0                                | 0                                 | 0               | 0                        | 0                    | 0                | 0                     | 0                     | 0                      | 0                      | 0                    | 0                 | 0                   | 0                               | 0                                    | 0             | 526       | 546         | 0              | 0             | 0                 | 0                                   | 0          | 0                              | 0                       | 0                          | 0             | 403                  | 0              | 0                  | 0                             | 0                             | 0                           | 0                           | 0                                     | 288         | 875                        | 685                    | 0                            | 0                           | 0                                        | 0                                       | 0                       | 440                | 420                   | 153                               | 0                       | 166              | 624                 | 759                             | 116                    | 0                        | 0               | 301           | 0                        | 0                 | 0                                             | 0               | 0                      | 0                    | 0\n",
       "Beale at Market                  | 219           | 343               | 417             | 387           | 0                | 0                        | 60              | 155                       | 0                               | 0                                | 343                               | 122             | 153                      | 0                    | 115              | 216                   | 170                   | 303                    | 198                    | 0                    | 0                 | 437                 | 235                             | 149                                  | 204           | 0         | 0           | 535            | 203           | 88                | 72                                  | 0          | 0                              | 0                       | 0                          | 0             | 0                    | 191            | 316                | 191                           | 0                             | 0                           | 0                           | 0                                     | 0           | 0                          | 0                      | 0                            | 0                           | 499                                      | 395                                     | 526                     | 0                  | 0                     | 0                                 | 0                       | 0                | 0                   | 0                               | 0                      | 575                      | 173             | 0             | 0                        | 87                | 94                                            | 619             | 0                      | 222                  | 264\n",
       "Broadway St at Battery St        | 351           | 424               | 499             | 555           | 0                | 0                        | 195             | 62                        | 0                               | 0                                | 520                               | 90              | 129                      | 0                    | 70               | 340                   | 284                   | 128                    | 101                    | 0                    | 0                 | 961                 | 148                             | 168                                  | 357           | 0         | 0           | 652            | 351           | 218               | 221                                 | 0          | 0                              | 0                       | 0                          | 0             | 0                    | 255            | 376                | 316                           | 0                             | 0                           | 0                           | 0                                     | 0           | 0                          | 0                      | 0                            | 0                           | 611                                      | 599                                     | 799                     | 0                  | 0                     | 0                                 | 0                       | 0                | 0                   | 0                               | 0                      | 738                      | 336             | 0             | 0                        | 169               | 291                                           | 885             | 0                      | 134                  | 411\n",
       "California Ave Caltrain Station  | 0             | 0                 | 0               | 0             | 0                | 0                        | 0               | 0                         | 82                              | 1645                             | 0                                 | 0               | 0                        | 628                  | 0                | 0                     | 0                     | 0                      | 0                      | 0                    | 0                 | 0                   | 0                               | 0                                    | 0             | 0         | 0           | 0              | 0             | 0                 | 0                                   | 0          | 1771                           | 0                       | 484                        | 131           | 0                    | 0              | 0                  | 0                             | 0                             | 0                           | 0                           | 1077                                  | 0           | 0                          | 0                      | 870                          | 911                         | 0                                        | 0                                       | 0                       | 0                  | 0                     | 0                                 | 0                       | 0                | 0                   | 0                               | 0                      | 0                        | 0               | 0             | 0                        | 0                 | 0                                             | 0               | 531                    | 0                    | 0\n",
       "Castro Street and El Camino Real | 0             | 0                 | 0               | 0             | 0                | 0                        | 0               | 0                         | 0                               | 74                               | 0                                 | 0               | 0                        | 0                    | 0                | 0                     | 0                     | 0                      | 0                      | 499                  | 0                 | 0                   | 0                               | 0                                    | 0             | 0         | 0           | 0              | 0             | 0                 | 0                                   | 0          | 201                            | 108                     | 0                          | 0             | 0                    | 0              | 0                  | 0                             | 0                             | 0                           | 0                           | 654                                   | 0           | 0                          | 0                      | 953                          | 696                         | 0                                        | 0                                       | 0                       | 0                  | 0                     | 0                                 | 0                       | 0                | 0                   | 0                               | 0                      | 0                        | 0               | 0             | 0                        | 0                 | 0                                             | 0               | 0                      | 0                    | 0\n",
       "... (60 rows omitted)"
      ]
     },
     "execution_count": 35,
     "metadata": {},
     "output_type": "execute_result"
    }
   ],
   "source": [
    "commute.pivot('Start Station', 'End Station', 'Duration', min)"
   ]
  },
  {
   "cell_type": "markdown",
   "id": "469e4a03",
   "metadata": {},
   "source": [
    "시작 station에서 끝 station으로 가는 최단 시간을 구할 수 있다."
   ]
  }
 ],
 "metadata": {
  "kernelspec": {
   "display_name": "base",
   "language": "python",
   "name": "python3"
  },
  "language_info": {
   "codemirror_mode": {
    "name": "ipython",
    "version": 3
   },
   "file_extension": ".py",
   "mimetype": "text/x-python",
   "name": "python",
   "nbconvert_exporter": "python",
   "pygments_lexer": "ipython3",
   "version": "3.12.7"
  }
 },
 "nbformat": 4,
 "nbformat_minor": 5
}
