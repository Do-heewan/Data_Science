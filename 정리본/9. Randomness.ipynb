{
 "cells": [
  {
   "cell_type": "code",
   "execution_count": 1,
   "id": "e5fe33ad",
   "metadata": {},
   "outputs": [],
   "source": [
    "from datascience import *\n",
    "path_data = '../assets/data/'\n",
    "import numpy as np\n",
    "\n",
    "import matplotlib\n",
    "matplotlib.use('Agg')\n",
    "%matplotlib inline\n",
    "import matplotlib.pyplot as plots\n",
    "plots.style.use('fivethirtyeight')"
   ]
  },
  {
   "cell_type": "markdown",
   "id": "111b492a",
   "metadata": {},
   "source": [
    "# 9.0 Randomness"
   ]
  },
  {
   "cell_type": "code",
   "execution_count": 2,
   "id": "55d28940",
   "metadata": {},
   "outputs": [
    {
     "data": {
      "text/plain": [
       "'treatment'"
      ]
     },
     "execution_count": 2,
     "metadata": {},
     "output_type": "execute_result"
    }
   ],
   "source": [
    "two_groups = make_array('treatment', 'control')\n",
    "np.random.choice(two_groups)"
   ]
  },
  {
   "cell_type": "markdown",
   "id": "a717b4ba",
   "metadata": {},
   "source": [
    "다음은 50% 확률로 treatement 또는 control을 선택한다."
   ]
  },
  {
   "cell_type": "code",
   "execution_count": 3,
   "id": "eba1b04a",
   "metadata": {},
   "outputs": [
    {
     "data": {
      "text/plain": [
       "array(['control', 'treatment', 'control', 'treatment', 'treatment',\n",
       "       'treatment', 'control', 'control', 'treatment', 'treatment'],\n",
       "      dtype='<U9')"
      ]
     },
     "execution_count": 3,
     "metadata": {},
     "output_type": "execute_result"
    }
   ],
   "source": [
    "np.random.choice(two_groups, 10)"
   ]
  },
  {
   "cell_type": "markdown",
   "id": "9bcc5d28",
   "metadata": {},
   "source": [
    "시행 횟수를 늘려 경우를 따질 수도 있다."
   ]
  },
  {
   "cell_type": "markdown",
   "id": "8e6b24e1",
   "metadata": {},
   "source": [
    "# 9.1 Conditional Statements (조건문)"
   ]
  },
  {
   "cell_type": "code",
   "execution_count": 4,
   "id": "8746f677",
   "metadata": {},
   "outputs": [],
   "source": [
    "def sign(x):\n",
    "    \n",
    "    if x > 0:\n",
    "        return 'Positive'"
   ]
  },
  {
   "cell_type": "code",
   "execution_count": 5,
   "id": "54e8eec6",
   "metadata": {},
   "outputs": [
    {
     "data": {
      "text/plain": [
       "'Positive'"
      ]
     },
     "execution_count": 5,
     "metadata": {},
     "output_type": "execute_result"
    }
   ],
   "source": [
    "sign(3)"
   ]
  },
  {
   "cell_type": "markdown",
   "id": "0e11ac0a",
   "metadata": {},
   "source": [
    "sign 함수는 다음과 같이 양수일 경우 positive를 반환한다."
   ]
  },
  {
   "cell_type": "code",
   "execution_count": 6,
   "id": "74c20cbc",
   "metadata": {},
   "outputs": [],
   "source": [
    "sign(-3)"
   ]
  },
  {
   "cell_type": "markdown",
   "id": "1b700fff",
   "metadata": {},
   "source": [
    "하지만 음수에 대해선 리턴되지 않으므로 반환값이 없다."
   ]
  },
  {
   "cell_type": "code",
   "execution_count": 7,
   "id": "82891a4d",
   "metadata": {},
   "outputs": [],
   "source": [
    "def sign(x):\n",
    "    \n",
    "    if x > 0:\n",
    "        return 'Positive'\n",
    "    \n",
    "    elif x < 0:\n",
    "        return 'Negative'"
   ]
  },
  {
   "cell_type": "code",
   "execution_count": 8,
   "id": "9b637e13",
   "metadata": {},
   "outputs": [
    {
     "data": {
      "text/plain": [
       "'Negative'"
      ]
     },
     "execution_count": 8,
     "metadata": {},
     "output_type": "execute_result"
    }
   ],
   "source": [
    "sign(-3)"
   ]
  },
  {
   "cell_type": "code",
   "execution_count": 9,
   "id": "31e9b049",
   "metadata": {},
   "outputs": [],
   "source": [
    "def sign(x):\n",
    "    \n",
    "    if x > 0:\n",
    "        return 'Positive'\n",
    "    \n",
    "    elif x < 0:\n",
    "        return 'Negative'\n",
    "    \n",
    "    elif x == 0:\n",
    "        return 'Neither positive nor negative'"
   ]
  },
  {
   "cell_type": "code",
   "execution_count": 10,
   "id": "b787d98f",
   "metadata": {},
   "outputs": [
    {
     "data": {
      "text/plain": [
       "'Neither positive nor negative'"
      ]
     },
     "execution_count": 10,
     "metadata": {},
     "output_type": "execute_result"
    }
   ],
   "source": [
    "sign(0)"
   ]
  },
  {
   "cell_type": "code",
   "execution_count": 11,
   "id": "c656980b",
   "metadata": {},
   "outputs": [],
   "source": [
    "def sign(x):\n",
    "    \n",
    "    if x > 0:\n",
    "        return 'Positive'\n",
    "    \n",
    "    elif x < 0:\n",
    "        return 'Negative'\n",
    "    \n",
    "    else:\n",
    "        return 'Neither positive nor negative'"
   ]
  },
  {
   "cell_type": "code",
   "execution_count": 12,
   "id": "2a2b9cc5",
   "metadata": {},
   "outputs": [
    {
     "data": {
      "text/plain": [
       "'Neither positive nor negative'"
      ]
     },
     "execution_count": 12,
     "metadata": {},
     "output_type": "execute_result"
    }
   ],
   "source": [
    "sign(0)"
   ]
  },
  {
   "cell_type": "markdown",
   "id": "bcb7343f",
   "metadata": {},
   "source": [
    "## 예제 : 죽음 위 베팅"
   ]
  },
  {
   "cell_type": "code",
   "execution_count": 13,
   "id": "b4ee9f08",
   "metadata": {},
   "outputs": [],
   "source": [
    "def one_bet(x):\n",
    "    \"\"\"Returns my net gain if the die shows x spots\"\"\"\n",
    "    if x <= 2:\n",
    "        return -1\n",
    "    elif x <= 4:\n",
    "        return 0\n",
    "    elif x <= 6:\n",
    "        return 1"
   ]
  },
  {
   "cell_type": "code",
   "execution_count": 14,
   "id": "181da5c5",
   "metadata": {},
   "outputs": [
    {
     "data": {
      "text/plain": [
       "(-1, -1, 0, 0, 1, 1)"
      ]
     },
     "execution_count": 14,
     "metadata": {},
     "output_type": "execute_result"
    }
   ],
   "source": [
    "one_bet(1), one_bet(2), one_bet(3), one_bet (4), one_bet(5), one_bet(6)"
   ]
  },
  {
   "cell_type": "code",
   "execution_count": 15,
   "id": "5e8c5b16",
   "metadata": {},
   "outputs": [
    {
     "data": {
      "text/plain": [
       "1"
      ]
     },
     "execution_count": 15,
     "metadata": {},
     "output_type": "execute_result"
    }
   ],
   "source": [
    "one_bet(np.random.choice(np.arange(1, 7)))"
   ]
  },
  {
   "cell_type": "markdown",
   "id": "1452ec4d",
   "metadata": {},
   "source": [
    "one_bet은 1 ~ 6 사이의 수를 입력 받았을때 각각 -1, -1, 0, 0, 1, 1 을 반환하는 함수이다."
   ]
  },
  {
   "cell_type": "markdown",
   "id": "e2d398b8",
   "metadata": {},
   "source": [
    "# 9.2 Iteration (반복)"
   ]
  },
  {
   "cell_type": "code",
   "execution_count": 16,
   "id": "aceb88ba",
   "metadata": {},
   "outputs": [],
   "source": [
    "def bet_on_one_roll():\n",
    "    \"\"\"Returns my net gain on one bet\"\"\"\n",
    "    x = np.random.choice(np.arange(1, 7))  # roll a die once and record the number of spots\n",
    "    if x <= 2:\n",
    "        return -1\n",
    "    elif x <= 4:\n",
    "        return 0\n",
    "    elif x <= 6:\n",
    "        return 1"
   ]
  },
  {
   "cell_type": "markdown",
   "id": "03eb4ba6",
   "metadata": {},
   "source": [
    "1 ~ 6 사이의 수를 랜덤하게 하나 선택하고, 선택한 숫자에 따라 -1, 0, 1을 반환하는 함수가 있다."
   ]
  },
  {
   "cell_type": "code",
   "execution_count": 25,
   "id": "6d26bf32",
   "metadata": {},
   "outputs": [
    {
     "data": {
      "text/plain": [
       "-1"
      ]
     },
     "execution_count": 25,
     "metadata": {},
     "output_type": "execute_result"
    }
   ],
   "source": [
    "bet_on_one_roll()"
   ]
  },
  {
   "cell_type": "code",
   "execution_count": 28,
   "id": "6899ef51",
   "metadata": {},
   "outputs": [
    {
     "name": "stdout",
     "output_type": "stream",
     "text": [
      "0\n",
      "-1\n",
      "1\n",
      "1\n",
      "-1\n"
     ]
    }
   ],
   "source": [
    "for i in np.arange(5):\n",
    "    print(bet_on_one_roll())"
   ]
  },
  {
   "cell_type": "markdown",
   "id": "81c7c435",
   "metadata": {},
   "source": [
    "### 배열 보강"
   ]
  },
  {
   "cell_type": "code",
   "execution_count": 29,
   "id": "efb95998",
   "metadata": {},
   "outputs": [
    {
     "data": {
      "text/plain": [
       "array(['Cat', 'Dog', 'Another Pet'],\n",
       "      dtype='<U11')"
      ]
     },
     "execution_count": 29,
     "metadata": {},
     "output_type": "execute_result"
    }
   ],
   "source": [
    "pets = make_array('Cat', 'Dog')\n",
    "np.append(pets, 'Another Pet')"
   ]
  },
  {
   "cell_type": "markdown",
   "id": "2b63fd15",
   "metadata": {},
   "source": [
    "pets에 Another Pet을 추가"
   ]
  },
  {
   "cell_type": "code",
   "execution_count": 30,
   "id": "abf38ce3",
   "metadata": {},
   "outputs": [
    {
     "data": {
      "text/plain": [
       "array(['Cat', 'Dog'],\n",
       "      dtype='<U3')"
      ]
     },
     "execution_count": 30,
     "metadata": {},
     "output_type": "execute_result"
    }
   ],
   "source": [
    "pets"
   ]
  },
  {
   "cell_type": "markdown",
   "id": "da212fdb",
   "metadata": {},
   "source": [
    "하지만 pets에 적용되지 않음"
   ]
  },
  {
   "cell_type": "code",
   "execution_count": 31,
   "id": "ea810517",
   "metadata": {},
   "outputs": [
    {
     "data": {
      "text/plain": [
       "array(['Cat', 'Dog', 'Another Pet'],\n",
       "      dtype='<U11')"
      ]
     },
     "execution_count": 31,
     "metadata": {},
     "output_type": "execute_result"
    }
   ],
   "source": [
    "pets = np.append(pets, 'Another Pet')\n",
    "pets"
   ]
  },
  {
   "cell_type": "markdown",
   "id": "8382c7b4",
   "metadata": {},
   "source": [
    "다음과 같이 작성"
   ]
  },
  {
   "cell_type": "markdown",
   "id": "3c702f23",
   "metadata": {},
   "source": [
    "### 예제 : 5 Rolls 베팅"
   ]
  },
  {
   "cell_type": "code",
   "execution_count": 32,
   "id": "e563a1a9",
   "metadata": {},
   "outputs": [
    {
     "data": {
      "text/plain": [
       "array([-1.,  1.,  0.,  1.,  0.])"
      ]
     },
     "execution_count": 32,
     "metadata": {},
     "output_type": "execute_result"
    }
   ],
   "source": [
    "outcomes = make_array()\n",
    "\n",
    "for i in np.arange(5):\n",
    "    outcome_of_bet = bet_on_one_roll()\n",
    "    outcomes = np.append(outcomes, outcome_of_bet)\n",
    "    \n",
    "outcomes"
   ]
  },
  {
   "cell_type": "markdown",
   "id": "5f06bfb1",
   "metadata": {},
   "source": [
    "반복문을 이용하여 5 Rolls 의 결과를 구할 수 있다."
   ]
  },
  {
   "cell_type": "code",
   "execution_count": 33,
   "id": "b248bcab",
   "metadata": {},
   "outputs": [
    {
     "data": {
      "text/plain": [
       "array([ 1., -1.,  1.,  0.,  1.])"
      ]
     },
     "execution_count": 33,
     "metadata": {},
     "output_type": "execute_result"
    }
   ],
   "source": [
    "outcomes = make_array()\n",
    "\n",
    "i = np.arange(5).item(0)\n",
    "outcome_of_bet = bet_on_one_roll()\n",
    "outcomes = np.append(outcomes, outcome_of_bet)\n",
    "\n",
    "i = np.arange(5).item(1)\n",
    "outcome_of_bet = bet_on_one_roll()\n",
    "outcomes = np.append(outcomes, outcome_of_bet)\n",
    "\n",
    "i = np.arange(5).item(2)\n",
    "outcome_of_bet = bet_on_one_roll()\n",
    "outcomes = np.append(outcomes, outcome_of_bet)\n",
    "\n",
    "i = np.arange(5).item(3)\n",
    "outcome_of_bet = bet_on_one_roll()\n",
    "outcomes = np.append(outcomes, outcome_of_bet)\n",
    "\n",
    "i = np.arange(5).item(4)\n",
    "outcome_of_bet = bet_on_one_roll()\n",
    "outcomes = np.append(outcomes, outcome_of_bet)\n",
    "\n",
    "outcomes"
   ]
  },
  {
   "cell_type": "markdown",
   "id": "d4e4af32",
   "metadata": {},
   "source": [
    "다음은 반복문 실행 과정"
   ]
  },
  {
   "cell_type": "code",
   "execution_count": 34,
   "id": "8dc42d54",
   "metadata": {},
   "outputs": [
    {
     "data": {
      "text/plain": [
       "4"
      ]
     },
     "execution_count": 34,
     "metadata": {},
     "output_type": "execute_result"
    }
   ],
   "source": [
    "np.count_nonzero(outcomes)"
   ]
  },
  {
   "cell_type": "markdown",
   "id": "18b90484",
   "metadata": {},
   "source": [
    "nonzero를 통해 0이 아닌 값들을 구할 수 있다."
   ]
  },
  {
   "cell_type": "markdown",
   "id": "e4ad2bf8",
   "metadata": {},
   "source": [
    "### 예제 : 300 Rolls 베팅"
   ]
  },
  {
   "cell_type": "code",
   "execution_count": 35,
   "id": "df8d07d4",
   "metadata": {},
   "outputs": [],
   "source": [
    "outcomes = make_array()\n",
    "\n",
    "for i in np.arange(300):\n",
    "    outcome_of_bet = bet_on_one_roll()\n",
    "    outcomes = np.append(outcomes, outcome_of_bet)"
   ]
  },
  {
   "cell_type": "code",
   "execution_count": 36,
   "id": "37d50051",
   "metadata": {},
   "outputs": [
    {
     "data": {
      "text/plain": [
       "300"
      ]
     },
     "execution_count": 36,
     "metadata": {},
     "output_type": "execute_result"
    }
   ],
   "source": [
    "len(outcomes)"
   ]
  },
  {
   "cell_type": "code",
   "execution_count": 37,
   "id": "0c2146d5",
   "metadata": {},
   "outputs": [
    {
     "data": {
      "image/png": "[encoded data removed]",
      "text/plain": [
       "<Figure size 600x400 with 1 Axes>"
      ]
     },
     "metadata": {},
     "output_type": "display_data"
    }
   ],
   "source": [
    "outcome_table = Table().with_column('Outcome', outcomes)\n",
    "outcome_table.group('Outcome').barh(0)\n",
    "plots.show()"
   ]
  },
  {
   "cell_type": "markdown",
   "id": "8b9ef646",
   "metadata": {},
   "source": [
    "다음은 300번 반복한 결괴이다. 전체적으로 비슷한 그림을 띈다."
   ]
  },
  {
   "cell_type": "markdown",
   "id": "e5e1737b",
   "metadata": {},
   "source": [
    "# 9.3 Simulation"
   ]
  },
  {
   "cell_type": "markdown",
   "id": "ab2c8f9a",
   "metadata": {},
   "source": [
    "### 과정\n",
    "1. 무엇을 시뮬레이션 할 것인가\n",
    "2. 한 값을 시뮬레이션 한다.\n",
    "3. 반복 횟수 지정\n",
    "4. 여러 값 시뮬레이션"
   ]
  },
  {
   "cell_type": "markdown",
   "id": "db7a6ac8",
   "metadata": {},
   "source": [
    "### 예시 : 100번 던져서 Head의 수\n",
    "\n",
    "코인을 던지면 head와 tail이 나오는데, 코인을 100번 던졌을 때 head가 나온 횟수를 구한다.\n",
    "\n",
    "1. 무엇을 시뮬레이션 할 것인가\n",
    "    - 100번 던져서 head가 나오는 수를 구한다.\n",
    "2. 한 값 시뮬레이션\n",
    "    - 코인을 100번 던진다. 그리고 head의 수를 센다."
   ]
  },
  {
   "cell_type": "code",
   "execution_count": 38,
   "id": "df0837ac",
   "metadata": {},
   "outputs": [],
   "source": [
    "coin = make_array('Heads', 'Tails')"
   ]
  },
  {
   "cell_type": "code",
   "execution_count": null,
   "id": "3d88654f",
   "metadata": {},
   "outputs": [
    {
     "data": {
      "text/plain": [
       "array(['Tails', 'Heads', 'Heads', 'Tails', 'Tails', 'Tails', 'Tails',\n",
       "       'Heads', 'Tails', 'Heads'],\n",
       "      dtype='<U5')"
      ]
     },
     "execution_count": 39,
     "metadata": {},
     "output_type": "execute_result"
    }
   ],
   "source": [
    "ten_tosses = np.random.choice(coin, 10)\n",
    "ten_tosses"
   ]
  },
  {
   "cell_type": "code",
   "execution_count": 40,
   "id": "5d5f9526",
   "metadata": {},
   "outputs": [
    {
     "data": {
      "text/plain": [
       "4"
      ]
     },
     "execution_count": 40,
     "metadata": {},
     "output_type": "execute_result"
    }
   ],
   "source": [
    "np.count_nonzero(ten_tosses == 'Heads')"
   ]
  },
  {
   "cell_type": "markdown",
   "id": "719eb3fa",
   "metadata": {},
   "source": [
    "우리의 목표는 100개 중 head의 수를 구하는 것. 따라서 100번 시뮬레이션 해준다."
   ]
  },
  {
   "cell_type": "code",
   "execution_count": 44,
   "id": "5d467c15",
   "metadata": {},
   "outputs": [
    {
     "data": {
      "text/plain": [
       "50"
      ]
     },
     "execution_count": 44,
     "metadata": {},
     "output_type": "execute_result"
    }
   ],
   "source": [
    "outcomes = np.random.choice(coin, 100)\n",
    "num_heads = np.count_nonzero(outcomes == 'Heads')\n",
    "num_heads"
   ]
  },
  {
   "cell_type": "code",
   "execution_count": 45,
   "id": "0714d609",
   "metadata": {},
   "outputs": [],
   "source": [
    "def one_simulated_value():\n",
    "    outcomes = np.random.choice(coin, 100)\n",
    "    return np.count_nonzero(outcomes == 'Heads')"
   ]
  },
  {
   "cell_type": "markdown",
   "id": "5293b97a",
   "metadata": {},
   "source": [
    "다음과 같이 함수로써 정의할 수 있다."
   ]
  },
  {
   "cell_type": "markdown",
   "id": "1a583e15",
   "metadata": {},
   "source": [
    "3. 반복횟수 설정하기\n",
    "- 20000번\n",
    "\n",
    "4. 여러 값 시뮬레이션 하기"
   ]
  },
  {
   "cell_type": "code",
   "execution_count": 46,
   "id": "4dc206a2",
   "metadata": {},
   "outputs": [],
   "source": [
    "num_repetitions = 20000  # number of repetitions\n",
    "\n",
    "heads = make_array() # empty collection array\n",
    "\n",
    "for i in np.arange(num_repetitions):   # repeat the process num_repetitions times\n",
    "    new_value = one_simulated_value()  # simulate one value using the function defined\n",
    "    heads = np.append(heads, new_value) # augment the collection array with the simulated value\n",
    "\n",
    "# That's it! The simulation is done."
   ]
  },
  {
   "cell_type": "code",
   "execution_count": 47,
   "id": "0e7f528d",
   "metadata": {},
   "outputs": [
    {
     "data": {
      "text/plain": [
       "20000"
      ]
     },
     "execution_count": 47,
     "metadata": {},
     "output_type": "execute_result"
    }
   ],
   "source": [
    "len(heads)"
   ]
  },
  {
   "cell_type": "code",
   "execution_count": 48,
   "id": "e366ff08",
   "metadata": {},
   "outputs": [],
   "source": [
    "simulation_results = Table().with_columns(\n",
    "    'Repetition', np.arange(1, num_repetitions + 1),\n",
    "    'Number of Heads', heads\n",
    ")"
   ]
  },
  {
   "cell_type": "code",
   "execution_count": 50,
   "id": "d4ded568",
   "metadata": {},
   "outputs": [
    {
     "data": {
      "text/html": [
       "<table border=\"1\" class=\"dataframe\">\n",
       "    <thead>\n",
       "        <tr>\n",
       "            <th>Repetition</th> <th>Number of Heads</th>\n",
       "        </tr>\n",
       "    </thead>\n",
       "    <tbody>\n",
       "        <tr>\n",
       "            <td>1         </td> <td>49             </td>\n",
       "        </tr>\n",
       "        <tr>\n",
       "            <td>2         </td> <td>58             </td>\n",
       "        </tr>\n",
       "        <tr>\n",
       "            <td>3         </td> <td>54             </td>\n",
       "        </tr>\n",
       "        <tr>\n",
       "            <td>4         </td> <td>51             </td>\n",
       "        </tr>\n",
       "        <tr>\n",
       "            <td>5         </td> <td>43             </td>\n",
       "        </tr>\n",
       "        <tr>\n",
       "            <td>6         </td> <td>52             </td>\n",
       "        </tr>\n",
       "        <tr>\n",
       "            <td>7         </td> <td>42             </td>\n",
       "        </tr>\n",
       "        <tr>\n",
       "            <td>8         </td> <td>55             </td>\n",
       "        </tr>\n",
       "        <tr>\n",
       "            <td>9         </td> <td>58             </td>\n",
       "        </tr>\n",
       "        <tr>\n",
       "            <td>10        </td> <td>50             </td>\n",
       "        </tr>\n",
       "    </tbody>\n",
       "</table>\n",
       "<p>... (19990 rows omitted)</p>"
      ],
      "text/plain": [
       "<IPython.core.display.HTML object>"
      ]
     },
     "metadata": {},
     "output_type": "display_data"
    }
   ],
   "source": [
    "simulation_results.show(10)"
   ]
  },
  {
   "cell_type": "code",
   "execution_count": 51,
   "id": "e2d28285",
   "metadata": {},
   "outputs": [
    {
     "data": {
      "image/png": "[encoded data removed]",
      "text/plain": [
       "<Figure size 600x400 with 1 Axes>"
      ]
     },
     "metadata": {},
     "output_type": "display_data"
    }
   ],
   "source": [
    "simulation_results.hist('Number of Heads', bins = np.arange(30.5, 69.6, 1))\n",
    "plots.show()"
   ]
  },
  {
   "cell_type": "markdown",
   "id": "6e01c225",
   "metadata": {},
   "source": [
    "# 9.4 몬티 홀 문제"
   ]
  },
  {
   "cell_type": "markdown",
   "id": "897171df",
   "metadata": {},
   "source": [
    "3개의 문이 있고 각 문 뒤에는 염소, 염소, 차가 있다. 개방되지 않은 문 3개 중 하나를 선택하고 선택되지 않은 두 문중 염소가 들어있는 문을 플레이어에게 보여준다. 이후 플레이어는 처음 선택한 문과 개방되지 않은 하나의 문을 두고 선택을 유지할지, 번복할지 선택할 수 있다.\n",
    "\n",
    "이때 플레이어는 이 선택을 유지하는 것과 번복 하는 것 중 어느 것이 차를 얻을 확률이 더 높을 것인가?"
   ]
  },
  {
   "cell_type": "code",
   "execution_count": 56,
   "id": "0ac60ba5",
   "metadata": {},
   "outputs": [],
   "source": [
    "goats = make_array('first goat', 'second goat')"
   ]
  },
  {
   "cell_type": "code",
   "execution_count": 59,
   "id": "2ed5ad99",
   "metadata": {},
   "outputs": [],
   "source": [
    "def other_goat(x):\n",
    "    if x == 'first goat':\n",
    "        return 'second goat'\n",
    "    elif x == 'second goat':\n",
    "        return 'first goat'"
   ]
  },
  {
   "cell_type": "code",
   "execution_count": 55,
   "id": "cd7ada3d",
   "metadata": {},
   "outputs": [
    {
     "data": {
      "text/plain": [
       "array(['first goat', 'second goat', 'car'],\n",
       "      dtype='<U11')"
      ]
     },
     "execution_count": 55,
     "metadata": {},
     "output_type": "execute_result"
    }
   ],
   "source": [
    "hidden_behind_doors = np.append(goats, 'car')\n",
    "hidden_behind_doors"
   ]
  },
  {
   "cell_type": "code",
   "execution_count": 60,
   "id": "ec0d1afc",
   "metadata": {},
   "outputs": [],
   "source": [
    "def monty_hall_game():\n",
    "    \"\"\"Return \n",
    "    [contestant's guess, what Monty reveals, what remains behind the other door]\"\"\"\n",
    "    \n",
    "    contestant_guess = np.random.choice(hidden_behind_doors)\n",
    "    \n",
    "    if contestant_guess == 'first goat':\n",
    "        return [contestant_guess, 'second goat', 'car']\n",
    "    \n",
    "    if contestant_guess == 'second goat':\n",
    "        return [contestant_guess, 'first goat', 'car']\n",
    "    \n",
    "    if contestant_guess == 'car':\n",
    "        revealed = np.random.choice(goats)\n",
    "        return [contestant_guess, revealed, other_goat(revealed)]"
   ]
  },
  {
   "cell_type": "code",
   "execution_count": 67,
   "id": "48e2799d",
   "metadata": {},
   "outputs": [
    {
     "data": {
      "text/plain": [
       "['first goat', 'second goat', 'car']"
      ]
     },
     "execution_count": 67,
     "metadata": {},
     "output_type": "execute_result"
    }
   ],
   "source": [
    "monty_hall_game()"
   ]
  },
  {
   "cell_type": "code",
   "execution_count": 68,
   "id": "a14b35eb",
   "metadata": {},
   "outputs": [],
   "source": [
    "# empty collection table\n",
    "games = Table(['Guess', 'Revealed', 'Remaining'])\n",
    "\n",
    "# Play the game 10000 times and \n",
    "# record the results in the table games\n",
    "\n",
    "for i in np.arange(10000):\n",
    "    games.append(monty_hall_game())"
   ]
  },
  {
   "cell_type": "code",
   "execution_count": 69,
   "id": "aace8d53",
   "metadata": {},
   "outputs": [
    {
     "data": {
      "text/html": [
       "<table border=\"1\" class=\"dataframe\">\n",
       "    <thead>\n",
       "        <tr>\n",
       "            <th>Guess</th> <th>Revealed</th> <th>Remaining</th>\n",
       "        </tr>\n",
       "    </thead>\n",
       "    <tbody>\n",
       "        <tr>\n",
       "            <td>car        </td> <td>first goat </td> <td>second goat</td>\n",
       "        </tr>\n",
       "        <tr>\n",
       "            <td>second goat</td> <td>first goat </td> <td>car        </td>\n",
       "        </tr>\n",
       "        <tr>\n",
       "            <td>first goat </td> <td>second goat</td> <td>car        </td>\n",
       "        </tr>\n",
       "        <tr>\n",
       "            <td>first goat </td> <td>second goat</td> <td>car        </td>\n",
       "        </tr>\n",
       "        <tr>\n",
       "            <td>second goat</td> <td>first goat </td> <td>car        </td>\n",
       "        </tr>\n",
       "    </tbody>\n",
       "</table>\n",
       "<p>... (9995 rows omitted)</p>"
      ],
      "text/plain": [
       "<IPython.core.display.HTML object>"
      ]
     },
     "metadata": {},
     "output_type": "display_data"
    }
   ],
   "source": [
    "games.show(5)"
   ]
  },
  {
   "cell_type": "code",
   "execution_count": 70,
   "id": "e3d99aba",
   "metadata": {},
   "outputs": [
    {
     "data": {
      "text/html": [
       "<table border=\"1\" class=\"dataframe\">\n",
       "    <thead>\n",
       "        <tr>\n",
       "            <th>Guess</th> <th>count</th>\n",
       "        </tr>\n",
       "    </thead>\n",
       "    <tbody>\n",
       "        <tr>\n",
       "            <td>car        </td> <td>3317 </td>\n",
       "        </tr>\n",
       "        <tr>\n",
       "            <td>first goat </td> <td>3278 </td>\n",
       "        </tr>\n",
       "        <tr>\n",
       "            <td>second goat</td> <td>3405 </td>\n",
       "        </tr>\n",
       "    </tbody>\n",
       "</table>"
      ],
      "text/plain": [
       "Guess       | count\n",
       "car         | 3317\n",
       "first goat  | 3278\n",
       "second goat | 3405"
      ]
     },
     "execution_count": 70,
     "metadata": {},
     "output_type": "execute_result"
    }
   ],
   "source": [
    "original_choice = games.group('Guess')\n",
    "original_choice"
   ]
  },
  {
   "cell_type": "code",
   "execution_count": 71,
   "id": "7a897c89",
   "metadata": {},
   "outputs": [
    {
     "data": {
      "text/html": [
       "<table border=\"1\" class=\"dataframe\">\n",
       "    <thead>\n",
       "        <tr>\n",
       "            <th>Remaining</th> <th>count</th>\n",
       "        </tr>\n",
       "    </thead>\n",
       "    <tbody>\n",
       "        <tr>\n",
       "            <td>car        </td> <td>6683 </td>\n",
       "        </tr>\n",
       "        <tr>\n",
       "            <td>first goat </td> <td>1642 </td>\n",
       "        </tr>\n",
       "        <tr>\n",
       "            <td>second goat</td> <td>1675 </td>\n",
       "        </tr>\n",
       "    </tbody>\n",
       "</table>"
      ],
      "text/plain": [
       "Remaining   | count\n",
       "car         | 6683\n",
       "first goat  | 1642\n",
       "second goat | 1675"
      ]
     },
     "execution_count": 71,
     "metadata": {},
     "output_type": "execute_result"
    }
   ],
   "source": [
    "remaining_door = games.group('Remaining')\n",
    "remaining_door"
   ]
  },
  {
   "cell_type": "code",
   "execution_count": 72,
   "id": "0dc12f88",
   "metadata": {},
   "outputs": [
    {
     "data": {
      "text/html": [
       "<table border=\"1\" class=\"dataframe\">\n",
       "    <thead>\n",
       "        <tr>\n",
       "            <th>Item</th> <th>Original Door</th> <th>Remaining Door</th>\n",
       "        </tr>\n",
       "    </thead>\n",
       "    <tbody>\n",
       "        <tr>\n",
       "            <td>car        </td> <td>3317         </td> <td>6683          </td>\n",
       "        </tr>\n",
       "        <tr>\n",
       "            <td>first goat </td> <td>3278         </td> <td>1642          </td>\n",
       "        </tr>\n",
       "        <tr>\n",
       "            <td>second goat</td> <td>3405         </td> <td>1675          </td>\n",
       "        </tr>\n",
       "    </tbody>\n",
       "</table>"
      ],
      "text/plain": [
       "Item        | Original Door | Remaining Door\n",
       "car         | 3317          | 6683\n",
       "first goat  | 3278          | 1642\n",
       "second goat | 3405          | 1675"
      ]
     },
     "execution_count": 72,
     "metadata": {},
     "output_type": "execute_result"
    }
   ],
   "source": [
    "joined = original_choice.join('Guess', remaining_door, 'Remaining')\n",
    "combined = joined.relabeled(0, 'Item').relabeled(1, 'Original Door').relabeled(2, 'Remaining Door')\n",
    "combined"
   ]
  },
  {
   "cell_type": "code",
   "execution_count": 73,
   "id": "1c0e2a79",
   "metadata": {},
   "outputs": [
    {
     "data": {
      "image/png": "[encoded data removed]",
      "text/plain": [
       "<Figure size 600x400 with 1 Axes>"
      ]
     },
     "metadata": {},
     "output_type": "display_data"
    }
   ],
   "source": [
    "combined.barh(0)\n",
    "plots.show()"
   ]
  }
 ],
 "metadata": {
  "kernelspec": {
   "display_name": "base",
   "language": "python",
   "name": "python3"
  },
  "language_info": {
   "codemirror_mode": {
    "name": "ipython",
    "version": 3
   },
   "file_extension": ".py",
   "mimetype": "text/x-python",
   "name": "python",
   "nbconvert_exporter": "python",
   "pygments_lexer": "ipython3",
   "version": "3.12.7"
  }
 },
 "nbformat": 4,
 "nbformat_minor": 5
}
